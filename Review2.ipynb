{
 "cells": [
  {
   "cell_type": "markdown",
   "metadata": {},
   "source": [
    "Свои комментарии я буду оставлять в таких ячейках:\n",
    "\n",
    "<div class=\"alert alert-block alert-success\">\n",
    "<b>Хорошо:</b> Все сделано верно\n",
    "</div>\n",
    "\n",
    "<div class=\"alert alert-block alert-warning\">\n",
    "<b>Замечания: </b> Есть что улучшить\n",
    "</div>\n",
    "\n",
    "<div class=\"alert alert-block alert-danger\">\n",
    "<b>Необходимо исправить:</b> Требуется изменить код. С такими ошибками проект не принимается.\n",
    "</div>"
   ]
  },
  {
   "cell_type": "markdown",
   "metadata": {},
   "source": [
    "1.\tКак со временем менялись зарплаты между разными группами (группировка по Department - fire, medicine, police)? (максимальная, медианная, средняя)\n",
    "2.\tКак распределяются базовая оплата, сверхурочная работа и льготы между разными группами? Нужно построить диаграммы по распределению со временем для каждого департамента по базовым, сверхурочным и льготам\n",
    "3.\tКак распределяется бюджет на разные группы (department) с течением времени?\n",
    "4.\tКакое количество людей в каждом департаменте? \n",
    "5.\tКакое количество с разным уровнем дохода? (гистограмма с шагом в 5к) \n",
    "6.\tНа базе линейной регрессии постройте прогноз по тому, какие будут закупке в следующий год по каждому департаменту\n"
   ]
  },
  {
   "cell_type": "code",
   "execution_count": 1,
   "metadata": {},
   "outputs": [],
   "source": [
    "import pandas as pd\n",
    "import numpy as np\n",
    "import matplotlib.pyplot as plt\n",
    "from sklearn.linear_model import LinearRegression"
   ]
  },
  {
   "cell_type": "code",
   "execution_count": 2,
   "metadata": {},
   "outputs": [],
   "source": [
    "#отображение формата сумм\n",
    "pd.options.display.float_format ='{:,.2f}'.format"
   ]
  },
  {
   "cell_type": "code",
   "execution_count": 3,
   "metadata": {},
   "outputs": [
    {
     "name": "stderr",
     "output_type": "stream",
     "text": [
      "/usr/local/Cellar/jupyterlab/3.0.16_1/libexec/lib/python3.9/site-packages/IPython/core/interactiveshell.py:3169: DtypeWarning: Columns (3,4,5,6,12) have mixed types.Specify dtype option on import or set low_memory=False.\n",
      "  has_raised = await self.run_ast_nodes(code_ast.body, cell_name,\n"
     ]
    }
   ],
   "source": [
    "df_salary = pd.read_csv('Salaries.csv')"
   ]
  },
  {
   "cell_type": "code",
   "execution_count": 13,
   "metadata": {},
   "outputs": [],
   "source": [
    "## изменяем тип данных соответствующих столбцов c целью возможности проводить над ними математические операции\n",
    "df_salary['BasePay'] = pd.to_numeric(df_salary['BasePay'], errors='coerce')\n",
    "df_salary['OvertimePay'] = pd.to_numeric(df_salary['OvertimePay'], errors='coerce')\n",
    "df_salary['OtherPay'] = pd.to_numeric(df_salary['OtherPay'], errors='coerce')\n",
    "df_salary['Benefits'] = pd.to_numeric(df_salary['Benefits'], errors='coerce')"
   ]
  },
  {
   "cell_type": "markdown",
   "metadata": {},
   "source": [
    "<div class=\"alert alert-block alert-warning\">\n",
    "<b>Замечания: </b> По идее тут надо бы и с 12 столбцом разобраться\n",
    "</div>"
   ]
  },
  {
   "cell_type": "code",
   "execution_count": 14,
   "metadata": {},
   "outputs": [
    {
     "data": {
      "text/html": [
       "<div>\n",
       "<style scoped>\n",
       "    .dataframe tbody tr th:only-of-type {\n",
       "        vertical-align: middle;\n",
       "    }\n",
       "\n",
       "    .dataframe tbody tr th {\n",
       "        vertical-align: top;\n",
       "    }\n",
       "\n",
       "    .dataframe thead th {\n",
       "        text-align: right;\n",
       "    }\n",
       "</style>\n",
       "<table border=\"1\" class=\"dataframe\">\n",
       "  <thead>\n",
       "    <tr style=\"text-align: right;\">\n",
       "      <th></th>\n",
       "      <th>Id</th>\n",
       "      <th>EmployeeName</th>\n",
       "      <th>JobTitle</th>\n",
       "      <th>BasePay</th>\n",
       "      <th>OvertimePay</th>\n",
       "      <th>OtherPay</th>\n",
       "      <th>Benefits</th>\n",
       "      <th>TotalPay</th>\n",
       "      <th>TotalPayBenefits</th>\n",
       "      <th>Year</th>\n",
       "      <th>Notes</th>\n",
       "      <th>Agency</th>\n",
       "      <th>Status</th>\n",
       "    </tr>\n",
       "  </thead>\n",
       "  <tbody>\n",
       "    <tr>\n",
       "      <th>0</th>\n",
       "      <td>1</td>\n",
       "      <td>NATHANIEL FORD</td>\n",
       "      <td>GENERAL MANAGER-METROPOLITAN TRANSIT AUTHORITY</td>\n",
       "      <td>167,411.18</td>\n",
       "      <td>0.00</td>\n",
       "      <td>400,184.25</td>\n",
       "      <td>NaN</td>\n",
       "      <td>567,595.43</td>\n",
       "      <td>567,595.43</td>\n",
       "      <td>2011</td>\n",
       "      <td>NaN</td>\n",
       "      <td>San Francisco</td>\n",
       "      <td>NaN</td>\n",
       "    </tr>\n",
       "    <tr>\n",
       "      <th>1</th>\n",
       "      <td>2</td>\n",
       "      <td>GARY JIMENEZ</td>\n",
       "      <td>CAPTAIN III (POLICE DEPARTMENT)</td>\n",
       "      <td>155,966.02</td>\n",
       "      <td>245,131.88</td>\n",
       "      <td>137,811.38</td>\n",
       "      <td>NaN</td>\n",
       "      <td>538,909.28</td>\n",
       "      <td>538,909.28</td>\n",
       "      <td>2011</td>\n",
       "      <td>NaN</td>\n",
       "      <td>San Francisco</td>\n",
       "      <td>NaN</td>\n",
       "    </tr>\n",
       "    <tr>\n",
       "      <th>2</th>\n",
       "      <td>3</td>\n",
       "      <td>ALBERT PARDINI</td>\n",
       "      <td>CAPTAIN III (POLICE DEPARTMENT)</td>\n",
       "      <td>212,739.13</td>\n",
       "      <td>106,088.18</td>\n",
       "      <td>16,452.60</td>\n",
       "      <td>NaN</td>\n",
       "      <td>335,279.91</td>\n",
       "      <td>335,279.91</td>\n",
       "      <td>2011</td>\n",
       "      <td>NaN</td>\n",
       "      <td>San Francisco</td>\n",
       "      <td>NaN</td>\n",
       "    </tr>\n",
       "    <tr>\n",
       "      <th>3</th>\n",
       "      <td>4</td>\n",
       "      <td>CHRISTOPHER CHONG</td>\n",
       "      <td>WIRE ROPE CABLE MAINTENANCE MECHANIC</td>\n",
       "      <td>77,916.00</td>\n",
       "      <td>56,120.71</td>\n",
       "      <td>198,306.90</td>\n",
       "      <td>NaN</td>\n",
       "      <td>332,343.61</td>\n",
       "      <td>332,343.61</td>\n",
       "      <td>2011</td>\n",
       "      <td>NaN</td>\n",
       "      <td>San Francisco</td>\n",
       "      <td>NaN</td>\n",
       "    </tr>\n",
       "    <tr>\n",
       "      <th>4</th>\n",
       "      <td>5</td>\n",
       "      <td>PATRICK GARDNER</td>\n",
       "      <td>DEPUTY CHIEF OF DEPARTMENT,(FIRE DEPARTMENT)</td>\n",
       "      <td>134,401.60</td>\n",
       "      <td>9,737.00</td>\n",
       "      <td>182,234.59</td>\n",
       "      <td>NaN</td>\n",
       "      <td>326,373.19</td>\n",
       "      <td>326,373.19</td>\n",
       "      <td>2011</td>\n",
       "      <td>NaN</td>\n",
       "      <td>San Francisco</td>\n",
       "      <td>NaN</td>\n",
       "    </tr>\n",
       "  </tbody>\n",
       "</table>\n",
       "</div>"
      ],
      "text/plain": [
       "   Id       EmployeeName                                        JobTitle  \\\n",
       "0   1     NATHANIEL FORD  GENERAL MANAGER-METROPOLITAN TRANSIT AUTHORITY   \n",
       "1   2       GARY JIMENEZ                 CAPTAIN III (POLICE DEPARTMENT)   \n",
       "2   3     ALBERT PARDINI                 CAPTAIN III (POLICE DEPARTMENT)   \n",
       "3   4  CHRISTOPHER CHONG            WIRE ROPE CABLE MAINTENANCE MECHANIC   \n",
       "4   5    PATRICK GARDNER    DEPUTY CHIEF OF DEPARTMENT,(FIRE DEPARTMENT)   \n",
       "\n",
       "     BasePay  OvertimePay   OtherPay  Benefits   TotalPay  TotalPayBenefits  \\\n",
       "0 167,411.18         0.00 400,184.25       NaN 567,595.43        567,595.43   \n",
       "1 155,966.02   245,131.88 137,811.38       NaN 538,909.28        538,909.28   \n",
       "2 212,739.13   106,088.18  16,452.60       NaN 335,279.91        335,279.91   \n",
       "3  77,916.00    56,120.71 198,306.90       NaN 332,343.61        332,343.61   \n",
       "4 134,401.60     9,737.00 182,234.59       NaN 326,373.19        326,373.19   \n",
       "\n",
       "   Year  Notes         Agency Status  \n",
       "0  2011    NaN  San Francisco    NaN  \n",
       "1  2011    NaN  San Francisco    NaN  \n",
       "2  2011    NaN  San Francisco    NaN  \n",
       "3  2011    NaN  San Francisco    NaN  \n",
       "4  2011    NaN  San Francisco    NaN  "
      ]
     },
     "execution_count": 14,
     "metadata": {},
     "output_type": "execute_result"
    }
   ],
   "source": [
    "df_salary.head()"
   ]
  },
  {
   "cell_type": "code",
   "execution_count": 15,
   "metadata": {},
   "outputs": [
    {
     "data": {
      "text/html": [
       "<div>\n",
       "<style scoped>\n",
       "    .dataframe tbody tr th:only-of-type {\n",
       "        vertical-align: middle;\n",
       "    }\n",
       "\n",
       "    .dataframe tbody tr th {\n",
       "        vertical-align: top;\n",
       "    }\n",
       "\n",
       "    .dataframe thead th {\n",
       "        text-align: right;\n",
       "    }\n",
       "</style>\n",
       "<table border=\"1\" class=\"dataframe\">\n",
       "  <thead>\n",
       "    <tr style=\"text-align: right;\">\n",
       "      <th></th>\n",
       "      <th>Id</th>\n",
       "      <th>EmployeeName</th>\n",
       "      <th>JobTitle</th>\n",
       "      <th>BasePay</th>\n",
       "      <th>OvertimePay</th>\n",
       "      <th>OtherPay</th>\n",
       "      <th>Benefits</th>\n",
       "      <th>TotalPay</th>\n",
       "      <th>TotalPayBenefits</th>\n",
       "      <th>Year</th>\n",
       "    </tr>\n",
       "  </thead>\n",
       "  <tbody>\n",
       "    <tr>\n",
       "      <th>0</th>\n",
       "      <td>1</td>\n",
       "      <td>NATHANIEL FORD</td>\n",
       "      <td>GENERAL MANAGER-METROPOLITAN TRANSIT AUTHORITY</td>\n",
       "      <td>167,411.18</td>\n",
       "      <td>0.00</td>\n",
       "      <td>400,184.25</td>\n",
       "      <td>NaN</td>\n",
       "      <td>567,595.43</td>\n",
       "      <td>567,595.43</td>\n",
       "      <td>2011</td>\n",
       "    </tr>\n",
       "    <tr>\n",
       "      <th>1</th>\n",
       "      <td>2</td>\n",
       "      <td>GARY JIMENEZ</td>\n",
       "      <td>CAPTAIN III (POLICE DEPARTMENT)</td>\n",
       "      <td>155,966.02</td>\n",
       "      <td>245,131.88</td>\n",
       "      <td>137,811.38</td>\n",
       "      <td>NaN</td>\n",
       "      <td>538,909.28</td>\n",
       "      <td>538,909.28</td>\n",
       "      <td>2011</td>\n",
       "    </tr>\n",
       "    <tr>\n",
       "      <th>2</th>\n",
       "      <td>3</td>\n",
       "      <td>ALBERT PARDINI</td>\n",
       "      <td>CAPTAIN III (POLICE DEPARTMENT)</td>\n",
       "      <td>212,739.13</td>\n",
       "      <td>106,088.18</td>\n",
       "      <td>16,452.60</td>\n",
       "      <td>NaN</td>\n",
       "      <td>335,279.91</td>\n",
       "      <td>335,279.91</td>\n",
       "      <td>2011</td>\n",
       "    </tr>\n",
       "    <tr>\n",
       "      <th>3</th>\n",
       "      <td>4</td>\n",
       "      <td>CHRISTOPHER CHONG</td>\n",
       "      <td>WIRE ROPE CABLE MAINTENANCE MECHANIC</td>\n",
       "      <td>77,916.00</td>\n",
       "      <td>56,120.71</td>\n",
       "      <td>198,306.90</td>\n",
       "      <td>NaN</td>\n",
       "      <td>332,343.61</td>\n",
       "      <td>332,343.61</td>\n",
       "      <td>2011</td>\n",
       "    </tr>\n",
       "    <tr>\n",
       "      <th>4</th>\n",
       "      <td>5</td>\n",
       "      <td>PATRICK GARDNER</td>\n",
       "      <td>DEPUTY CHIEF OF DEPARTMENT,(FIRE DEPARTMENT)</td>\n",
       "      <td>134,401.60</td>\n",
       "      <td>9,737.00</td>\n",
       "      <td>182,234.59</td>\n",
       "      <td>NaN</td>\n",
       "      <td>326,373.19</td>\n",
       "      <td>326,373.19</td>\n",
       "      <td>2011</td>\n",
       "    </tr>\n",
       "  </tbody>\n",
       "</table>\n",
       "</div>"
      ],
      "text/plain": [
       "   Id       EmployeeName                                        JobTitle  \\\n",
       "0   1     NATHANIEL FORD  GENERAL MANAGER-METROPOLITAN TRANSIT AUTHORITY   \n",
       "1   2       GARY JIMENEZ                 CAPTAIN III (POLICE DEPARTMENT)   \n",
       "2   3     ALBERT PARDINI                 CAPTAIN III (POLICE DEPARTMENT)   \n",
       "3   4  CHRISTOPHER CHONG            WIRE ROPE CABLE MAINTENANCE MECHANIC   \n",
       "4   5    PATRICK GARDNER    DEPUTY CHIEF OF DEPARTMENT,(FIRE DEPARTMENT)   \n",
       "\n",
       "     BasePay  OvertimePay   OtherPay  Benefits   TotalPay  TotalPayBenefits  \\\n",
       "0 167,411.18         0.00 400,184.25       NaN 567,595.43        567,595.43   \n",
       "1 155,966.02   245,131.88 137,811.38       NaN 538,909.28        538,909.28   \n",
       "2 212,739.13   106,088.18  16,452.60       NaN 335,279.91        335,279.91   \n",
       "3  77,916.00    56,120.71 198,306.90       NaN 332,343.61        332,343.61   \n",
       "4 134,401.60     9,737.00 182,234.59       NaN 326,373.19        326,373.19   \n",
       "\n",
       "   Year  \n",
       "0  2011  \n",
       "1  2011  \n",
       "2  2011  \n",
       "3  2011  \n",
       "4  2011  "
      ]
     },
     "execution_count": 15,
     "metadata": {},
     "output_type": "execute_result"
    }
   ],
   "source": [
    "#удаляем ненужные столбцы\n",
    "df_salary.drop(['Notes', 'Agency', 'Status' ], axis=1 , inplace=True)\n",
    "df_salary.head()"
   ]
  },
  {
   "cell_type": "markdown",
   "metadata": {},
   "source": [
    "<div class=\"alert alert-block alert-warning\">\n",
    "<b>Замечания: </b> Не совсем понятно зачем оставил поля Id и EmployeeName\n",
    "</div>"
   ]
  },
  {
   "cell_type": "code",
   "execution_count": 16,
   "metadata": {},
   "outputs": [
    {
     "name": "stdout",
     "output_type": "stream",
     "text": [
      "<class 'pandas.core.frame.DataFrame'>\n",
      "RangeIndex: 148654 entries, 0 to 148653\n",
      "Data columns (total 10 columns):\n",
      " #   Column            Non-Null Count   Dtype  \n",
      "---  ------            --------------   -----  \n",
      " 0   Id                148654 non-null  int64  \n",
      " 1   EmployeeName      148654 non-null  object \n",
      " 2   JobTitle          148654 non-null  object \n",
      " 3   BasePay           148045 non-null  float64\n",
      " 4   OvertimePay       148650 non-null  float64\n",
      " 5   OtherPay          148650 non-null  float64\n",
      " 6   Benefits          112491 non-null  float64\n",
      " 7   TotalPay          148654 non-null  float64\n",
      " 8   TotalPayBenefits  148654 non-null  float64\n",
      " 9   Year              148654 non-null  int64  \n",
      "dtypes: float64(6), int64(2), object(2)\n",
      "memory usage: 11.3+ MB\n"
     ]
    }
   ],
   "source": [
    "df_salary.info()"
   ]
  },
  {
   "cell_type": "markdown",
   "metadata": {},
   "source": [
    "<div class=\"alert alert-block alert-warning\">\n",
    "<b>Замечания: </b> Рекомендую это поставить в начало после импорта данных\n",
    "</div>"
   ]
  },
  {
   "cell_type": "code",
   "execution_count": 18,
   "metadata": {},
   "outputs": [],
   "source": [
    "df_salary['JobTitle'] = df_salary['JobTitle'].str.lower()\n"
   ]
  },
  {
   "cell_type": "code",
   "execution_count": 39,
   "metadata": {},
   "outputs": [],
   "source": [
    "def check_department(df): \n",
    "    if 'police' in df.JobTitle:\n",
    "        return 'police' \n",
    "    if 'fire' in df.JobTitle:\n",
    "        return 'fire' \n",
    "    if 'medical' in df.JobTitle:\n",
    "        return 'medical'\n",
    "\n",
    "df_salary['department'] = df_salary.apply(check_department,axis=1)"
   ]
  },
  {
   "cell_type": "markdown",
   "metadata": {},
   "source": [
    "<div class=\"alert alert-block alert-success\">\n",
    "Отлично\n",
    "</div>"
   ]
  },
  {
   "cell_type": "code",
   "execution_count": 40,
   "metadata": {},
   "outputs": [
    {
     "data": {
      "text/html": [
       "<div>\n",
       "<style scoped>\n",
       "    .dataframe tbody tr th:only-of-type {\n",
       "        vertical-align: middle;\n",
       "    }\n",
       "\n",
       "    .dataframe tbody tr th {\n",
       "        vertical-align: top;\n",
       "    }\n",
       "\n",
       "    .dataframe thead th {\n",
       "        text-align: right;\n",
       "    }\n",
       "</style>\n",
       "<table border=\"1\" class=\"dataframe\">\n",
       "  <thead>\n",
       "    <tr style=\"text-align: right;\">\n",
       "      <th></th>\n",
       "      <th>Id</th>\n",
       "      <th>EmployeeName</th>\n",
       "      <th>JobTitle</th>\n",
       "      <th>BasePay</th>\n",
       "      <th>OvertimePay</th>\n",
       "      <th>OtherPay</th>\n",
       "      <th>Benefits</th>\n",
       "      <th>TotalPay</th>\n",
       "      <th>TotalPayBenefits</th>\n",
       "      <th>Year</th>\n",
       "      <th>department</th>\n",
       "    </tr>\n",
       "  </thead>\n",
       "  <tbody>\n",
       "    <tr>\n",
       "      <th>0</th>\n",
       "      <td>1</td>\n",
       "      <td>NATHANIEL FORD</td>\n",
       "      <td>general manager-metropolitan transit authority</td>\n",
       "      <td>167,411.18</td>\n",
       "      <td>0.00</td>\n",
       "      <td>400,184.25</td>\n",
       "      <td>NaN</td>\n",
       "      <td>567,595.43</td>\n",
       "      <td>567,595.43</td>\n",
       "      <td>2011</td>\n",
       "      <td>None</td>\n",
       "    </tr>\n",
       "    <tr>\n",
       "      <th>1</th>\n",
       "      <td>2</td>\n",
       "      <td>GARY JIMENEZ</td>\n",
       "      <td>captain iii (police department)</td>\n",
       "      <td>155,966.02</td>\n",
       "      <td>245,131.88</td>\n",
       "      <td>137,811.38</td>\n",
       "      <td>NaN</td>\n",
       "      <td>538,909.28</td>\n",
       "      <td>538,909.28</td>\n",
       "      <td>2011</td>\n",
       "      <td>police</td>\n",
       "    </tr>\n",
       "    <tr>\n",
       "      <th>2</th>\n",
       "      <td>3</td>\n",
       "      <td>ALBERT PARDINI</td>\n",
       "      <td>captain iii (police department)</td>\n",
       "      <td>212,739.13</td>\n",
       "      <td>106,088.18</td>\n",
       "      <td>16,452.60</td>\n",
       "      <td>NaN</td>\n",
       "      <td>335,279.91</td>\n",
       "      <td>335,279.91</td>\n",
       "      <td>2011</td>\n",
       "      <td>police</td>\n",
       "    </tr>\n",
       "    <tr>\n",
       "      <th>3</th>\n",
       "      <td>4</td>\n",
       "      <td>CHRISTOPHER CHONG</td>\n",
       "      <td>wire rope cable maintenance mechanic</td>\n",
       "      <td>77,916.00</td>\n",
       "      <td>56,120.71</td>\n",
       "      <td>198,306.90</td>\n",
       "      <td>NaN</td>\n",
       "      <td>332,343.61</td>\n",
       "      <td>332,343.61</td>\n",
       "      <td>2011</td>\n",
       "      <td>None</td>\n",
       "    </tr>\n",
       "    <tr>\n",
       "      <th>4</th>\n",
       "      <td>5</td>\n",
       "      <td>PATRICK GARDNER</td>\n",
       "      <td>deputy chief of department,(fire department)</td>\n",
       "      <td>134,401.60</td>\n",
       "      <td>9,737.00</td>\n",
       "      <td>182,234.59</td>\n",
       "      <td>NaN</td>\n",
       "      <td>326,373.19</td>\n",
       "      <td>326,373.19</td>\n",
       "      <td>2011</td>\n",
       "      <td>fire</td>\n",
       "    </tr>\n",
       "  </tbody>\n",
       "</table>\n",
       "</div>"
      ],
      "text/plain": [
       "   Id       EmployeeName                                        JobTitle  \\\n",
       "0   1     NATHANIEL FORD  general manager-metropolitan transit authority   \n",
       "1   2       GARY JIMENEZ                 captain iii (police department)   \n",
       "2   3     ALBERT PARDINI                 captain iii (police department)   \n",
       "3   4  CHRISTOPHER CHONG            wire rope cable maintenance mechanic   \n",
       "4   5    PATRICK GARDNER    deputy chief of department,(fire department)   \n",
       "\n",
       "     BasePay  OvertimePay   OtherPay  Benefits   TotalPay  TotalPayBenefits  \\\n",
       "0 167,411.18         0.00 400,184.25       NaN 567,595.43        567,595.43   \n",
       "1 155,966.02   245,131.88 137,811.38       NaN 538,909.28        538,909.28   \n",
       "2 212,739.13   106,088.18  16,452.60       NaN 335,279.91        335,279.91   \n",
       "3  77,916.00    56,120.71 198,306.90       NaN 332,343.61        332,343.61   \n",
       "4 134,401.60     9,737.00 182,234.59       NaN 326,373.19        326,373.19   \n",
       "\n",
       "   Year department  \n",
       "0  2011       None  \n",
       "1  2011     police  \n",
       "2  2011     police  \n",
       "3  2011       None  \n",
       "4  2011       fire  "
      ]
     },
     "execution_count": 40,
     "metadata": {},
     "output_type": "execute_result"
    }
   ],
   "source": [
    "df_salary.head()"
   ]
  },
  {
   "cell_type": "code",
   "execution_count": 42,
   "metadata": {},
   "outputs": [],
   "source": [
    "df_salary_final = df_salary[df_salary['department'].notnull()]"
   ]
  },
  {
   "cell_type": "code",
   "execution_count": 43,
   "metadata": {},
   "outputs": [
    {
     "data": {
      "text/html": [
       "<div>\n",
       "<style scoped>\n",
       "    .dataframe tbody tr th:only-of-type {\n",
       "        vertical-align: middle;\n",
       "    }\n",
       "\n",
       "    .dataframe tbody tr th {\n",
       "        vertical-align: top;\n",
       "    }\n",
       "\n",
       "    .dataframe thead th {\n",
       "        text-align: right;\n",
       "    }\n",
       "</style>\n",
       "<table border=\"1\" class=\"dataframe\">\n",
       "  <thead>\n",
       "    <tr style=\"text-align: right;\">\n",
       "      <th></th>\n",
       "      <th>Id</th>\n",
       "      <th>EmployeeName</th>\n",
       "      <th>JobTitle</th>\n",
       "      <th>BasePay</th>\n",
       "      <th>OvertimePay</th>\n",
       "      <th>OtherPay</th>\n",
       "      <th>Benefits</th>\n",
       "      <th>TotalPay</th>\n",
       "      <th>TotalPayBenefits</th>\n",
       "      <th>Year</th>\n",
       "      <th>department</th>\n",
       "    </tr>\n",
       "  </thead>\n",
       "  <tbody>\n",
       "    <tr>\n",
       "      <th>1</th>\n",
       "      <td>2</td>\n",
       "      <td>GARY JIMENEZ</td>\n",
       "      <td>captain iii (police department)</td>\n",
       "      <td>155,966.02</td>\n",
       "      <td>245,131.88</td>\n",
       "      <td>137,811.38</td>\n",
       "      <td>NaN</td>\n",
       "      <td>538,909.28</td>\n",
       "      <td>538,909.28</td>\n",
       "      <td>2011</td>\n",
       "      <td>police</td>\n",
       "    </tr>\n",
       "    <tr>\n",
       "      <th>2</th>\n",
       "      <td>3</td>\n",
       "      <td>ALBERT PARDINI</td>\n",
       "      <td>captain iii (police department)</td>\n",
       "      <td>212,739.13</td>\n",
       "      <td>106,088.18</td>\n",
       "      <td>16,452.60</td>\n",
       "      <td>NaN</td>\n",
       "      <td>335,279.91</td>\n",
       "      <td>335,279.91</td>\n",
       "      <td>2011</td>\n",
       "      <td>police</td>\n",
       "    </tr>\n",
       "    <tr>\n",
       "      <th>4</th>\n",
       "      <td>5</td>\n",
       "      <td>PATRICK GARDNER</td>\n",
       "      <td>deputy chief of department,(fire department)</td>\n",
       "      <td>134,401.60</td>\n",
       "      <td>9,737.00</td>\n",
       "      <td>182,234.59</td>\n",
       "      <td>NaN</td>\n",
       "      <td>326,373.19</td>\n",
       "      <td>326,373.19</td>\n",
       "      <td>2011</td>\n",
       "      <td>fire</td>\n",
       "    </tr>\n",
       "    <tr>\n",
       "      <th>6</th>\n",
       "      <td>7</td>\n",
       "      <td>ALSON LEE</td>\n",
       "      <td>battalion chief, (fire department)</td>\n",
       "      <td>92,492.01</td>\n",
       "      <td>89,062.90</td>\n",
       "      <td>134,426.14</td>\n",
       "      <td>NaN</td>\n",
       "      <td>315,981.05</td>\n",
       "      <td>315,981.05</td>\n",
       "      <td>2011</td>\n",
       "      <td>fire</td>\n",
       "    </tr>\n",
       "    <tr>\n",
       "      <th>8</th>\n",
       "      <td>9</td>\n",
       "      <td>MICHAEL MORRIS</td>\n",
       "      <td>battalion chief, (fire department)</td>\n",
       "      <td>176,932.64</td>\n",
       "      <td>86,362.68</td>\n",
       "      <td>40,132.23</td>\n",
       "      <td>NaN</td>\n",
       "      <td>303,427.55</td>\n",
       "      <td>303,427.55</td>\n",
       "      <td>2011</td>\n",
       "      <td>fire</td>\n",
       "    </tr>\n",
       "  </tbody>\n",
       "</table>\n",
       "</div>"
      ],
      "text/plain": [
       "   Id     EmployeeName                                      JobTitle  \\\n",
       "1   2     GARY JIMENEZ               captain iii (police department)   \n",
       "2   3   ALBERT PARDINI               captain iii (police department)   \n",
       "4   5  PATRICK GARDNER  deputy chief of department,(fire department)   \n",
       "6   7        ALSON LEE            battalion chief, (fire department)   \n",
       "8   9   MICHAEL MORRIS            battalion chief, (fire department)   \n",
       "\n",
       "     BasePay  OvertimePay   OtherPay  Benefits   TotalPay  TotalPayBenefits  \\\n",
       "1 155,966.02   245,131.88 137,811.38       NaN 538,909.28        538,909.28   \n",
       "2 212,739.13   106,088.18  16,452.60       NaN 335,279.91        335,279.91   \n",
       "4 134,401.60     9,737.00 182,234.59       NaN 326,373.19        326,373.19   \n",
       "6  92,492.01    89,062.90 134,426.14       NaN 315,981.05        315,981.05   \n",
       "8 176,932.64    86,362.68  40,132.23       NaN 303,427.55        303,427.55   \n",
       "\n",
       "   Year department  \n",
       "1  2011     police  \n",
       "2  2011     police  \n",
       "4  2011       fire  \n",
       "6  2011       fire  \n",
       "8  2011       fire  "
      ]
     },
     "execution_count": 43,
     "metadata": {},
     "output_type": "execute_result"
    }
   ],
   "source": [
    "df_salary_final.head()"
   ]
  },
  {
   "cell_type": "code",
   "execution_count": 44,
   "metadata": {},
   "outputs": [
    {
     "name": "stdout",
     "output_type": "stream",
     "text": [
      "<class 'pandas.core.frame.DataFrame'>\n",
      "Int64Index: 15767 entries, 1 to 148561\n",
      "Data columns (total 11 columns):\n",
      " #   Column            Non-Null Count  Dtype  \n",
      "---  ------            --------------  -----  \n",
      " 0   Id                15767 non-null  int64  \n",
      " 1   EmployeeName      15767 non-null  object \n",
      " 2   JobTitle          15767 non-null  object \n",
      " 3   BasePay           15722 non-null  float64\n",
      " 4   OvertimePay       15767 non-null  float64\n",
      " 5   OtherPay          15767 non-null  float64\n",
      " 6   Benefits          11365 non-null  float64\n",
      " 7   TotalPay          15767 non-null  float64\n",
      " 8   TotalPayBenefits  15767 non-null  float64\n",
      " 9   Year              15767 non-null  int64  \n",
      " 10  department        15767 non-null  object \n",
      "dtypes: float64(6), int64(2), object(3)\n",
      "memory usage: 1.4+ MB\n"
     ]
    }
   ],
   "source": [
    "df_salary_final.info()"
   ]
  },
  {
   "cell_type": "markdown",
   "metadata": {},
   "source": [
    "<div class=\"alert alert-block alert-danger\">\n",
    "Тут не хватает вывода по итогам предобработки данных\n",
    "\n",
    "- 1\n",
    "- 2\n",
    "- N-ое\n",
    "</div>"
   ]
  },
  {
   "cell_type": "markdown",
   "metadata": {},
   "source": [
    "<font color='green'> \n",
    "Ответ на вопрос №1:\n",
    "Как со временем менялись зарплаты между разными группами (группировка по Department - fire, medicine, police)? \n",
    "(максимальная, медианная, средняя)\n",
    "</font>\n",
    "\n"
   ]
  },
  {
   "cell_type": "code",
   "execution_count": 45,
   "metadata": {},
   "outputs": [
    {
     "data": {
      "text/html": [
       "<div>\n",
       "<style scoped>\n",
       "    .dataframe tbody tr th:only-of-type {\n",
       "        vertical-align: middle;\n",
       "    }\n",
       "\n",
       "    .dataframe tbody tr th {\n",
       "        vertical-align: top;\n",
       "    }\n",
       "\n",
       "    .dataframe thead th {\n",
       "        text-align: right;\n",
       "    }\n",
       "</style>\n",
       "<table border=\"1\" class=\"dataframe\">\n",
       "  <thead>\n",
       "    <tr style=\"text-align: right;\">\n",
       "      <th></th>\n",
       "      <th></th>\n",
       "      <th>max</th>\n",
       "      <th>mean</th>\n",
       "      <th>median</th>\n",
       "    </tr>\n",
       "    <tr>\n",
       "      <th>department</th>\n",
       "      <th>Year</th>\n",
       "      <th></th>\n",
       "      <th></th>\n",
       "      <th></th>\n",
       "    </tr>\n",
       "  </thead>\n",
       "  <tbody>\n",
       "    <tr>\n",
       "      <th rowspan=\"4\" valign=\"top\">fire</th>\n",
       "      <th>2011</th>\n",
       "      <td>285,262.00</td>\n",
       "      <td>106,549.27</td>\n",
       "      <td>105,934.67</td>\n",
       "    </tr>\n",
       "    <tr>\n",
       "      <th>2012</th>\n",
       "      <td>296,943.01</td>\n",
       "      <td>109,222.65</td>\n",
       "      <td>110,847.10</td>\n",
       "    </tr>\n",
       "    <tr>\n",
       "      <th>2013</th>\n",
       "      <td>313,686.01</td>\n",
       "      <td>116,159.28</td>\n",
       "      <td>116,956.71</td>\n",
       "    </tr>\n",
       "    <tr>\n",
       "      <th>2014</th>\n",
       "      <td>302,068.00</td>\n",
       "      <td>108,179.29</td>\n",
       "      <td>112,703.72</td>\n",
       "    </tr>\n",
       "    <tr>\n",
       "      <th rowspan=\"4\" valign=\"top\">medical</th>\n",
       "      <th>2011</th>\n",
       "      <td>257,510.59</td>\n",
       "      <td>57,342.25</td>\n",
       "      <td>53,822.61</td>\n",
       "    </tr>\n",
       "    <tr>\n",
       "      <th>2012</th>\n",
       "      <td>254,878.82</td>\n",
       "      <td>53,843.10</td>\n",
       "      <td>56,968.71</td>\n",
       "    </tr>\n",
       "    <tr>\n",
       "      <th>2013</th>\n",
       "      <td>271,831.50</td>\n",
       "      <td>55,630.66</td>\n",
       "      <td>59,834.00</td>\n",
       "    </tr>\n",
       "    <tr>\n",
       "      <th>2014</th>\n",
       "      <td>268,946.02</td>\n",
       "      <td>56,816.50</td>\n",
       "      <td>60,364.97</td>\n",
       "    </tr>\n",
       "    <tr>\n",
       "      <th rowspan=\"4\" valign=\"top\">police</th>\n",
       "      <th>2011</th>\n",
       "      <td>261,717.60</td>\n",
       "      <td>105,981.21</td>\n",
       "      <td>111,976.14</td>\n",
       "    </tr>\n",
       "    <tr>\n",
       "      <th>2012</th>\n",
       "      <td>302,578.00</td>\n",
       "      <td>96,229.01</td>\n",
       "      <td>111,549.69</td>\n",
       "    </tr>\n",
       "    <tr>\n",
       "      <th>2013</th>\n",
       "      <td>319,275.01</td>\n",
       "      <td>102,405.84</td>\n",
       "      <td>118,618.94</td>\n",
       "    </tr>\n",
       "    <tr>\n",
       "      <th>2014</th>\n",
       "      <td>307,450.04</td>\n",
       "      <td>93,872.06</td>\n",
       "      <td>112,164.03</td>\n",
       "    </tr>\n",
       "  </tbody>\n",
       "</table>\n",
       "</div>"
      ],
      "text/plain": [
       "                       max       mean     median\n",
       "department Year                                 \n",
       "fire       2011 285,262.00 106,549.27 105,934.67\n",
       "           2012 296,943.01 109,222.65 110,847.10\n",
       "           2013 313,686.01 116,159.28 116,956.71\n",
       "           2014 302,068.00 108,179.29 112,703.72\n",
       "medical    2011 257,510.59  57,342.25  53,822.61\n",
       "           2012 254,878.82  53,843.10  56,968.71\n",
       "           2013 271,831.50  55,630.66  59,834.00\n",
       "           2014 268,946.02  56,816.50  60,364.97\n",
       "police     2011 261,717.60 105,981.21 111,976.14\n",
       "           2012 302,578.00  96,229.01 111,549.69\n",
       "           2013 319,275.01 102,405.84 118,618.94\n",
       "           2014 307,450.04  93,872.06 112,164.03"
      ]
     },
     "execution_count": 45,
     "metadata": {},
     "output_type": "execute_result"
    }
   ],
   "source": [
    "df_salary_final.groupby(['department', 'Year']).BasePay.agg(['max', 'mean', 'median'])"
   ]
  },
  {
   "cell_type": "markdown",
   "metadata": {},
   "source": [
    "<font color='green'> \n",
    "Ответ на вопрос №2: Как распределяются базовая оплата, сверхурочная работа и льготы между разными группами?\n",
    "Нужно построить диаграммы по распределению со временем для каждого департамента по базовым, сверхурочным и льготам\n",
    "</font>"
   ]
  },
  {
   "cell_type": "markdown",
   "metadata": {},
   "source": [
    "Вариант 1. Построить 3 диаграмммы в каждой будут все департаменты, но различный стобец BasePay, OvertimePay, Benefits"
   ]
  },
  {
   "cell_type": "code",
   "execution_count": 46,
   "metadata": {},
   "outputs": [],
   "source": [
    "a = df_salary_final.groupby(['department', 'Year']).BasePay.sum().unstack()\n",
    "b = df_salary_final.groupby(['department', 'Year']).OvertimePay.sum().unstack()\n",
    "c = df_salary_final.groupby(['department', 'Year']).Benefits.sum().unstack()"
   ]
  },
  {
   "cell_type": "code",
   "execution_count": 47,
   "metadata": {},
   "outputs": [
    {
     "data": {
      "image/png": "[encoded data removed]",
      "text/plain": [
       "<Figure size 432x288 with 1 Axes>"
      ]
     },
     "metadata": {
      "needs_background": "light"
     },
     "output_type": "display_data"
    },
    {
     "data": {
      "image/png": "[encoded data removed]",
      "text/plain": [
       "<Figure size 432x288 with 1 Axes>"
      ]
     },
     "metadata": {
      "needs_background": "light"
     },
     "output_type": "display_data"
    },
    {
     "data": {
      "image/png": "[encoded data removed]",
      "text/plain": [
       "<Figure size 432x288 with 1 Axes>"
      ]
     },
     "metadata": {
      "needs_background": "light"
     },
     "output_type": "display_data"
    }
   ],
   "source": [
    "a.plot(kind='bar')\n",
    "plt.xlabel('department')\n",
    "plt.ylabel('BasePay')\n",
    "plt.title('BasePay')\n",
    "\n",
    "\n",
    "b.plot(kind='bar')\n",
    "plt.xlabel('department')\n",
    "plt.ylabel('OvertimePay')\n",
    "plt.title('OvertimePay')\n",
    "\n",
    "\n",
    "c.plot(kind='bar')\n",
    "plt.xlabel('department')\n",
    "plt.ylabel('Benefits')\n",
    "plt.title('Benefits')\n",
    "plt.show()"
   ]
  },
  {
   "cell_type": "markdown",
   "metadata": {},
   "source": [
    "Вариант 2. Объединить в один график весь запрос"
   ]
  },
  {
   "cell_type": "code",
   "execution_count": 51,
   "metadata": {},
   "outputs": [
    {
     "name": "stderr",
     "output_type": "stream",
     "text": [
      "<ipython-input-51-ea14a8eec37f>:1: FutureWarning: Indexing with multiple keys (implicitly converted to a tuple of keys) will be deprecated, use a list instead.\n",
      "  b = df_salary_final.groupby(['department', 'Year'])['BasePay', 'OvertimePay','Benefits'].sum()\n"
     ]
    },
    {
     "data": {
      "text/html": [
       "<div>\n",
       "<style scoped>\n",
       "    .dataframe tbody tr th:only-of-type {\n",
       "        vertical-align: middle;\n",
       "    }\n",
       "\n",
       "    .dataframe tbody tr th {\n",
       "        vertical-align: top;\n",
       "    }\n",
       "\n",
       "    .dataframe thead th {\n",
       "        text-align: right;\n",
       "    }\n",
       "</style>\n",
       "<table border=\"1\" class=\"dataframe\">\n",
       "  <thead>\n",
       "    <tr style=\"text-align: right;\">\n",
       "      <th></th>\n",
       "      <th></th>\n",
       "      <th>BasePay</th>\n",
       "      <th>OvertimePay</th>\n",
       "      <th>Benefits</th>\n",
       "    </tr>\n",
       "    <tr>\n",
       "      <th>department</th>\n",
       "      <th>Year</th>\n",
       "      <th></th>\n",
       "      <th></th>\n",
       "      <th></th>\n",
       "    </tr>\n",
       "  </thead>\n",
       "  <tbody>\n",
       "    <tr>\n",
       "      <th rowspan=\"4\" valign=\"top\">fire</th>\n",
       "      <th>2011</th>\n",
       "      <td>155,455,383.78</td>\n",
       "      <td>31,898,485.78</td>\n",
       "      <td>0.00</td>\n",
       "    </tr>\n",
       "    <tr>\n",
       "      <th>2012</th>\n",
       "      <td>158,263,615.25</td>\n",
       "      <td>40,499,542.12</td>\n",
       "      <td>52,859,030.29</td>\n",
       "    </tr>\n",
       "    <tr>\n",
       "      <th>2013</th>\n",
       "      <td>167,153,208.63</td>\n",
       "      <td>43,978,891.99</td>\n",
       "      <td>56,620,946.76</td>\n",
       "    </tr>\n",
       "    <tr>\n",
       "      <th>2014</th>\n",
       "      <td>163,458,903.42</td>\n",
       "      <td>38,625,129.76</td>\n",
       "      <td>60,707,949.89</td>\n",
       "    </tr>\n",
       "    <tr>\n",
       "      <th rowspan=\"4\" valign=\"top\">medical</th>\n",
       "      <th>2011</th>\n",
       "      <td>24,714,507.64</td>\n",
       "      <td>1,135,499.38</td>\n",
       "      <td>0.00</td>\n",
       "    </tr>\n",
       "    <tr>\n",
       "      <th>2012</th>\n",
       "      <td>21,160,338.69</td>\n",
       "      <td>516,335.45</td>\n",
       "      <td>9,703,275.84</td>\n",
       "    </tr>\n",
       "    <tr>\n",
       "      <th>2013</th>\n",
       "      <td>23,643,032.57</td>\n",
       "      <td>520,985.76</td>\n",
       "      <td>9,108,516.82</td>\n",
       "    </tr>\n",
       "    <tr>\n",
       "      <th>2014</th>\n",
       "      <td>24,885,626.79</td>\n",
       "      <td>544,616.97</td>\n",
       "      <td>10,195,686.16</td>\n",
       "    </tr>\n",
       "    <tr>\n",
       "      <th rowspan=\"4\" valign=\"top\">police</th>\n",
       "      <th>2011</th>\n",
       "      <td>266,224,811.51</td>\n",
       "      <td>22,225,776.17</td>\n",
       "      <td>0.00</td>\n",
       "    </tr>\n",
       "    <tr>\n",
       "      <th>2012</th>\n",
       "      <td>184,663,462.87</td>\n",
       "      <td>24,739,129.82</td>\n",
       "      <td>57,429,170.22</td>\n",
       "    </tr>\n",
       "    <tr>\n",
       "      <th>2013</th>\n",
       "      <td>188,938,768.37</td>\n",
       "      <td>24,573,767.45</td>\n",
       "      <td>59,201,909.16</td>\n",
       "    </tr>\n",
       "    <tr>\n",
       "      <th>2014</th>\n",
       "      <td>178,450,786.62</td>\n",
       "      <td>26,684,074.32</td>\n",
       "      <td>61,511,276.28</td>\n",
       "    </tr>\n",
       "  </tbody>\n",
       "</table>\n",
       "</div>"
      ],
      "text/plain": [
       "                       BasePay   OvertimePay      Benefits\n",
       "department Year                                           \n",
       "fire       2011 155,455,383.78 31,898,485.78          0.00\n",
       "           2012 158,263,615.25 40,499,542.12 52,859,030.29\n",
       "           2013 167,153,208.63 43,978,891.99 56,620,946.76\n",
       "           2014 163,458,903.42 38,625,129.76 60,707,949.89\n",
       "medical    2011  24,714,507.64  1,135,499.38          0.00\n",
       "           2012  21,160,338.69    516,335.45  9,703,275.84\n",
       "           2013  23,643,032.57    520,985.76  9,108,516.82\n",
       "           2014  24,885,626.79    544,616.97 10,195,686.16\n",
       "police     2011 266,224,811.51 22,225,776.17          0.00\n",
       "           2012 184,663,462.87 24,739,129.82 57,429,170.22\n",
       "           2013 188,938,768.37 24,573,767.45 59,201,909.16\n",
       "           2014 178,450,786.62 26,684,074.32 61,511,276.28"
      ]
     },
     "execution_count": 51,
     "metadata": {},
     "output_type": "execute_result"
    }
   ],
   "source": [
    "b = df_salary_final.groupby(['department', 'Year'])['BasePay', 'OvertimePay','Benefits'].sum()\n",
    "b"
   ]
  },
  {
   "cell_type": "markdown",
   "metadata": {},
   "source": [
    "<div class=\"alert alert-block alert-danger\">\n",
    "Ошибку можно устранить так\n",
    "    \n",
    "    \n",
    "[['BasePay', 'OvertimePay','Benefits']]\n",
    "</div>"
   ]
  },
  {
   "cell_type": "code",
   "execution_count": 52,
   "metadata": {},
   "outputs": [
    {
     "data": {
      "image/png": "[encoded data removed]",
      "text/plain": [
       "<Figure size 720x360 with 1 Axes>"
      ]
     },
     "metadata": {
      "needs_background": "light"
     },
     "output_type": "display_data"
    }
   ],
   "source": [
    "b.plot(kind='bar', stacked=True, figsize=(10, 5))\n",
    "plt.show()"
   ]
  },
  {
   "cell_type": "markdown",
   "metadata": {},
   "source": [
    "Вариант 3 посроение диаграмм по каждому департаменту отдельно"
   ]
  },
  {
   "cell_type": "code",
   "execution_count": 53,
   "metadata": {},
   "outputs": [
    {
     "name": "stderr",
     "output_type": "stream",
     "text": [
      "<ipython-input-53-ed4cf0d43fa4>:4: FutureWarning: Indexing with multiple keys (implicitly converted to a tuple of keys) will be deprecated, use a list instead.\n",
      "  f_p = df_p.groupby('Year')['BasePay', 'OvertimePay','Benefits'].sum()\n",
      "<ipython-input-53-ed4cf0d43fa4>:5: FutureWarning: Indexing with multiple keys (implicitly converted to a tuple of keys) will be deprecated, use a list instead.\n",
      "  f_m = df_m.groupby('Year')['BasePay', 'OvertimePay','Benefits'].sum()\n",
      "<ipython-input-53-ed4cf0d43fa4>:6: FutureWarning: Indexing with multiple keys (implicitly converted to a tuple of keys) will be deprecated, use a list instead.\n",
      "  f_f = df_f.groupby('Year')['BasePay', 'OvertimePay','Benefits'].sum()\n"
     ]
    }
   ],
   "source": [
    "df_p = df_salary_final[df_salary_final['department'] == 'police']\n",
    "df_m = df_salary_final[df_salary_final['department'] == 'medical']\n",
    "df_f = df_salary_final[df_salary_final['department'] == 'fire']\n",
    "f_p = df_p.groupby('Year')['BasePay', 'OvertimePay','Benefits'].sum()\n",
    "f_m = df_m.groupby('Year')['BasePay', 'OvertimePay','Benefits'].sum()\n",
    "f_f = df_f.groupby('Year')['BasePay', 'OvertimePay','Benefits'].sum()"
   ]
  },
  {
   "cell_type": "markdown",
   "metadata": {},
   "source": [
    "<div class=\"alert alert-block alert-danger\">\n",
    "Ошибку можно устранить так\n",
    "    \n",
    "    \n",
    "[['BasePay', 'OvertimePay','Benefits']]\n",
    "</div>"
   ]
  },
  {
   "cell_type": "code",
   "execution_count": 54,
   "metadata": {},
   "outputs": [
    {
     "data": {
      "image/png": "[encoded data removed]",
      "text/plain": [
       "<Figure size 720x360 with 1 Axes>"
      ]
     },
     "metadata": {
      "needs_background": "light"
     },
     "output_type": "display_data"
    },
    {
     "data": {
      "image/png": "[encoded data removed]",
      "text/plain": [
       "<Figure size 720x360 with 1 Axes>"
      ]
     },
     "metadata": {
      "needs_background": "light"
     },
     "output_type": "display_data"
    },
    {
     "data": {
      "image/png": "[encoded data removed]",
      "text/plain": [
       "<Figure size 720x360 with 1 Axes>"
      ]
     },
     "metadata": {
      "needs_background": "light"
     },
     "output_type": "display_data"
    }
   ],
   "source": [
    "f_p.plot(kind='bar', stacked=True, figsize=(10, 5))\n",
    "plt.title('Police')\n",
    "\n",
    "\n",
    "f_m.plot(kind='bar', stacked=True, figsize=(10, 5))\n",
    "plt.title('Medical')\n",
    "\n",
    "\n",
    "f_f.plot(kind='bar', stacked=True, figsize=(10, 5))\n",
    "plt.title('Fire')\n",
    "plt.show()"
   ]
  },
  {
   "cell_type": "markdown",
   "metadata": {},
   "source": [
    "<div class=\"alert alert-block alert-success\">\n",
    "Наглядно, хорошо\n",
    "</div>"
   ]
  },
  {
   "cell_type": "markdown",
   "metadata": {},
   "source": [
    "<font color='green'>\n",
    "Ответ на вопрос №3: Как распределяется бюджет на разные группы (department) с течением времени?\n",
    "</font>"
   ]
  },
  {
   "cell_type": "code",
   "execution_count": 56,
   "metadata": {},
   "outputs": [
    {
     "data": {
      "text/html": [
       "<div>\n",
       "<style scoped>\n",
       "    .dataframe tbody tr th:only-of-type {\n",
       "        vertical-align: middle;\n",
       "    }\n",
       "\n",
       "    .dataframe tbody tr th {\n",
       "        vertical-align: top;\n",
       "    }\n",
       "\n",
       "    .dataframe thead th {\n",
       "        text-align: right;\n",
       "    }\n",
       "</style>\n",
       "<table border=\"1\" class=\"dataframe\">\n",
       "  <thead>\n",
       "    <tr style=\"text-align: right;\">\n",
       "      <th>Year</th>\n",
       "      <th>2011</th>\n",
       "      <th>2012</th>\n",
       "      <th>2013</th>\n",
       "      <th>2014</th>\n",
       "    </tr>\n",
       "    <tr>\n",
       "      <th>department</th>\n",
       "      <th></th>\n",
       "      <th></th>\n",
       "      <th></th>\n",
       "      <th></th>\n",
       "    </tr>\n",
       "  </thead>\n",
       "  <tbody>\n",
       "    <tr>\n",
       "      <th>fire</th>\n",
       "      <td>211,563,265.94</td>\n",
       "      <td>220,951,340.92</td>\n",
       "      <td>234,417,416.73</td>\n",
       "      <td>224,828,867.39</td>\n",
       "    </tr>\n",
       "    <tr>\n",
       "      <th>medical</th>\n",
       "      <td>26,921,486.59</td>\n",
       "      <td>22,129,406.34</td>\n",
       "      <td>24,673,510.08</td>\n",
       "      <td>25,937,858.19</td>\n",
       "    </tr>\n",
       "    <tr>\n",
       "      <th>police</th>\n",
       "      <td>319,268,095.21</td>\n",
       "      <td>223,101,452.92</td>\n",
       "      <td>229,526,362.43</td>\n",
       "      <td>220,500,252.80</td>\n",
       "    </tr>\n",
       "  </tbody>\n",
       "</table>\n",
       "</div>"
      ],
      "text/plain": [
       "Year                 2011           2012           2013           2014\n",
       "department                                                            \n",
       "fire       211,563,265.94 220,951,340.92 234,417,416.73 224,828,867.39\n",
       "medical     26,921,486.59  22,129,406.34  24,673,510.08  25,937,858.19\n",
       "police     319,268,095.21 223,101,452.92 229,526,362.43 220,500,252.80"
      ]
     },
     "execution_count": 56,
     "metadata": {},
     "output_type": "execute_result"
    }
   ],
   "source": [
    "df_salary_final.groupby(['department', 'Year']).TotalPay.sum().unstack()"
   ]
  },
  {
   "cell_type": "markdown",
   "metadata": {},
   "source": [
    "<font color='green'>\n",
    "Ответ на вопрос №4: Какое количество людей в каждом департаменте?\n",
    "</font>"
   ]
  },
  {
   "cell_type": "code",
   "execution_count": 58,
   "metadata": {},
   "outputs": [
    {
     "data": {
      "text/plain": [
       "department\n",
       "fire       5879\n",
       "medical    1687\n",
       "police     8201\n",
       "Name: EmployeeName, dtype: int64"
      ]
     },
     "execution_count": 58,
     "metadata": {},
     "output_type": "execute_result"
    }
   ],
   "source": [
    "df_salary_final.groupby(['department']).EmployeeName.count()"
   ]
  },
  {
   "cell_type": "markdown",
   "metadata": {},
   "source": [
    "<font color='green'>\n",
    "Ответ на вопрос №5: Какое количество с разным уровнем дохода? (гистограмма с шагом в 5к)\n",
    "</font>"
   ]
  },
  {
   "cell_type": "code",
   "execution_count": 59,
   "metadata": {},
   "outputs": [
    {
     "data": {
      "text/plain": [
       "107.781856"
      ]
     },
     "execution_count": 59,
     "metadata": {},
     "output_type": "execute_result"
    }
   ],
   "source": [
    "#Определим количество групп с шагом 5к\n",
    "df_salary_final['TotalPay'].max() / 5000"
   ]
  },
  {
   "cell_type": "markdown",
   "metadata": {},
   "source": [
    "<div class=\"alert alert-block alert-warning\">\n",
    "Это лучше заменить на что-то типа\n",
    "    \n",
    "round(df_salary_final['TotalPay'].max() / 5000) и передать в качестве параметра в график\n",
    "</div>"
   ]
  },
  {
   "cell_type": "code",
   "execution_count": 60,
   "metadata": {},
   "outputs": [
    {
     "data": {
      "image/png": "[encoded data removed]",
      "text/plain": [
       "<Figure size 432x288 with 1 Axes>"
      ]
     },
     "metadata": {
      "needs_background": "light"
     },
     "output_type": "display_data"
    }
   ],
   "source": [
    "#построим гистограмму\n",
    "from pylab import rcParams\n",
    "hist_info = plt.hist(df_salary_final['TotalPay'], bins=108, edgecolor='black')\n",
    "rcParams['figure.figsize'] = 15,10\n",
    "\n",
    "plt.show()"
   ]
  },
  {
   "cell_type": "markdown",
   "metadata": {},
   "source": [
    "<font color='green'>\n",
    "Ответ на вопрос №6: На базе линейной регрессии постройте прогноз по тому, какие будут закупки в следующий год по каждому департаменту\n",
    "</font>   "
   ]
  },
  {
   "cell_type": "code",
   "execution_count": 63,
   "metadata": {},
   "outputs": [
    {
     "data": {
      "text/html": [
       "<div>\n",
       "<style scoped>\n",
       "    .dataframe tbody tr th:only-of-type {\n",
       "        vertical-align: middle;\n",
       "    }\n",
       "\n",
       "    .dataframe tbody tr th {\n",
       "        vertical-align: top;\n",
       "    }\n",
       "\n",
       "    .dataframe thead th {\n",
       "        text-align: right;\n",
       "    }\n",
       "</style>\n",
       "<table border=\"1\" class=\"dataframe\">\n",
       "  <thead>\n",
       "    <tr style=\"text-align: right;\">\n",
       "      <th></th>\n",
       "      <th>Year</th>\n",
       "      <th>BasePay</th>\n",
       "      <th>OvertimePay</th>\n",
       "      <th>OtherPay</th>\n",
       "      <th>Benefits</th>\n",
       "      <th>TotalPay</th>\n",
       "      <th>TotalPayBenefits</th>\n",
       "    </tr>\n",
       "  </thead>\n",
       "  <tbody>\n",
       "    <tr>\n",
       "      <th>1</th>\n",
       "      <td>2011</td>\n",
       "      <td>155,966.02</td>\n",
       "      <td>245,131.88</td>\n",
       "      <td>137,811.38</td>\n",
       "      <td>NaN</td>\n",
       "      <td>538,909.28</td>\n",
       "      <td>538,909.28</td>\n",
       "    </tr>\n",
       "    <tr>\n",
       "      <th>2</th>\n",
       "      <td>2011</td>\n",
       "      <td>212,739.13</td>\n",
       "      <td>106,088.18</td>\n",
       "      <td>16,452.60</td>\n",
       "      <td>NaN</td>\n",
       "      <td>335,279.91</td>\n",
       "      <td>335,279.91</td>\n",
       "    </tr>\n",
       "    <tr>\n",
       "      <th>11</th>\n",
       "      <td>2011</td>\n",
       "      <td>99,722.00</td>\n",
       "      <td>87,082.62</td>\n",
       "      <td>110,804.30</td>\n",
       "      <td>NaN</td>\n",
       "      <td>297,608.92</td>\n",
       "      <td>297,608.92</td>\n",
       "    </tr>\n",
       "    <tr>\n",
       "      <th>15</th>\n",
       "      <td>2011</td>\n",
       "      <td>198,778.01</td>\n",
       "      <td>73,478.20</td>\n",
       "      <td>13,957.65</td>\n",
       "      <td>NaN</td>\n",
       "      <td>286,213.86</td>\n",
       "      <td>286,213.86</td>\n",
       "    </tr>\n",
       "    <tr>\n",
       "      <th>25</th>\n",
       "      <td>2011</td>\n",
       "      <td>256,470.41</td>\n",
       "      <td>0.00</td>\n",
       "      <td>11,522.18</td>\n",
       "      <td>NaN</td>\n",
       "      <td>267,992.59</td>\n",
       "      <td>267,992.59</td>\n",
       "    </tr>\n",
       "  </tbody>\n",
       "</table>\n",
       "</div>"
      ],
      "text/plain": [
       "    Year    BasePay  OvertimePay   OtherPay  Benefits   TotalPay  \\\n",
       "1   2011 155,966.02   245,131.88 137,811.38       NaN 538,909.28   \n",
       "2   2011 212,739.13   106,088.18  16,452.60       NaN 335,279.91   \n",
       "11  2011  99,722.00    87,082.62 110,804.30       NaN 297,608.92   \n",
       "15  2011 198,778.01    73,478.20  13,957.65       NaN 286,213.86   \n",
       "25  2011 256,470.41         0.00  11,522.18       NaN 267,992.59   \n",
       "\n",
       "    TotalPayBenefits  \n",
       "1         538,909.28  \n",
       "2         335,279.91  \n",
       "11        297,608.92  \n",
       "15        286,213.86  \n",
       "25        267,992.59  "
      ]
     },
     "execution_count": 63,
     "metadata": {},
     "output_type": "execute_result"
    }
   ],
   "source": [
    "#прогнозируем по  police department\n",
    "police_df = df_salary_final[df_salary_final['department'] == 'police']\n",
    "police_df_copy =police_df[['Year' ,'BasePay', 'OvertimePay', 'OtherPay','Benefits','TotalPay', 'TotalPayBenefits']]\n",
    "police_df_copy.head()"
   ]
  },
  {
   "cell_type": "code",
   "execution_count": 64,
   "metadata": {},
   "outputs": [
    {
     "data": {
      "text/html": [
       "<div>\n",
       "<style scoped>\n",
       "    .dataframe tbody tr th:only-of-type {\n",
       "        vertical-align: middle;\n",
       "    }\n",
       "\n",
       "    .dataframe tbody tr th {\n",
       "        vertical-align: top;\n",
       "    }\n",
       "\n",
       "    .dataframe thead th {\n",
       "        text-align: right;\n",
       "    }\n",
       "</style>\n",
       "<table border=\"1\" class=\"dataframe\">\n",
       "  <thead>\n",
       "    <tr style=\"text-align: right;\">\n",
       "      <th></th>\n",
       "      <th>Year</th>\n",
       "      <th>TotalPayBenefits</th>\n",
       "    </tr>\n",
       "  </thead>\n",
       "  <tbody>\n",
       "    <tr>\n",
       "      <th>0</th>\n",
       "      <td>2011</td>\n",
       "      <td>319,268,095.21</td>\n",
       "    </tr>\n",
       "    <tr>\n",
       "      <th>1</th>\n",
       "      <td>2012</td>\n",
       "      <td>280,530,623.14</td>\n",
       "    </tr>\n",
       "    <tr>\n",
       "      <th>2</th>\n",
       "      <td>2013</td>\n",
       "      <td>288,728,271.59</td>\n",
       "    </tr>\n",
       "    <tr>\n",
       "      <th>3</th>\n",
       "      <td>2014</td>\n",
       "      <td>282,011,529.08</td>\n",
       "    </tr>\n",
       "  </tbody>\n",
       "</table>\n",
       "</div>"
      ],
      "text/plain": [
       "   Year  TotalPayBenefits\n",
       "0  2011    319,268,095.21\n",
       "1  2012    280,530,623.14\n",
       "2  2013    288,728,271.59\n",
       "3  2014    282,011,529.08"
      ]
     },
     "execution_count": 64,
     "metadata": {},
     "output_type": "execute_result"
    }
   ],
   "source": [
    "g_p = police_df_copy.groupby(['Year']).TotalPayBenefits.sum().reset_index()\n",
    "g_p"
   ]
  },
  {
   "cell_type": "code",
   "execution_count": 65,
   "metadata": {},
   "outputs": [
    {
     "data": {
      "text/plain": [
       "array([[2011],\n",
       "       [2012],\n",
       "       [2013],\n",
       "       [2014]])"
      ]
     },
     "execution_count": 65,
     "metadata": {},
     "output_type": "execute_result"
    }
   ],
   "source": [
    "#Поскольку данных для тренировки и предсказания недостаточно, а именно всего 4 периода, принято решение о \n",
    "#построении простой линейной регресии. \n",
    "x_p = g_p['Year'].values.reshape((-1, 1))\n",
    "x_p"
   ]
  },
  {
   "cell_type": "code",
   "execution_count": 66,
   "metadata": {},
   "outputs": [
    {
     "data": {
      "text/plain": [
       "array([3.19268095e+08, 2.80530623e+08, 2.88728272e+08, 2.82011529e+08])"
      ]
     },
     "execution_count": 66,
     "metadata": {},
     "output_type": "execute_result"
    }
   ],
   "source": [
    "y_p = g_p['TotalPayBenefits'].values\n",
    "y_p"
   ]
  },
  {
   "cell_type": "code",
   "execution_count": 67,
   "metadata": {},
   "outputs": [],
   "source": [
    "model = LinearRegression()"
   ]
  },
  {
   "cell_type": "code",
   "execution_count": 68,
   "metadata": {},
   "outputs": [
    {
     "data": {
      "text/plain": [
       "LinearRegression()"
      ]
     },
     "execution_count": 68,
     "metadata": {},
     "output_type": "execute_result"
    }
   ],
   "source": [
    "model.fit(x_p, y_p)"
   ]
  },
  {
   "cell_type": "code",
   "execution_count": 69,
   "metadata": {},
   "outputs": [
    {
     "name": "stdout",
     "output_type": "stream",
     "text": [
      "coefficient of determination: 0.55\n"
     ]
    }
   ],
   "source": [
    "r_sq = model.score(x_p, y_p)\n",
    "print('coefficient of determination:', r_sq.round(2))"
   ]
  },
  {
   "cell_type": "code",
   "execution_count": 70,
   "metadata": {},
   "outputs": [
    {
     "name": "stdout",
     "output_type": "stream",
     "text": [
      "predicted response: [3.08170437e+08 2.97813232e+08 2.87456027e+08 2.77098822e+08]\n"
     ]
    }
   ],
   "source": [
    "y_p_pred = model.predict(x_p)\n",
    "print('predicted response:', y_p_pred)"
   ]
  },
  {
   "cell_type": "code",
   "execution_count": 71,
   "metadata": {},
   "outputs": [
    {
     "data": {
      "image/png": "[encoded data removed]",
      "text/plain": [
       "<Figure size 1440x648 with 1 Axes>"
      ]
     },
     "metadata": {
      "needs_background": "light"
     },
     "output_type": "display_data"
    }
   ],
   "source": [
    "plt.figure(figsize=(20,9))\n",
    "plt.plot(y_p, \"blue\",linewidth=5, label='Реальные значения')\n",
    "plt.plot(y_p_pred, \"red\",linewidth=5, label='Предсказание')\n",
    "plt.legend(loc='best')\n",
    "plt.title(\"Простая линейная регрессия Police Department\")\n",
    "plt.grid(True)\n",
    "plt.show()"
   ]
  },
  {
   "cell_type": "code",
   "execution_count": 72,
   "metadata": {},
   "outputs": [
    {
     "name": "stdout",
     "output_type": "stream",
     "text": [
      "Прогноз расходов Police Department на 2015 г. на основании простой линейной регрессии: 266741617.27\n"
     ]
    }
   ],
   "source": [
    "x1_p = np.array([2015]).reshape(1, -1)\n",
    "y_p_pred = model.predict(x1_p)\n",
    "print('Прогноз расходов Police Department на 2015 г. на основании простой линейной регрессии:', y_p_pred[0].round(2))"
   ]
  },
  {
   "cell_type": "code",
   "execution_count": 73,
   "metadata": {},
   "outputs": [
    {
     "data": {
      "text/html": [
       "<div>\n",
       "<style scoped>\n",
       "    .dataframe tbody tr th:only-of-type {\n",
       "        vertical-align: middle;\n",
       "    }\n",
       "\n",
       "    .dataframe tbody tr th {\n",
       "        vertical-align: top;\n",
       "    }\n",
       "\n",
       "    .dataframe thead th {\n",
       "        text-align: right;\n",
       "    }\n",
       "</style>\n",
       "<table border=\"1\" class=\"dataframe\">\n",
       "  <thead>\n",
       "    <tr style=\"text-align: right;\">\n",
       "      <th></th>\n",
       "      <th>Year</th>\n",
       "      <th>BasePay</th>\n",
       "      <th>OvertimePay</th>\n",
       "      <th>OtherPay</th>\n",
       "      <th>Benefits</th>\n",
       "      <th>TotalPay</th>\n",
       "      <th>TotalPayBenefits</th>\n",
       "    </tr>\n",
       "  </thead>\n",
       "  <tbody>\n",
       "    <tr>\n",
       "      <th>4</th>\n",
       "      <td>2011</td>\n",
       "      <td>134,401.60</td>\n",
       "      <td>9,737.00</td>\n",
       "      <td>182,234.59</td>\n",
       "      <td>NaN</td>\n",
       "      <td>326,373.19</td>\n",
       "      <td>326,373.19</td>\n",
       "    </tr>\n",
       "    <tr>\n",
       "      <th>6</th>\n",
       "      <td>2011</td>\n",
       "      <td>92,492.01</td>\n",
       "      <td>89,062.90</td>\n",
       "      <td>134,426.14</td>\n",
       "      <td>NaN</td>\n",
       "      <td>315,981.05</td>\n",
       "      <td>315,981.05</td>\n",
       "    </tr>\n",
       "    <tr>\n",
       "      <th>8</th>\n",
       "      <td>2011</td>\n",
       "      <td>176,932.64</td>\n",
       "      <td>86,362.68</td>\n",
       "      <td>40,132.23</td>\n",
       "      <td>NaN</td>\n",
       "      <td>303,427.55</td>\n",
       "      <td>303,427.55</td>\n",
       "    </tr>\n",
       "    <tr>\n",
       "      <th>9</th>\n",
       "      <td>2011</td>\n",
       "      <td>285,262.00</td>\n",
       "      <td>0.00</td>\n",
       "      <td>17,115.73</td>\n",
       "      <td>NaN</td>\n",
       "      <td>302,377.73</td>\n",
       "      <td>302,377.73</td>\n",
       "    </tr>\n",
       "    <tr>\n",
       "      <th>10</th>\n",
       "      <td>2011</td>\n",
       "      <td>194,999.39</td>\n",
       "      <td>71,344.88</td>\n",
       "      <td>33,149.90</td>\n",
       "      <td>NaN</td>\n",
       "      <td>299,494.17</td>\n",
       "      <td>299,494.17</td>\n",
       "    </tr>\n",
       "  </tbody>\n",
       "</table>\n",
       "</div>"
      ],
      "text/plain": [
       "    Year    BasePay  OvertimePay   OtherPay  Benefits   TotalPay  \\\n",
       "4   2011 134,401.60     9,737.00 182,234.59       NaN 326,373.19   \n",
       "6   2011  92,492.01    89,062.90 134,426.14       NaN 315,981.05   \n",
       "8   2011 176,932.64    86,362.68  40,132.23       NaN 303,427.55   \n",
       "9   2011 285,262.00         0.00  17,115.73       NaN 302,377.73   \n",
       "10  2011 194,999.39    71,344.88  33,149.90       NaN 299,494.17   \n",
       "\n",
       "    TotalPayBenefits  \n",
       "4         326,373.19  \n",
       "6         315,981.05  \n",
       "8         303,427.55  \n",
       "9         302,377.73  \n",
       "10        299,494.17  "
      ]
     },
     "execution_count": 73,
     "metadata": {},
     "output_type": "execute_result"
    }
   ],
   "source": [
    "#аналогично прогнозируем по fire department\n",
    "fire_df = df_salary_final[df_salary_final['department'] == 'fire']\n",
    "fire_df_copy =fire_df[['Year' ,'BasePay', 'OvertimePay', 'OtherPay','Benefits','TotalPay', 'TotalPayBenefits']]\n",
    "fire_df_copy.head()"
   ]
  },
  {
   "cell_type": "code",
   "execution_count": 74,
   "metadata": {},
   "outputs": [
    {
     "data": {
      "text/html": [
       "<div>\n",
       "<style scoped>\n",
       "    .dataframe tbody tr th:only-of-type {\n",
       "        vertical-align: middle;\n",
       "    }\n",
       "\n",
       "    .dataframe tbody tr th {\n",
       "        vertical-align: top;\n",
       "    }\n",
       "\n",
       "    .dataframe thead th {\n",
       "        text-align: right;\n",
       "    }\n",
       "</style>\n",
       "<table border=\"1\" class=\"dataframe\">\n",
       "  <thead>\n",
       "    <tr style=\"text-align: right;\">\n",
       "      <th></th>\n",
       "      <th>Year</th>\n",
       "      <th>TotalPayBenefits</th>\n",
       "    </tr>\n",
       "  </thead>\n",
       "  <tbody>\n",
       "    <tr>\n",
       "      <th>0</th>\n",
       "      <td>2011</td>\n",
       "      <td>211,563,265.94</td>\n",
       "    </tr>\n",
       "    <tr>\n",
       "      <th>1</th>\n",
       "      <td>2012</td>\n",
       "      <td>273,810,371.21</td>\n",
       "    </tr>\n",
       "    <tr>\n",
       "      <th>2</th>\n",
       "      <td>2013</td>\n",
       "      <td>291,038,363.49</td>\n",
       "    </tr>\n",
       "    <tr>\n",
       "      <th>3</th>\n",
       "      <td>2014</td>\n",
       "      <td>285,536,817.28</td>\n",
       "    </tr>\n",
       "  </tbody>\n",
       "</table>\n",
       "</div>"
      ],
      "text/plain": [
       "   Year  TotalPayBenefits\n",
       "0  2011    211,563,265.94\n",
       "1  2012    273,810,371.21\n",
       "2  2013    291,038,363.49\n",
       "3  2014    285,536,817.28"
      ]
     },
     "execution_count": 74,
     "metadata": {},
     "output_type": "execute_result"
    }
   ],
   "source": [
    "g_f = fire_df_copy.groupby(['Year']).TotalPayBenefits.sum().reset_index()\n",
    "g_f"
   ]
  },
  {
   "cell_type": "code",
   "execution_count": 75,
   "metadata": {},
   "outputs": [],
   "source": [
    "x_f = g_f['Year'].values.reshape((-1, 1))\n",
    "y_f = g_f['TotalPayBenefits'].values"
   ]
  },
  {
   "cell_type": "code",
   "execution_count": 76,
   "metadata": {},
   "outputs": [
    {
     "data": {
      "text/plain": [
       "LinearRegression()"
      ]
     },
     "execution_count": 76,
     "metadata": {},
     "output_type": "execute_result"
    }
   ],
   "source": [
    "model.fit(x_f, y_f)"
   ]
  },
  {
   "cell_type": "code",
   "execution_count": 77,
   "metadata": {},
   "outputs": [
    {
     "name": "stdout",
     "output_type": "stream",
     "text": [
      "coefficient of determination: 0.71\n"
     ]
    }
   ],
   "source": [
    "r_sq = model.score(x_f, y_f)\n",
    "print('coefficient of determination:', r_sq.round(2))"
   ]
  },
  {
   "cell_type": "code",
   "execution_count": 78,
   "metadata": {},
   "outputs": [
    {
     "name": "stdout",
     "output_type": "stream",
     "text": [
      "predicted response: [2.29614908e+08 2.53529772e+08 2.77444637e+08 3.01359501e+08]\n"
     ]
    }
   ],
   "source": [
    "y_f_pred = model.predict(x_f)\n",
    "print('predicted response:', y_f_pred)"
   ]
  },
  {
   "cell_type": "code",
   "execution_count": 79,
   "metadata": {},
   "outputs": [
    {
     "data": {
      "image/png": "[encoded data removed]",
      "text/plain": [
       "<Figure size 1440x648 with 1 Axes>"
      ]
     },
     "metadata": {
      "needs_background": "light"
     },
     "output_type": "display_data"
    }
   ],
   "source": [
    "plt.figure(figsize=(20,9))\n",
    "plt.plot(y_f, \"blue\",linewidth=5, label='Реальные значения')\n",
    "plt.plot(y_f_pred, \"red\",linewidth=5, label='Предсказание')\n",
    "plt.legend(loc='best')\n",
    "plt.title(\"Простая линейная регрессия Fire Department\")\n",
    "plt.grid(True)\n",
    "plt.show()"
   ]
  },
  {
   "cell_type": "code",
   "execution_count": 80,
   "metadata": {},
   "outputs": [
    {
     "name": "stdout",
     "output_type": "stream",
     "text": [
      "Прогноз расходов Fire Department на 2015 г. на основании простой линейной регрессии: 325274366.06\n"
     ]
    }
   ],
   "source": [
    "x1_f = np.array([2015]).reshape(1, -1)\n",
    "y_f_pred = model.predict(x1_f)\n",
    "print('Прогноз расходов Fire Department на 2015 г. на основании простой линейной регрессии:', y_f_pred[0].round(2))"
   ]
  },
  {
   "cell_type": "code",
   "execution_count": 81,
   "metadata": {},
   "outputs": [
    {
     "data": {
      "text/html": [
       "<div>\n",
       "<style scoped>\n",
       "    .dataframe tbody tr th:only-of-type {\n",
       "        vertical-align: middle;\n",
       "    }\n",
       "\n",
       "    .dataframe tbody tr th {\n",
       "        vertical-align: top;\n",
       "    }\n",
       "\n",
       "    .dataframe thead th {\n",
       "        text-align: right;\n",
       "    }\n",
       "</style>\n",
       "<table border=\"1\" class=\"dataframe\">\n",
       "  <thead>\n",
       "    <tr style=\"text-align: right;\">\n",
       "      <th></th>\n",
       "      <th>Year</th>\n",
       "      <th>BasePay</th>\n",
       "      <th>OvertimePay</th>\n",
       "      <th>OtherPay</th>\n",
       "      <th>Benefits</th>\n",
       "      <th>TotalPay</th>\n",
       "      <th>TotalPayBenefits</th>\n",
       "    </tr>\n",
       "  </thead>\n",
       "  <tbody>\n",
       "    <tr>\n",
       "      <th>17</th>\n",
       "      <td>2011</td>\n",
       "      <td>140,546.87</td>\n",
       "      <td>119,397.26</td>\n",
       "      <td>18,625.08</td>\n",
       "      <td>NaN</td>\n",
       "      <td>278,569.21</td>\n",
       "      <td>278,569.21</td>\n",
       "    </tr>\n",
       "    <tr>\n",
       "      <th>19</th>\n",
       "      <td>2011</td>\n",
       "      <td>257,510.59</td>\n",
       "      <td>880.16</td>\n",
       "      <td>16,159.50</td>\n",
       "      <td>NaN</td>\n",
       "      <td>274,550.25</td>\n",
       "      <td>274,550.25</td>\n",
       "    </tr>\n",
       "    <tr>\n",
       "      <th>20</th>\n",
       "      <td>2011</td>\n",
       "      <td>257,510.48</td>\n",
       "      <td>0.00</td>\n",
       "      <td>16,679.79</td>\n",
       "      <td>NaN</td>\n",
       "      <td>274,190.27</td>\n",
       "      <td>274,190.27</td>\n",
       "    </tr>\n",
       "    <tr>\n",
       "      <th>21</th>\n",
       "      <td>2011</td>\n",
       "      <td>257,510.44</td>\n",
       "      <td>377.21</td>\n",
       "      <td>15,883.56</td>\n",
       "      <td>NaN</td>\n",
       "      <td>273,771.21</td>\n",
       "      <td>273,771.21</td>\n",
       "    </tr>\n",
       "    <tr>\n",
       "      <th>36</th>\n",
       "      <td>2011</td>\n",
       "      <td>245,124.44</td>\n",
       "      <td>0.00</td>\n",
       "      <td>12,000.00</td>\n",
       "      <td>NaN</td>\n",
       "      <td>257,124.44</td>\n",
       "      <td>257,124.44</td>\n",
       "    </tr>\n",
       "  </tbody>\n",
       "</table>\n",
       "</div>"
      ],
      "text/plain": [
       "    Year    BasePay  OvertimePay  OtherPay  Benefits   TotalPay  \\\n",
       "17  2011 140,546.87   119,397.26 18,625.08       NaN 278,569.21   \n",
       "19  2011 257,510.59       880.16 16,159.50       NaN 274,550.25   \n",
       "20  2011 257,510.48         0.00 16,679.79       NaN 274,190.27   \n",
       "21  2011 257,510.44       377.21 15,883.56       NaN 273,771.21   \n",
       "36  2011 245,124.44         0.00 12,000.00       NaN 257,124.44   \n",
       "\n",
       "    TotalPayBenefits  \n",
       "17        278,569.21  \n",
       "19        274,550.25  \n",
       "20        274,190.27  \n",
       "21        273,771.21  \n",
       "36        257,124.44  "
      ]
     },
     "execution_count": 81,
     "metadata": {},
     "output_type": "execute_result"
    }
   ],
   "source": [
    "# прогнозируем по medical department\n",
    "medical_df = df_salary_final[df_salary_final['department'] == 'medical']\n",
    "medical_df_copy =medical_df[['Year' ,'BasePay', 'OvertimePay', 'OtherPay','Benefits','TotalPay', 'TotalPayBenefits']]\n",
    "medical_df_copy.head()"
   ]
  },
  {
   "cell_type": "code",
   "execution_count": 82,
   "metadata": {},
   "outputs": [
    {
     "data": {
      "text/html": [
       "<div>\n",
       "<style scoped>\n",
       "    .dataframe tbody tr th:only-of-type {\n",
       "        vertical-align: middle;\n",
       "    }\n",
       "\n",
       "    .dataframe tbody tr th {\n",
       "        vertical-align: top;\n",
       "    }\n",
       "\n",
       "    .dataframe thead th {\n",
       "        text-align: right;\n",
       "    }\n",
       "</style>\n",
       "<table border=\"1\" class=\"dataframe\">\n",
       "  <thead>\n",
       "    <tr style=\"text-align: right;\">\n",
       "      <th></th>\n",
       "      <th>Year</th>\n",
       "      <th>TotalPayBenefits</th>\n",
       "    </tr>\n",
       "  </thead>\n",
       "  <tbody>\n",
       "    <tr>\n",
       "      <th>0</th>\n",
       "      <td>2011</td>\n",
       "      <td>26,921,486.59</td>\n",
       "    </tr>\n",
       "    <tr>\n",
       "      <th>1</th>\n",
       "      <td>2012</td>\n",
       "      <td>31,832,682.18</td>\n",
       "    </tr>\n",
       "    <tr>\n",
       "      <th>2</th>\n",
       "      <td>2013</td>\n",
       "      <td>33,782,026.90</td>\n",
       "    </tr>\n",
       "    <tr>\n",
       "      <th>3</th>\n",
       "      <td>2014</td>\n",
       "      <td>36,133,544.35</td>\n",
       "    </tr>\n",
       "  </tbody>\n",
       "</table>\n",
       "</div>"
      ],
      "text/plain": [
       "   Year  TotalPayBenefits\n",
       "0  2011     26,921,486.59\n",
       "1  2012     31,832,682.18\n",
       "2  2013     33,782,026.90\n",
       "3  2014     36,133,544.35"
      ]
     },
     "execution_count": 82,
     "metadata": {},
     "output_type": "execute_result"
    }
   ],
   "source": [
    "g_m = medical_df_copy.groupby(['Year']).TotalPayBenefits.sum().reset_index()\n",
    "g_m"
   ]
  },
  {
   "cell_type": "code",
   "execution_count": 83,
   "metadata": {},
   "outputs": [],
   "source": [
    "x_m = g_m['Year'].values.reshape((-1, 1))\n",
    "y_m = g_m['TotalPayBenefits'].values"
   ]
  },
  {
   "cell_type": "code",
   "execution_count": 84,
   "metadata": {},
   "outputs": [
    {
     "data": {
      "text/plain": [
       "LinearRegression()"
      ]
     },
     "execution_count": 84,
     "metadata": {},
     "output_type": "execute_result"
    }
   ],
   "source": [
    "model.fit(x_m, y_m)"
   ]
  },
  {
   "cell_type": "code",
   "execution_count": 85,
   "metadata": {},
   "outputs": [
    {
     "name": "stdout",
     "output_type": "stream",
     "text": [
      "coefficient of determination: 0.95\n"
     ]
    }
   ],
   "source": [
    "r_sq = model.score(x_m, y_m)\n",
    "print('coefficient of determination:', r_sq.round(2))"
   ]
  },
  {
   "cell_type": "code",
   "execution_count": 86,
   "metadata": {},
   "outputs": [
    {
     "name": "stdout",
     "output_type": "stream",
     "text": [
      "predicted response: [27729607.3 30688159.1 33646710.9 36605262.7]\n"
     ]
    }
   ],
   "source": [
    "y_m_pred = model.predict(x_m)\n",
    "print('predicted response:', y_m_pred.round(2))"
   ]
  },
  {
   "cell_type": "code",
   "execution_count": 87,
   "metadata": {},
   "outputs": [
    {
     "data": {
      "image/png": "[encoded data removed]",
      "text/plain": [
       "<Figure size 1440x648 with 1 Axes>"
      ]
     },
     "metadata": {
      "needs_background": "light"
     },
     "output_type": "display_data"
    }
   ],
   "source": [
    "plt.figure(figsize=(20,9))\n",
    "plt.plot(y_m, \"blue\",linewidth=5, label='Реальные значения')\n",
    "plt.plot(y_m_pred, \"red\",linewidth=5, label='Предсказание')\n",
    "plt.legend(loc='best')\n",
    "plt.title(\"Простая линейная регрессия Medical Department\")\n",
    "plt.grid(True)\n",
    "plt.show()"
   ]
  },
  {
   "cell_type": "code",
   "execution_count": 88,
   "metadata": {},
   "outputs": [
    {
     "name": "stdout",
     "output_type": "stream",
     "text": [
      "Прогноз расходов Medical Department на 2015 г. на основании простой линейной регрессии: 39563814.51\n"
     ]
    }
   ],
   "source": [
    "x1_m = np.array([2015]).reshape(1, -1)\n",
    "y_m_pred = model.predict(x1_m)\n",
    "print('Прогноз расходов Medical Department на 2015 г. на основании простой линейной регрессии:', y_m_pred[0].round(2))"
   ]
  },
  {
   "cell_type": "markdown",
   "metadata": {},
   "source": [
    "<div class=\"alert alert-block alert-danger\">\n",
    "    \n",
    "* Здесь у тебя явно переиспользование одного и того же кода 3 раза,сделай это циклом\n",
    "    \n",
    "* Использовуй понятные названия переменных вместо x_m, g_m и т.п. это делает твой код трудночитаемым\n",
    "    \n",
    "* И самое главное - **нет итогового вывода о задаче**, прогнозе и т.п. Твой заказчик не будет смотреть код, только итог\n",
    "</div>"
   ]
  },
  {
   "cell_type": "markdown",
   "metadata": {},
   "source": [
    "<div class=\"alert alert-block alert-success\">\n",
    "Ты близок к завершению! Еще одно усилие :)\n",
    "</div>"
   ]
  },
  {
   "cell_type": "code",
   "execution_count": null,
   "metadata": {},
   "outputs": [],
   "source": []
  }
 ],
 "metadata": {
  "kernelspec": {
   "display_name": "Python 3",
   "language": "python",
   "name": "python3"
  },
  "language_info": {
   "codemirror_mode": {
    "name": "ipython",
    "version": 3
   },
   "file_extension": ".py",
   "mimetype": "text/x-python",
   "name": "python",
   "nbconvert_exporter": "python",
   "pygments_lexer": "ipython3",
   "version": "3.9.5"
  }
 },
 "nbformat": 4,
 "nbformat_minor": 2
}

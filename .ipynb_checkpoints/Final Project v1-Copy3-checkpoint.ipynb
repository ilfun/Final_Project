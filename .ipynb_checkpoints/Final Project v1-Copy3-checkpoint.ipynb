{
 "cells": [
  {
   "cell_type": "markdown",
   "metadata": {},
   "source": [
    "![1.png](1.png)"
   ]
  },
  {
   "cell_type": "markdown",
   "metadata": {},
   "source": [
    "## Задание\n",
    "\n",
    "Используя данные задачи https://www.kaggle.com/kaggle/sf-salaries .  \n",
    "Ответить на следующие вопросы:\n",
    "1.\tКак со временем менялись зарплаты между разными группами (группировка по Department - fire, medicine, police)? (максимальная, медианная, средняя)\n",
    "2.\tКак распределяются базовая оплата, сверхурочная работа и льготы между разными группами? Нужно построить диаграммы по распределению со временем для каждого департамента по базовым, сверхурочным и льготам\n",
    "3.\tКак распределяется бюджет на разные группы (department) с течением времени?\n",
    "4.\tКакое количество людей в каждом департаменте? \n",
    "5.\tКакое количество с разным уровнем дохода? (гистограмма с шагом в 5к) \n",
    "6.\tНа базе линейной регрессии постройте прогноз по тому, какие будут закупке в следующий год по каждому департаменту\n"
   ]
  },
  {
   "cell_type": "code",
   "execution_count": 2,
   "metadata": {
    "scrolled": true
   },
   "outputs": [
    {
     "name": "stderr",
     "output_type": "stream",
     "text": [
      "C:\\Users\\ILYA\\Anaconda3\\lib\\site-packages\\sklearn\\linear_model\\least_angle.py:35: DeprecationWarning: `np.float` is a deprecated alias for the builtin `float`. To silence this warning, use `float` by itself. Doing this will not modify any behavior and is safe. If you specifically wanted the numpy scalar type, use `np.float64` here.\n",
      "Deprecated in NumPy 1.20; for more details and guidance: https://numpy.org/devdocs/release/1.20.0-notes.html#deprecations\n",
      "  eps=np.finfo(np.float).eps,\n",
      "C:\\Users\\ILYA\\Anaconda3\\lib\\site-packages\\sklearn\\linear_model\\least_angle.py:597: DeprecationWarning: `np.float` is a deprecated alias for the builtin `float`. To silence this warning, use `float` by itself. Doing this will not modify any behavior and is safe. If you specifically wanted the numpy scalar type, use `np.float64` here.\n",
      "Deprecated in NumPy 1.20; for more details and guidance: https://numpy.org/devdocs/release/1.20.0-notes.html#deprecations\n",
      "  eps=np.finfo(np.float).eps, copy_X=True, fit_path=True,\n",
      "C:\\Users\\ILYA\\Anaconda3\\lib\\site-packages\\sklearn\\linear_model\\least_angle.py:836: DeprecationWarning: `np.float` is a deprecated alias for the builtin `float`. To silence this warning, use `float` by itself. Doing this will not modify any behavior and is safe. If you specifically wanted the numpy scalar type, use `np.float64` here.\n",
      "Deprecated in NumPy 1.20; for more details and guidance: https://numpy.org/devdocs/release/1.20.0-notes.html#deprecations\n",
      "  eps=np.finfo(np.float).eps, copy_X=True, fit_path=True,\n",
      "C:\\Users\\ILYA\\Anaconda3\\lib\\site-packages\\sklearn\\linear_model\\least_angle.py:862: DeprecationWarning: `np.float` is a deprecated alias for the builtin `float`. To silence this warning, use `float` by itself. Doing this will not modify any behavior and is safe. If you specifically wanted the numpy scalar type, use `np.float64` here.\n",
      "Deprecated in NumPy 1.20; for more details and guidance: https://numpy.org/devdocs/release/1.20.0-notes.html#deprecations\n",
      "  eps=np.finfo(np.float).eps, positive=False):\n",
      "C:\\Users\\ILYA\\Anaconda3\\lib\\site-packages\\sklearn\\linear_model\\least_angle.py:1097: DeprecationWarning: `np.float` is a deprecated alias for the builtin `float`. To silence this warning, use `float` by itself. Doing this will not modify any behavior and is safe. If you specifically wanted the numpy scalar type, use `np.float64` here.\n",
      "Deprecated in NumPy 1.20; for more details and guidance: https://numpy.org/devdocs/release/1.20.0-notes.html#deprecations\n",
      "  max_n_alphas=1000, n_jobs=None, eps=np.finfo(np.float).eps,\n",
      "C:\\Users\\ILYA\\Anaconda3\\lib\\site-packages\\sklearn\\linear_model\\least_angle.py:1344: DeprecationWarning: `np.float` is a deprecated alias for the builtin `float`. To silence this warning, use `float` by itself. Doing this will not modify any behavior and is safe. If you specifically wanted the numpy scalar type, use `np.float64` here.\n",
      "Deprecated in NumPy 1.20; for more details and guidance: https://numpy.org/devdocs/release/1.20.0-notes.html#deprecations\n",
      "  max_n_alphas=1000, n_jobs=None, eps=np.finfo(np.float).eps,\n",
      "C:\\Users\\ILYA\\Anaconda3\\lib\\site-packages\\sklearn\\linear_model\\least_angle.py:1480: DeprecationWarning: `np.float` is a deprecated alias for the builtin `float`. To silence this warning, use `float` by itself. Doing this will not modify any behavior and is safe. If you specifically wanted the numpy scalar type, use `np.float64` here.\n",
      "Deprecated in NumPy 1.20; for more details and guidance: https://numpy.org/devdocs/release/1.20.0-notes.html#deprecations\n",
      "  eps=np.finfo(np.float).eps, copy_X=True, positive=False):\n",
      "C:\\Users\\ILYA\\Anaconda3\\lib\\site-packages\\sklearn\\linear_model\\randomized_l1.py:152: DeprecationWarning: `np.float` is a deprecated alias for the builtin `float`. To silence this warning, use `float` by itself. Doing this will not modify any behavior and is safe. If you specifically wanted the numpy scalar type, use `np.float64` here.\n",
      "Deprecated in NumPy 1.20; for more details and guidance: https://numpy.org/devdocs/release/1.20.0-notes.html#deprecations\n",
      "  precompute=False, eps=np.finfo(np.float).eps,\n",
      "C:\\Users\\ILYA\\Anaconda3\\lib\\site-packages\\sklearn\\linear_model\\randomized_l1.py:320: DeprecationWarning: `np.float` is a deprecated alias for the builtin `float`. To silence this warning, use `float` by itself. Doing this will not modify any behavior and is safe. If you specifically wanted the numpy scalar type, use `np.float64` here.\n",
      "Deprecated in NumPy 1.20; for more details and guidance: https://numpy.org/devdocs/release/1.20.0-notes.html#deprecations\n",
      "  eps=np.finfo(np.float).eps, random_state=None,\n",
      "C:\\Users\\ILYA\\Anaconda3\\lib\\site-packages\\sklearn\\linear_model\\randomized_l1.py:580: DeprecationWarning: `np.float` is a deprecated alias for the builtin `float`. To silence this warning, use `float` by itself. Doing this will not modify any behavior and is safe. If you specifically wanted the numpy scalar type, use `np.float64` here.\n",
      "Deprecated in NumPy 1.20; for more details and guidance: https://numpy.org/devdocs/release/1.20.0-notes.html#deprecations\n",
      "  eps=4 * np.finfo(np.float).eps, n_jobs=None,\n"
     ]
    }
   ],
   "source": [
    "import pandas as pd\n",
    "import numpy as np\n",
    "import matplotlib.pyplot as plt\n",
    "from sklearn.linear_model import LinearRegression"
   ]
  },
  {
   "cell_type": "code",
   "execution_count": 3,
   "metadata": {},
   "outputs": [],
   "source": [
    "#отображение формата сумм\n",
    "pd.options.display.float_format ='{:,.2f}'.format"
   ]
  },
  {
   "cell_type": "code",
   "execution_count": 4,
   "metadata": {},
   "outputs": [
    {
     "name": "stderr",
     "output_type": "stream",
     "text": [
      "C:\\Users\\ILYA\\Anaconda3\\lib\\site-packages\\IPython\\core\\interactiveshell.py:3020: DtypeWarning: Columns (3,4,5,6,12) have mixed types.Specify dtype option on import or set low_memory=False.\n",
      "  interactivity=interactivity, compiler=compiler, result=result)\n"
     ]
    }
   ],
   "source": [
    "df_salary = pd.read_csv('Salaries.csv')"
   ]
  },
  {
   "cell_type": "code",
   "execution_count": 5,
   "metadata": {},
   "outputs": [
    {
     "data": {
      "text/html": [
       "<div>\n",
       "<style scoped>\n",
       "    .dataframe tbody tr th:only-of-type {\n",
       "        vertical-align: middle;\n",
       "    }\n",
       "\n",
       "    .dataframe tbody tr th {\n",
       "        vertical-align: top;\n",
       "    }\n",
       "\n",
       "    .dataframe thead th {\n",
       "        text-align: right;\n",
       "    }\n",
       "</style>\n",
       "<table border=\"1\" class=\"dataframe\">\n",
       "  <thead>\n",
       "    <tr style=\"text-align: right;\">\n",
       "      <th></th>\n",
       "      <th>Id</th>\n",
       "      <th>EmployeeName</th>\n",
       "      <th>JobTitle</th>\n",
       "      <th>BasePay</th>\n",
       "      <th>OvertimePay</th>\n",
       "      <th>OtherPay</th>\n",
       "      <th>Benefits</th>\n",
       "      <th>TotalPay</th>\n",
       "      <th>TotalPayBenefits</th>\n",
       "      <th>Year</th>\n",
       "      <th>Notes</th>\n",
       "      <th>Agency</th>\n",
       "      <th>Status</th>\n",
       "    </tr>\n",
       "  </thead>\n",
       "  <tbody>\n",
       "    <tr>\n",
       "      <th>0</th>\n",
       "      <td>1</td>\n",
       "      <td>NATHANIEL FORD</td>\n",
       "      <td>GENERAL MANAGER-METROPOLITAN TRANSIT AUTHORITY</td>\n",
       "      <td>167,411.18</td>\n",
       "      <td>0.00</td>\n",
       "      <td>400,184.25</td>\n",
       "      <td>NaN</td>\n",
       "      <td>567,595.43</td>\n",
       "      <td>567,595.43</td>\n",
       "      <td>2011</td>\n",
       "      <td>NaN</td>\n",
       "      <td>San Francisco</td>\n",
       "      <td>NaN</td>\n",
       "    </tr>\n",
       "    <tr>\n",
       "      <th>1</th>\n",
       "      <td>2</td>\n",
       "      <td>GARY JIMENEZ</td>\n",
       "      <td>CAPTAIN III (POLICE DEPARTMENT)</td>\n",
       "      <td>155,966.02</td>\n",
       "      <td>245,131.88</td>\n",
       "      <td>137,811.38</td>\n",
       "      <td>NaN</td>\n",
       "      <td>538,909.28</td>\n",
       "      <td>538,909.28</td>\n",
       "      <td>2011</td>\n",
       "      <td>NaN</td>\n",
       "      <td>San Francisco</td>\n",
       "      <td>NaN</td>\n",
       "    </tr>\n",
       "    <tr>\n",
       "      <th>2</th>\n",
       "      <td>3</td>\n",
       "      <td>ALBERT PARDINI</td>\n",
       "      <td>CAPTAIN III (POLICE DEPARTMENT)</td>\n",
       "      <td>212,739.13</td>\n",
       "      <td>106,088.18</td>\n",
       "      <td>16,452.60</td>\n",
       "      <td>NaN</td>\n",
       "      <td>335,279.91</td>\n",
       "      <td>335,279.91</td>\n",
       "      <td>2011</td>\n",
       "      <td>NaN</td>\n",
       "      <td>San Francisco</td>\n",
       "      <td>NaN</td>\n",
       "    </tr>\n",
       "    <tr>\n",
       "      <th>3</th>\n",
       "      <td>4</td>\n",
       "      <td>CHRISTOPHER CHONG</td>\n",
       "      <td>WIRE ROPE CABLE MAINTENANCE MECHANIC</td>\n",
       "      <td>77,916.00</td>\n",
       "      <td>56,120.71</td>\n",
       "      <td>198,306.90</td>\n",
       "      <td>NaN</td>\n",
       "      <td>332,343.61</td>\n",
       "      <td>332,343.61</td>\n",
       "      <td>2011</td>\n",
       "      <td>NaN</td>\n",
       "      <td>San Francisco</td>\n",
       "      <td>NaN</td>\n",
       "    </tr>\n",
       "    <tr>\n",
       "      <th>4</th>\n",
       "      <td>5</td>\n",
       "      <td>PATRICK GARDNER</td>\n",
       "      <td>DEPUTY CHIEF OF DEPARTMENT,(FIRE DEPARTMENT)</td>\n",
       "      <td>134,401.60</td>\n",
       "      <td>9,737.00</td>\n",
       "      <td>182,234.59</td>\n",
       "      <td>NaN</td>\n",
       "      <td>326,373.19</td>\n",
       "      <td>326,373.19</td>\n",
       "      <td>2011</td>\n",
       "      <td>NaN</td>\n",
       "      <td>San Francisco</td>\n",
       "      <td>NaN</td>\n",
       "    </tr>\n",
       "  </tbody>\n",
       "</table>\n",
       "</div>"
      ],
      "text/plain": [
       "   Id       EmployeeName                                        JobTitle  \\\n",
       "0   1     NATHANIEL FORD  GENERAL MANAGER-METROPOLITAN TRANSIT AUTHORITY   \n",
       "1   2       GARY JIMENEZ                 CAPTAIN III (POLICE DEPARTMENT)   \n",
       "2   3     ALBERT PARDINI                 CAPTAIN III (POLICE DEPARTMENT)   \n",
       "3   4  CHRISTOPHER CHONG            WIRE ROPE CABLE MAINTENANCE MECHANIC   \n",
       "4   5    PATRICK GARDNER    DEPUTY CHIEF OF DEPARTMENT,(FIRE DEPARTMENT)   \n",
       "\n",
       "     BasePay OvertimePay   OtherPay Benefits   TotalPay  TotalPayBenefits  \\\n",
       "0 167,411.18        0.00 400,184.25      NaN 567,595.43        567,595.43   \n",
       "1 155,966.02  245,131.88 137,811.38      NaN 538,909.28        538,909.28   \n",
       "2 212,739.13  106,088.18  16,452.60      NaN 335,279.91        335,279.91   \n",
       "3  77,916.00   56,120.71 198,306.90      NaN 332,343.61        332,343.61   \n",
       "4 134,401.60    9,737.00 182,234.59      NaN 326,373.19        326,373.19   \n",
       "\n",
       "   Year  Notes         Agency Status  \n",
       "0  2011    NaN  San Francisco    NaN  \n",
       "1  2011    NaN  San Francisco    NaN  \n",
       "2  2011    NaN  San Francisco    NaN  \n",
       "3  2011    NaN  San Francisco    NaN  \n",
       "4  2011    NaN  San Francisco    NaN  "
      ]
     },
     "execution_count": 5,
     "metadata": {},
     "output_type": "execute_result"
    }
   ],
   "source": [
    "df_salary.head()"
   ]
  },
  {
   "cell_type": "code",
   "execution_count": 6,
   "metadata": {},
   "outputs": [
    {
     "name": "stdout",
     "output_type": "stream",
     "text": [
      "<class 'pandas.core.frame.DataFrame'>\n",
      "RangeIndex: 148654 entries, 0 to 148653\n",
      "Data columns (total 13 columns):\n",
      " #   Column            Non-Null Count   Dtype  \n",
      "---  ------            --------------   -----  \n",
      " 0   Id                148654 non-null  int64  \n",
      " 1   EmployeeName      148654 non-null  object \n",
      " 2   JobTitle          148654 non-null  object \n",
      " 3   BasePay           148049 non-null  object \n",
      " 4   OvertimePay       148654 non-null  object \n",
      " 5   OtherPay          148654 non-null  object \n",
      " 6   Benefits          112495 non-null  object \n",
      " 7   TotalPay          148654 non-null  float64\n",
      " 8   TotalPayBenefits  148654 non-null  float64\n",
      " 9   Year              148654 non-null  int64  \n",
      " 10  Notes             0 non-null       float64\n",
      " 11  Agency            148654 non-null  object \n",
      " 12  Status            38119 non-null   object \n",
      "dtypes: float64(3), int64(2), object(8)\n",
      "memory usage: 14.7+ MB\n"
     ]
    }
   ],
   "source": [
    "df_salary.info()"
   ]
  },
  {
   "cell_type": "code",
   "execution_count": 7,
   "metadata": {},
   "outputs": [],
   "source": [
    "## изменяем тип данных соответствующих столбцов c целью возможности проводить над ними математические операции\n",
    "df_salary['BasePay'] = pd.to_numeric(df_salary['BasePay'], errors='coerce')\n",
    "df_salary['OvertimePay'] = pd.to_numeric(df_salary['OvertimePay'], errors='coerce')\n",
    "df_salary['OtherPay'] = pd.to_numeric(df_salary['OtherPay'], errors='coerce')\n",
    "df_salary['Benefits'] = pd.to_numeric(df_salary['Benefits'], errors='coerce')\n",
    "\n",
    "#удаляем ненужные столбцы\n",
    "df_salary.drop(['Id','EmployeeName','Notes', 'Agency', 'Status', ], axis=1 , inplace=True)\n"
   ]
  },
  {
   "cell_type": "code",
   "execution_count": 8,
   "metadata": {},
   "outputs": [
    {
     "data": {
      "text/html": [
       "<div>\n",
       "<style scoped>\n",
       "    .dataframe tbody tr th:only-of-type {\n",
       "        vertical-align: middle;\n",
       "    }\n",
       "\n",
       "    .dataframe tbody tr th {\n",
       "        vertical-align: top;\n",
       "    }\n",
       "\n",
       "    .dataframe thead th {\n",
       "        text-align: right;\n",
       "    }\n",
       "</style>\n",
       "<table border=\"1\" class=\"dataframe\">\n",
       "  <thead>\n",
       "    <tr style=\"text-align: right;\">\n",
       "      <th></th>\n",
       "      <th>JobTitle</th>\n",
       "      <th>BasePay</th>\n",
       "      <th>OvertimePay</th>\n",
       "      <th>OtherPay</th>\n",
       "      <th>Benefits</th>\n",
       "      <th>TotalPay</th>\n",
       "      <th>TotalPayBenefits</th>\n",
       "      <th>Year</th>\n",
       "    </tr>\n",
       "  </thead>\n",
       "  <tbody>\n",
       "    <tr>\n",
       "      <th>0</th>\n",
       "      <td>GENERAL MANAGER-METROPOLITAN TRANSIT AUTHORITY</td>\n",
       "      <td>167,411.18</td>\n",
       "      <td>0.00</td>\n",
       "      <td>400,184.25</td>\n",
       "      <td>NaN</td>\n",
       "      <td>567,595.43</td>\n",
       "      <td>567,595.43</td>\n",
       "      <td>2011</td>\n",
       "    </tr>\n",
       "    <tr>\n",
       "      <th>1</th>\n",
       "      <td>CAPTAIN III (POLICE DEPARTMENT)</td>\n",
       "      <td>155,966.02</td>\n",
       "      <td>245,131.88</td>\n",
       "      <td>137,811.38</td>\n",
       "      <td>NaN</td>\n",
       "      <td>538,909.28</td>\n",
       "      <td>538,909.28</td>\n",
       "      <td>2011</td>\n",
       "    </tr>\n",
       "    <tr>\n",
       "      <th>2</th>\n",
       "      <td>CAPTAIN III (POLICE DEPARTMENT)</td>\n",
       "      <td>212,739.13</td>\n",
       "      <td>106,088.18</td>\n",
       "      <td>16,452.60</td>\n",
       "      <td>NaN</td>\n",
       "      <td>335,279.91</td>\n",
       "      <td>335,279.91</td>\n",
       "      <td>2011</td>\n",
       "    </tr>\n",
       "    <tr>\n",
       "      <th>3</th>\n",
       "      <td>WIRE ROPE CABLE MAINTENANCE MECHANIC</td>\n",
       "      <td>77,916.00</td>\n",
       "      <td>56,120.71</td>\n",
       "      <td>198,306.90</td>\n",
       "      <td>NaN</td>\n",
       "      <td>332,343.61</td>\n",
       "      <td>332,343.61</td>\n",
       "      <td>2011</td>\n",
       "    </tr>\n",
       "    <tr>\n",
       "      <th>4</th>\n",
       "      <td>DEPUTY CHIEF OF DEPARTMENT,(FIRE DEPARTMENT)</td>\n",
       "      <td>134,401.60</td>\n",
       "      <td>9,737.00</td>\n",
       "      <td>182,234.59</td>\n",
       "      <td>NaN</td>\n",
       "      <td>326,373.19</td>\n",
       "      <td>326,373.19</td>\n",
       "      <td>2011</td>\n",
       "    </tr>\n",
       "  </tbody>\n",
       "</table>\n",
       "</div>"
      ],
      "text/plain": [
       "                                         JobTitle    BasePay  OvertimePay  \\\n",
       "0  GENERAL MANAGER-METROPOLITAN TRANSIT AUTHORITY 167,411.18         0.00   \n",
       "1                 CAPTAIN III (POLICE DEPARTMENT) 155,966.02   245,131.88   \n",
       "2                 CAPTAIN III (POLICE DEPARTMENT) 212,739.13   106,088.18   \n",
       "3            WIRE ROPE CABLE MAINTENANCE MECHANIC  77,916.00    56,120.71   \n",
       "4    DEPUTY CHIEF OF DEPARTMENT,(FIRE DEPARTMENT) 134,401.60     9,737.00   \n",
       "\n",
       "    OtherPay  Benefits   TotalPay  TotalPayBenefits  Year  \n",
       "0 400,184.25       NaN 567,595.43        567,595.43  2011  \n",
       "1 137,811.38       NaN 538,909.28        538,909.28  2011  \n",
       "2  16,452.60       NaN 335,279.91        335,279.91  2011  \n",
       "3 198,306.90       NaN 332,343.61        332,343.61  2011  \n",
       "4 182,234.59       NaN 326,373.19        326,373.19  2011  "
      ]
     },
     "execution_count": 8,
     "metadata": {},
     "output_type": "execute_result"
    }
   ],
   "source": [
    "df_salary.head()"
   ]
  },
  {
   "cell_type": "code",
   "execution_count": 9,
   "metadata": {},
   "outputs": [],
   "source": [
    "df_salary['JobTitle'] = df_salary['JobTitle'].str.lower()\n"
   ]
  },
  {
   "cell_type": "code",
   "execution_count": 10,
   "metadata": {},
   "outputs": [],
   "source": [
    "#создаем столбец department и вносим данные о том к какому департаменту относится вакансия исходя из ее описания.\n",
    "def check_department(df): \n",
    "    if 'police' in df.JobTitle:\n",
    "        return 'police' \n",
    "    if 'fire' in df.JobTitle:\n",
    "        return 'fire' \n",
    "    if 'medical' in df.JobTitle:\n",
    "        return 'medical'\n",
    "\n",
    "df_salary['department'] = df_salary.apply(check_department,axis=1)"
   ]
  },
  {
   "cell_type": "code",
   "execution_count": 11,
   "metadata": {},
   "outputs": [
    {
     "data": {
      "text/html": [
       "<div>\n",
       "<style scoped>\n",
       "    .dataframe tbody tr th:only-of-type {\n",
       "        vertical-align: middle;\n",
       "    }\n",
       "\n",
       "    .dataframe tbody tr th {\n",
       "        vertical-align: top;\n",
       "    }\n",
       "\n",
       "    .dataframe thead th {\n",
       "        text-align: right;\n",
       "    }\n",
       "</style>\n",
       "<table border=\"1\" class=\"dataframe\">\n",
       "  <thead>\n",
       "    <tr style=\"text-align: right;\">\n",
       "      <th></th>\n",
       "      <th>JobTitle</th>\n",
       "      <th>BasePay</th>\n",
       "      <th>OvertimePay</th>\n",
       "      <th>OtherPay</th>\n",
       "      <th>Benefits</th>\n",
       "      <th>TotalPay</th>\n",
       "      <th>TotalPayBenefits</th>\n",
       "      <th>Year</th>\n",
       "      <th>department</th>\n",
       "    </tr>\n",
       "  </thead>\n",
       "  <tbody>\n",
       "    <tr>\n",
       "      <th>0</th>\n",
       "      <td>general manager-metropolitan transit authority</td>\n",
       "      <td>167,411.18</td>\n",
       "      <td>0.00</td>\n",
       "      <td>400,184.25</td>\n",
       "      <td>NaN</td>\n",
       "      <td>567,595.43</td>\n",
       "      <td>567,595.43</td>\n",
       "      <td>2011</td>\n",
       "      <td>None</td>\n",
       "    </tr>\n",
       "    <tr>\n",
       "      <th>1</th>\n",
       "      <td>captain iii (police department)</td>\n",
       "      <td>155,966.02</td>\n",
       "      <td>245,131.88</td>\n",
       "      <td>137,811.38</td>\n",
       "      <td>NaN</td>\n",
       "      <td>538,909.28</td>\n",
       "      <td>538,909.28</td>\n",
       "      <td>2011</td>\n",
       "      <td>police</td>\n",
       "    </tr>\n",
       "    <tr>\n",
       "      <th>2</th>\n",
       "      <td>captain iii (police department)</td>\n",
       "      <td>212,739.13</td>\n",
       "      <td>106,088.18</td>\n",
       "      <td>16,452.60</td>\n",
       "      <td>NaN</td>\n",
       "      <td>335,279.91</td>\n",
       "      <td>335,279.91</td>\n",
       "      <td>2011</td>\n",
       "      <td>police</td>\n",
       "    </tr>\n",
       "    <tr>\n",
       "      <th>3</th>\n",
       "      <td>wire rope cable maintenance mechanic</td>\n",
       "      <td>77,916.00</td>\n",
       "      <td>56,120.71</td>\n",
       "      <td>198,306.90</td>\n",
       "      <td>NaN</td>\n",
       "      <td>332,343.61</td>\n",
       "      <td>332,343.61</td>\n",
       "      <td>2011</td>\n",
       "      <td>None</td>\n",
       "    </tr>\n",
       "    <tr>\n",
       "      <th>4</th>\n",
       "      <td>deputy chief of department,(fire department)</td>\n",
       "      <td>134,401.60</td>\n",
       "      <td>9,737.00</td>\n",
       "      <td>182,234.59</td>\n",
       "      <td>NaN</td>\n",
       "      <td>326,373.19</td>\n",
       "      <td>326,373.19</td>\n",
       "      <td>2011</td>\n",
       "      <td>fire</td>\n",
       "    </tr>\n",
       "  </tbody>\n",
       "</table>\n",
       "</div>"
      ],
      "text/plain": [
       "                                         JobTitle    BasePay  OvertimePay  \\\n",
       "0  general manager-metropolitan transit authority 167,411.18         0.00   \n",
       "1                 captain iii (police department) 155,966.02   245,131.88   \n",
       "2                 captain iii (police department) 212,739.13   106,088.18   \n",
       "3            wire rope cable maintenance mechanic  77,916.00    56,120.71   \n",
       "4    deputy chief of department,(fire department) 134,401.60     9,737.00   \n",
       "\n",
       "    OtherPay  Benefits   TotalPay  TotalPayBenefits  Year department  \n",
       "0 400,184.25       NaN 567,595.43        567,595.43  2011       None  \n",
       "1 137,811.38       NaN 538,909.28        538,909.28  2011     police  \n",
       "2  16,452.60       NaN 335,279.91        335,279.91  2011     police  \n",
       "3 198,306.90       NaN 332,343.61        332,343.61  2011       None  \n",
       "4 182,234.59       NaN 326,373.19        326,373.19  2011       fire  "
      ]
     },
     "execution_count": 11,
     "metadata": {},
     "output_type": "execute_result"
    }
   ],
   "source": [
    "df_salary.head()"
   ]
  },
  {
   "cell_type": "code",
   "execution_count": 12,
   "metadata": {},
   "outputs": [],
   "source": [
    "df_salary_final = df_salary[df_salary['department'].notnull()]"
   ]
  },
  {
   "cell_type": "code",
   "execution_count": 13,
   "metadata": {},
   "outputs": [
    {
     "data": {
      "text/html": [
       "<div>\n",
       "<style scoped>\n",
       "    .dataframe tbody tr th:only-of-type {\n",
       "        vertical-align: middle;\n",
       "    }\n",
       "\n",
       "    .dataframe tbody tr th {\n",
       "        vertical-align: top;\n",
       "    }\n",
       "\n",
       "    .dataframe thead th {\n",
       "        text-align: right;\n",
       "    }\n",
       "</style>\n",
       "<table border=\"1\" class=\"dataframe\">\n",
       "  <thead>\n",
       "    <tr style=\"text-align: right;\">\n",
       "      <th></th>\n",
       "      <th>JobTitle</th>\n",
       "      <th>BasePay</th>\n",
       "      <th>OvertimePay</th>\n",
       "      <th>OtherPay</th>\n",
       "      <th>Benefits</th>\n",
       "      <th>TotalPay</th>\n",
       "      <th>TotalPayBenefits</th>\n",
       "      <th>Year</th>\n",
       "      <th>department</th>\n",
       "    </tr>\n",
       "  </thead>\n",
       "  <tbody>\n",
       "    <tr>\n",
       "      <th>1</th>\n",
       "      <td>captain iii (police department)</td>\n",
       "      <td>155,966.02</td>\n",
       "      <td>245,131.88</td>\n",
       "      <td>137,811.38</td>\n",
       "      <td>NaN</td>\n",
       "      <td>538,909.28</td>\n",
       "      <td>538,909.28</td>\n",
       "      <td>2011</td>\n",
       "      <td>police</td>\n",
       "    </tr>\n",
       "    <tr>\n",
       "      <th>2</th>\n",
       "      <td>captain iii (police department)</td>\n",
       "      <td>212,739.13</td>\n",
       "      <td>106,088.18</td>\n",
       "      <td>16,452.60</td>\n",
       "      <td>NaN</td>\n",
       "      <td>335,279.91</td>\n",
       "      <td>335,279.91</td>\n",
       "      <td>2011</td>\n",
       "      <td>police</td>\n",
       "    </tr>\n",
       "    <tr>\n",
       "      <th>4</th>\n",
       "      <td>deputy chief of department,(fire department)</td>\n",
       "      <td>134,401.60</td>\n",
       "      <td>9,737.00</td>\n",
       "      <td>182,234.59</td>\n",
       "      <td>NaN</td>\n",
       "      <td>326,373.19</td>\n",
       "      <td>326,373.19</td>\n",
       "      <td>2011</td>\n",
       "      <td>fire</td>\n",
       "    </tr>\n",
       "    <tr>\n",
       "      <th>6</th>\n",
       "      <td>battalion chief, (fire department)</td>\n",
       "      <td>92,492.01</td>\n",
       "      <td>89,062.90</td>\n",
       "      <td>134,426.14</td>\n",
       "      <td>NaN</td>\n",
       "      <td>315,981.05</td>\n",
       "      <td>315,981.05</td>\n",
       "      <td>2011</td>\n",
       "      <td>fire</td>\n",
       "    </tr>\n",
       "    <tr>\n",
       "      <th>8</th>\n",
       "      <td>battalion chief, (fire department)</td>\n",
       "      <td>176,932.64</td>\n",
       "      <td>86,362.68</td>\n",
       "      <td>40,132.23</td>\n",
       "      <td>NaN</td>\n",
       "      <td>303,427.55</td>\n",
       "      <td>303,427.55</td>\n",
       "      <td>2011</td>\n",
       "      <td>fire</td>\n",
       "    </tr>\n",
       "  </tbody>\n",
       "</table>\n",
       "</div>"
      ],
      "text/plain": [
       "                                       JobTitle    BasePay  OvertimePay  \\\n",
       "1               captain iii (police department) 155,966.02   245,131.88   \n",
       "2               captain iii (police department) 212,739.13   106,088.18   \n",
       "4  deputy chief of department,(fire department) 134,401.60     9,737.00   \n",
       "6            battalion chief, (fire department)  92,492.01    89,062.90   \n",
       "8            battalion chief, (fire department) 176,932.64    86,362.68   \n",
       "\n",
       "    OtherPay  Benefits   TotalPay  TotalPayBenefits  Year department  \n",
       "1 137,811.38       NaN 538,909.28        538,909.28  2011     police  \n",
       "2  16,452.60       NaN 335,279.91        335,279.91  2011     police  \n",
       "4 182,234.59       NaN 326,373.19        326,373.19  2011       fire  \n",
       "6 134,426.14       NaN 315,981.05        315,981.05  2011       fire  \n",
       "8  40,132.23       NaN 303,427.55        303,427.55  2011       fire  "
      ]
     },
     "execution_count": 13,
     "metadata": {},
     "output_type": "execute_result"
    }
   ],
   "source": [
    "df_salary_final.head()"
   ]
  },
  {
   "cell_type": "code",
   "execution_count": 14,
   "metadata": {},
   "outputs": [
    {
     "name": "stdout",
     "output_type": "stream",
     "text": [
      "<class 'pandas.core.frame.DataFrame'>\n",
      "Int64Index: 15767 entries, 1 to 148561\n",
      "Data columns (total 9 columns):\n",
      " #   Column            Non-Null Count  Dtype  \n",
      "---  ------            --------------  -----  \n",
      " 0   JobTitle          15767 non-null  object \n",
      " 1   BasePay           15722 non-null  float64\n",
      " 2   OvertimePay       15767 non-null  float64\n",
      " 3   OtherPay          15767 non-null  float64\n",
      " 4   Benefits          11365 non-null  float64\n",
      " 5   TotalPay          15767 non-null  float64\n",
      " 6   TotalPayBenefits  15767 non-null  float64\n",
      " 7   Year              15767 non-null  int64  \n",
      " 8   department        15767 non-null  object \n",
      "dtypes: float64(6), int64(1), object(2)\n",
      "memory usage: 1.2+ MB\n"
     ]
    }
   ],
   "source": [
    "df_salary_final.info()"
   ]
  },
  {
   "cell_type": "markdown",
   "metadata": {},
   "source": [
    "## Вывод\n",
    "\n",
    "**Задача**:\n",
    "    \n",
    "-из полученной таблицы с вакансиями госслужащих Сан-Франциско определить к какому из трех департаментов ‘police’, ‘fire’, ‘medical’ относится вакансия с целью дальнейшего анализа данных в разрезе данных департаментов;    \n",
    "-очистка ненужных для анализа данных.\n",
    "\n",
    "**Предобработка данных завершена**: \n",
    "\n",
    "1.Получена таблица, содержащая 13 столбцов и 148 654 строк.  \n",
    "2.Удалены следующие столбцы, данные в которых не содержат необходимую для анализа информацию: ‘Id’, ‘EmployeeName’, ‘Notes’, ‘Agency’, ‘Status’.  \n",
    "3.Исходя из наименования вакансии, отраженной по столбцу ‘JobTitle’ определяем к какому из трех департаментов ‘police’, ‘fire’, ‘medical’ относится вакансия. Полученный результат отражаем в новом столбце ‘department’.  \n",
    "4.Удаляем записи вакансий, которые не относятся ни к одному из трех департаментов.  \n",
    "5.Итоговая таблица содержит 8 столбцов и 15767 строк. \n",
    "\n",
    "\n"
   ]
  },
  {
   "cell_type": "markdown",
   "metadata": {},
   "source": [
    "<font color='green'> \n",
    "***Ответ на вопрос №1***:\n",
    "Как со временем менялись зарплаты между разными группами (группировка по Department - fire, medicine, police)? \n",
    "(максимальная, медианная, средняя)\n",
    "</font>\n",
    "\n"
   ]
  },
  {
   "cell_type": "code",
   "execution_count": 28,
   "metadata": {},
   "outputs": [
    {
     "data": {
      "text/html": [
       "<div>\n",
       "<style scoped>\n",
       "    .dataframe tbody tr th:only-of-type {\n",
       "        vertical-align: middle;\n",
       "    }\n",
       "\n",
       "    .dataframe tbody tr th {\n",
       "        vertical-align: top;\n",
       "    }\n",
       "\n",
       "    .dataframe thead th {\n",
       "        text-align: right;\n",
       "    }\n",
       "</style>\n",
       "<table border=\"1\" class=\"dataframe\">\n",
       "  <thead>\n",
       "    <tr style=\"text-align: right;\">\n",
       "      <th></th>\n",
       "      <th></th>\n",
       "      <th>max</th>\n",
       "      <th>mean</th>\n",
       "      <th>median</th>\n",
       "    </tr>\n",
       "    <tr>\n",
       "      <th>department</th>\n",
       "      <th>Year</th>\n",
       "      <th></th>\n",
       "      <th></th>\n",
       "      <th></th>\n",
       "    </tr>\n",
       "  </thead>\n",
       "  <tbody>\n",
       "    <tr>\n",
       "      <th rowspan=\"4\" valign=\"top\">fire</th>\n",
       "      <th>2011</th>\n",
       "      <td>285,262.00</td>\n",
       "      <td>106,549.27</td>\n",
       "      <td>105,934.67</td>\n",
       "    </tr>\n",
       "    <tr>\n",
       "      <th>2012</th>\n",
       "      <td>296,943.01</td>\n",
       "      <td>109,222.65</td>\n",
       "      <td>110,847.10</td>\n",
       "    </tr>\n",
       "    <tr>\n",
       "      <th>2013</th>\n",
       "      <td>313,686.01</td>\n",
       "      <td>116,159.28</td>\n",
       "      <td>116,956.71</td>\n",
       "    </tr>\n",
       "    <tr>\n",
       "      <th>2014</th>\n",
       "      <td>302,068.00</td>\n",
       "      <td>108,179.29</td>\n",
       "      <td>112,703.72</td>\n",
       "    </tr>\n",
       "    <tr>\n",
       "      <th rowspan=\"4\" valign=\"top\">medical</th>\n",
       "      <th>2011</th>\n",
       "      <td>257,510.59</td>\n",
       "      <td>57,342.25</td>\n",
       "      <td>53,822.61</td>\n",
       "    </tr>\n",
       "    <tr>\n",
       "      <th>2012</th>\n",
       "      <td>254,878.82</td>\n",
       "      <td>53,843.10</td>\n",
       "      <td>56,968.71</td>\n",
       "    </tr>\n",
       "    <tr>\n",
       "      <th>2013</th>\n",
       "      <td>271,831.50</td>\n",
       "      <td>55,630.66</td>\n",
       "      <td>59,834.00</td>\n",
       "    </tr>\n",
       "    <tr>\n",
       "      <th>2014</th>\n",
       "      <td>268,946.02</td>\n",
       "      <td>56,816.50</td>\n",
       "      <td>60,364.97</td>\n",
       "    </tr>\n",
       "    <tr>\n",
       "      <th rowspan=\"4\" valign=\"top\">police</th>\n",
       "      <th>2011</th>\n",
       "      <td>261,717.60</td>\n",
       "      <td>105,981.21</td>\n",
       "      <td>111,976.14</td>\n",
       "    </tr>\n",
       "    <tr>\n",
       "      <th>2012</th>\n",
       "      <td>302,578.00</td>\n",
       "      <td>96,229.01</td>\n",
       "      <td>111,549.69</td>\n",
       "    </tr>\n",
       "    <tr>\n",
       "      <th>2013</th>\n",
       "      <td>319,275.01</td>\n",
       "      <td>102,405.84</td>\n",
       "      <td>118,618.94</td>\n",
       "    </tr>\n",
       "    <tr>\n",
       "      <th>2014</th>\n",
       "      <td>307,450.04</td>\n",
       "      <td>93,872.06</td>\n",
       "      <td>112,164.03</td>\n",
       "    </tr>\n",
       "  </tbody>\n",
       "</table>\n",
       "</div>"
      ],
      "text/plain": [
       "                       max       mean     median\n",
       "department Year                                 \n",
       "fire       2011 285,262.00 106,549.27 105,934.67\n",
       "           2012 296,943.01 109,222.65 110,847.10\n",
       "           2013 313,686.01 116,159.28 116,956.71\n",
       "           2014 302,068.00 108,179.29 112,703.72\n",
       "medical    2011 257,510.59  57,342.25  53,822.61\n",
       "           2012 254,878.82  53,843.10  56,968.71\n",
       "           2013 271,831.50  55,630.66  59,834.00\n",
       "           2014 268,946.02  56,816.50  60,364.97\n",
       "police     2011 261,717.60 105,981.21 111,976.14\n",
       "           2012 302,578.00  96,229.01 111,549.69\n",
       "           2013 319,275.01 102,405.84 118,618.94\n",
       "           2014 307,450.04  93,872.06 112,164.03"
      ]
     },
     "execution_count": 28,
     "metadata": {},
     "output_type": "execute_result"
    }
   ],
   "source": [
    "df_salary_final.groupby(['department', 'Year']).BasePay.agg(['max', 'mean', 'median'])"
   ]
  },
  {
   "cell_type": "markdown",
   "metadata": {},
   "source": [
    "<font color='green'> \n",
    "**Ответ на вопрос №2:** Как распределяются базовая оплата, сверхурочная работа и льготы между разными группами?\n",
    "Нужно построить диаграммы по распределению со временем для каждого департамента по базовым, сверхурочным и льготам\n",
    "</font>"
   ]
  },
  {
   "cell_type": "markdown",
   "metadata": {},
   "source": [
    "**Вариант 1**. Построить 3 диаграмммы в каждой будут все департаменты, но различный стобец BasePay, OvertimePay, Benefits"
   ]
  },
  {
   "cell_type": "code",
   "execution_count": 15,
   "metadata": {},
   "outputs": [],
   "source": [
    "a = df_salary_final.groupby(['department', 'Year']).BasePay.sum().unstack()\n",
    "b = df_salary_final.groupby(['department', 'Year']).OvertimePay.sum().unstack()\n",
    "c = df_salary_final.groupby(['department', 'Year']).Benefits.sum().unstack()"
   ]
  },
  {
   "cell_type": "code",
   "execution_count": 18,
   "metadata": {},
   "outputs": [
    {
     "data": {
      "image/png": "[encoded data removed]",
      "text/plain": [
       "<Figure size 432x288 with 1 Axes>"
      ]
     },
     "metadata": {
      "needs_background": "light"
     },
     "output_type": "display_data"
    },
    {
     "data": {
      "image/png": "[encoded data removed]",
      "text/plain": [
       "<Figure size 432x288 with 1 Axes>"
      ]
     },
     "metadata": {
      "needs_background": "light"
     },
     "output_type": "display_data"
    },
    {
     "data": {
      "image/png": "[encoded data removed]",
      "text/plain": [
       "<Figure size 432x288 with 1 Axes>"
      ]
     },
     "metadata": {
      "needs_background": "light"
     },
     "output_type": "display_data"
    }
   ],
   "source": [
    "a.plot(kind='bar')\n",
    "plt.xlabel('department')\n",
    "plt.ylabel('BasePay')\n",
    "plt.title('BasePay')\n",
    "\n",
    "\n",
    "b.plot(kind='bar')\n",
    "plt.xlabel('department')\n",
    "plt.ylabel('OvertimePay')\n",
    "plt.title('OvertimePay')\n",
    "\n",
    "\n",
    "c.plot(kind='bar')\n",
    "plt.xlabel('department')\n",
    "plt.ylabel('Benefits')\n",
    "plt.title('Benefits')\n",
    "plt.show()"
   ]
  },
  {
   "cell_type": "markdown",
   "metadata": {},
   "source": [
    "**Вариант 2**. Объединить в один график весь запрос"
   ]
  },
  {
   "cell_type": "code",
   "execution_count": 30,
   "metadata": {},
   "outputs": [
    {
     "data": {
      "text/html": [
       "<div>\n",
       "<style scoped>\n",
       "    .dataframe tbody tr th:only-of-type {\n",
       "        vertical-align: middle;\n",
       "    }\n",
       "\n",
       "    .dataframe tbody tr th {\n",
       "        vertical-align: top;\n",
       "    }\n",
       "\n",
       "    .dataframe thead th {\n",
       "        text-align: right;\n",
       "    }\n",
       "</style>\n",
       "<table border=\"1\" class=\"dataframe\">\n",
       "  <thead>\n",
       "    <tr style=\"text-align: right;\">\n",
       "      <th></th>\n",
       "      <th></th>\n",
       "      <th>BasePay</th>\n",
       "      <th>OvertimePay</th>\n",
       "      <th>Benefits</th>\n",
       "    </tr>\n",
       "    <tr>\n",
       "      <th>department</th>\n",
       "      <th>Year</th>\n",
       "      <th></th>\n",
       "      <th></th>\n",
       "      <th></th>\n",
       "    </tr>\n",
       "  </thead>\n",
       "  <tbody>\n",
       "    <tr>\n",
       "      <th rowspan=\"4\" valign=\"top\">fire</th>\n",
       "      <th>2011</th>\n",
       "      <td>155,455,383.78</td>\n",
       "      <td>31,898,485.78</td>\n",
       "      <td>0.00</td>\n",
       "    </tr>\n",
       "    <tr>\n",
       "      <th>2012</th>\n",
       "      <td>158,263,615.25</td>\n",
       "      <td>40,499,542.12</td>\n",
       "      <td>52,859,030.29</td>\n",
       "    </tr>\n",
       "    <tr>\n",
       "      <th>2013</th>\n",
       "      <td>167,153,208.63</td>\n",
       "      <td>43,978,891.99</td>\n",
       "      <td>56,620,946.76</td>\n",
       "    </tr>\n",
       "    <tr>\n",
       "      <th>2014</th>\n",
       "      <td>163,458,903.42</td>\n",
       "      <td>38,625,129.76</td>\n",
       "      <td>60,707,949.89</td>\n",
       "    </tr>\n",
       "    <tr>\n",
       "      <th rowspan=\"4\" valign=\"top\">medical</th>\n",
       "      <th>2011</th>\n",
       "      <td>24,714,507.64</td>\n",
       "      <td>1,135,499.38</td>\n",
       "      <td>0.00</td>\n",
       "    </tr>\n",
       "    <tr>\n",
       "      <th>2012</th>\n",
       "      <td>21,160,338.69</td>\n",
       "      <td>516,335.45</td>\n",
       "      <td>9,703,275.84</td>\n",
       "    </tr>\n",
       "    <tr>\n",
       "      <th>2013</th>\n",
       "      <td>23,643,032.57</td>\n",
       "      <td>520,985.76</td>\n",
       "      <td>9,108,516.82</td>\n",
       "    </tr>\n",
       "    <tr>\n",
       "      <th>2014</th>\n",
       "      <td>24,885,626.79</td>\n",
       "      <td>544,616.97</td>\n",
       "      <td>10,195,686.16</td>\n",
       "    </tr>\n",
       "    <tr>\n",
       "      <th rowspan=\"4\" valign=\"top\">police</th>\n",
       "      <th>2011</th>\n",
       "      <td>266,224,811.51</td>\n",
       "      <td>22,225,776.17</td>\n",
       "      <td>0.00</td>\n",
       "    </tr>\n",
       "    <tr>\n",
       "      <th>2012</th>\n",
       "      <td>184,663,462.87</td>\n",
       "      <td>24,739,129.82</td>\n",
       "      <td>57,429,170.22</td>\n",
       "    </tr>\n",
       "    <tr>\n",
       "      <th>2013</th>\n",
       "      <td>188,938,768.37</td>\n",
       "      <td>24,573,767.45</td>\n",
       "      <td>59,201,909.16</td>\n",
       "    </tr>\n",
       "    <tr>\n",
       "      <th>2014</th>\n",
       "      <td>178,450,786.62</td>\n",
       "      <td>26,684,074.32</td>\n",
       "      <td>61,511,276.28</td>\n",
       "    </tr>\n",
       "  </tbody>\n",
       "</table>\n",
       "</div>"
      ],
      "text/plain": [
       "                       BasePay   OvertimePay      Benefits\n",
       "department Year                                           \n",
       "fire       2011 155,455,383.78 31,898,485.78          0.00\n",
       "           2012 158,263,615.25 40,499,542.12 52,859,030.29\n",
       "           2013 167,153,208.63 43,978,891.99 56,620,946.76\n",
       "           2014 163,458,903.42 38,625,129.76 60,707,949.89\n",
       "medical    2011  24,714,507.64  1,135,499.38          0.00\n",
       "           2012  21,160,338.69    516,335.45  9,703,275.84\n",
       "           2013  23,643,032.57    520,985.76  9,108,516.82\n",
       "           2014  24,885,626.79    544,616.97 10,195,686.16\n",
       "police     2011 266,224,811.51 22,225,776.17          0.00\n",
       "           2012 184,663,462.87 24,739,129.82 57,429,170.22\n",
       "           2013 188,938,768.37 24,573,767.45 59,201,909.16\n",
       "           2014 178,450,786.62 26,684,074.32 61,511,276.28"
      ]
     },
     "execution_count": 30,
     "metadata": {},
     "output_type": "execute_result"
    }
   ],
   "source": [
    "b = df_salary_final.groupby(['department', 'Year'])[['BasePay', 'OvertimePay','Benefits']].sum()\n",
    "b"
   ]
  },
  {
   "cell_type": "code",
   "execution_count": 67,
   "metadata": {},
   "outputs": [
    {
     "data": {
      "image/png": "[encoded data removed]",
      "text/plain": [
       "<Figure size 720x360 with 1 Axes>"
      ]
     },
     "metadata": {
      "needs_background": "light"
     },
     "output_type": "display_data"
    }
   ],
   "source": [
    "b.plot(kind='bar', stacked=True, figsize=(10, 5))\n",
    "plt.show()"
   ]
  },
  {
   "cell_type": "markdown",
   "metadata": {},
   "source": [
    "**Вариант 3** посроение диаграмм по каждому департаменту отдельно"
   ]
  },
  {
   "cell_type": "code",
   "execution_count": 31,
   "metadata": {},
   "outputs": [],
   "source": [
    "df_p = df_salary_final[df_salary_final['department'] == 'police']\n",
    "df_m = df_salary_final[df_salary_final['department'] == 'medical']\n",
    "df_f = df_salary_final[df_salary_final['department'] == 'fire']\n",
    "f_p = df_p.groupby('Year')[['BasePay', 'OvertimePay','Benefits']].sum()\n",
    "f_m = df_m.groupby('Year')[['BasePay', 'OvertimePay','Benefits']].sum()\n",
    "f_f = df_f.groupby('Year')[['BasePay', 'OvertimePay','Benefits']].sum()"
   ]
  },
  {
   "cell_type": "code",
   "execution_count": 70,
   "metadata": {},
   "outputs": [
    {
     "data": {
      "image/png": "[encoded data removed]",
      "text/plain": [
       "<Figure size 720x360 with 1 Axes>"
      ]
     },
     "metadata": {
      "needs_background": "light"
     },
     "output_type": "display_data"
    },
    {
     "data": {
      "image/png": "[encoded data removed]",
      "text/plain": [
       "<Figure size 720x360 with 1 Axes>"
      ]
     },
     "metadata": {
      "needs_background": "light"
     },
     "output_type": "display_data"
    },
    {
     "data": {
      "image/png": "[encoded data removed]",
      "text/plain": [
       "<Figure size 720x360 with 1 Axes>"
      ]
     },
     "metadata": {
      "needs_background": "light"
     },
     "output_type": "display_data"
    }
   ],
   "source": [
    "f_p.plot(kind='bar', stacked=True, figsize=(10, 5))\n",
    "plt.title('Police')\n",
    "\n",
    "\n",
    "f_m.plot(kind='bar', stacked=True, figsize=(10, 5))\n",
    "plt.title('Medical')\n",
    "\n",
    "\n",
    "f_f.plot(kind='bar', stacked=True, figsize=(10, 5))\n",
    "plt.title('Fire')\n",
    "plt.show()"
   ]
  },
  {
   "cell_type": "markdown",
   "metadata": {},
   "source": [
    "<font color='green'>\n",
    "    \n",
    "**Ответ на вопрос №3:**  Как распределяется бюджет на разные группы (department) с течением времени?\n",
    "</font>"
   ]
  },
  {
   "cell_type": "code",
   "execution_count": 72,
   "metadata": {},
   "outputs": [
    {
     "data": {
      "text/html": [
       "<div>\n",
       "<style scoped>\n",
       "    .dataframe tbody tr th:only-of-type {\n",
       "        vertical-align: middle;\n",
       "    }\n",
       "\n",
       "    .dataframe tbody tr th {\n",
       "        vertical-align: top;\n",
       "    }\n",
       "\n",
       "    .dataframe thead th {\n",
       "        text-align: right;\n",
       "    }\n",
       "</style>\n",
       "<table border=\"1\" class=\"dataframe\">\n",
       "  <thead>\n",
       "    <tr style=\"text-align: right;\">\n",
       "      <th>Year</th>\n",
       "      <th>2011</th>\n",
       "      <th>2012</th>\n",
       "      <th>2013</th>\n",
       "      <th>2014</th>\n",
       "    </tr>\n",
       "    <tr>\n",
       "      <th>department</th>\n",
       "      <th></th>\n",
       "      <th></th>\n",
       "      <th></th>\n",
       "      <th></th>\n",
       "    </tr>\n",
       "  </thead>\n",
       "  <tbody>\n",
       "    <tr>\n",
       "      <th>fire</th>\n",
       "      <td>211,563,265.94</td>\n",
       "      <td>220,951,340.92</td>\n",
       "      <td>234,417,416.73</td>\n",
       "      <td>224,828,867.39</td>\n",
       "    </tr>\n",
       "    <tr>\n",
       "      <th>medical</th>\n",
       "      <td>26,921,486.59</td>\n",
       "      <td>22,129,406.34</td>\n",
       "      <td>24,673,510.08</td>\n",
       "      <td>25,937,858.19</td>\n",
       "    </tr>\n",
       "    <tr>\n",
       "      <th>police</th>\n",
       "      <td>319,268,095.21</td>\n",
       "      <td>223,101,452.92</td>\n",
       "      <td>229,526,362.43</td>\n",
       "      <td>220,500,252.80</td>\n",
       "    </tr>\n",
       "  </tbody>\n",
       "</table>\n",
       "</div>"
      ],
      "text/plain": [
       "Year                 2011           2012           2013           2014\n",
       "department                                                            \n",
       "fire       211,563,265.94 220,951,340.92 234,417,416.73 224,828,867.39\n",
       "medical     26,921,486.59  22,129,406.34  24,673,510.08  25,937,858.19\n",
       "police     319,268,095.21 223,101,452.92 229,526,362.43 220,500,252.80"
      ]
     },
     "execution_count": 72,
     "metadata": {},
     "output_type": "execute_result"
    }
   ],
   "source": [
    "df_salary_final.groupby(['department', 'Year']).TotalPay.sum().unstack()"
   ]
  },
  {
   "cell_type": "markdown",
   "metadata": {},
   "source": [
    "<font color='green'>\n",
    "    \n",
    "**Ответ на вопрос №4:** Какое количество людей в каждом департаменте?\n",
    "</font>"
   ]
  },
  {
   "cell_type": "code",
   "execution_count": 74,
   "metadata": {},
   "outputs": [
    {
     "data": {
      "text/plain": [
       "department\n",
       "fire       5879\n",
       "medical    1687\n",
       "police     8201\n",
       "Name: EmployeeName, dtype: int64"
      ]
     },
     "execution_count": 74,
     "metadata": {},
     "output_type": "execute_result"
    }
   ],
   "source": [
    "df_salary_final.groupby(['department']).EmployeeName.count()"
   ]
  },
  {
   "cell_type": "markdown",
   "metadata": {},
   "source": [
    "<font color='green'>\n",
    "    \n",
    "**Ответ на вопрос №5:** Какое количество с разным уровнем дохода? (гистограмма с шагом в 5к)\n",
    "</font>"
   ]
  },
  {
   "cell_type": "code",
   "execution_count": 35,
   "metadata": {},
   "outputs": [
    {
     "data": {
      "text/plain": [
       "108"
      ]
     },
     "execution_count": 35,
     "metadata": {},
     "output_type": "execute_result"
    }
   ],
   "source": [
    "#Определим количество групп с шагом 5к\n",
    "group_5k = round(df_salary_final['TotalPay'].max() / 5000)\n",
    "group_5k"
   ]
  },
  {
   "cell_type": "code",
   "execution_count": 36,
   "metadata": {},
   "outputs": [
    {
     "data": {
      "image/png": "[encoded data removed]",
      "text/plain": [
       "<Figure size 1080x720 with 1 Axes>"
      ]
     },
     "metadata": {
      "needs_background": "light"
     },
     "output_type": "display_data"
    }
   ],
   "source": [
    "#построим гистограмму\n",
    "from pylab import rcParams\n",
    "hist_info = plt.hist(df_salary_final['TotalPay'], bins = group_5k, edgecolor='black')\n",
    "rcParams['figure.figsize'] = 15,10\n",
    "\n",
    "plt.show()"
   ]
  },
  {
   "cell_type": "markdown",
   "metadata": {},
   "source": [
    "<font color='green'>\n",
    "    \n",
    "**Ответ на вопрос №6:** На базе линейной регрессии постройте прогноз по тому, какие будут закупки в следующий год по каждому департаменту\n",
    "</font>   "
   ]
  },
  {
   "cell_type": "code",
   "execution_count": 55,
   "metadata": {},
   "outputs": [],
   "source": [
    "list_of_departments = ['police', 'fire', 'medical']"
   ]
  },
  {
   "cell_type": "code",
   "execution_count": 67,
   "metadata": {},
   "outputs": [
    {
     "data": {
      "image/png": "[encoded data removed]",
      "text/plain": [
       "<Figure size 1440x648 with 1 Axes>"
      ]
     },
     "metadata": {
      "needs_background": "light"
     },
     "output_type": "display_data"
    },
    {
     "name": "stdout",
     "output_type": "stream",
     "text": [
      "coefficient of determination: 0.55\n",
      "Прогноз расходов police department на 2015 г. на основании простой линейной регрессии: 266741617.27\n"
     ]
    },
    {
     "data": {
      "image/png": "[encoded data removed]",
      "text/plain": [
       "<Figure size 1440x648 with 1 Axes>"
      ]
     },
     "metadata": {
      "needs_background": "light"
     },
     "output_type": "display_data"
    },
    {
     "name": "stdout",
     "output_type": "stream",
     "text": [
      "coefficient of determination: 0.71\n",
      "Прогноз расходов fire department на 2015 г. на основании простой линейной регрессии: 325274366.06\n"
     ]
    },
    {
     "data": {
      "image/png": "[encoded data removed]",
      "text/plain": [
       "<Figure size 1440x648 with 1 Axes>"
      ]
     },
     "metadata": {
      "needs_background": "light"
     },
     "output_type": "display_data"
    },
    {
     "name": "stdout",
     "output_type": "stream",
     "text": [
      "coefficient of determination: 0.95\n",
      "Прогноз расходов medical department на 2015 г. на основании простой линейной регрессии: 39563814.51\n"
     ]
    }
   ],
   "source": [
    "for i in list_of_departments:\n",
    "    df = df_salary_final[df_salary_final['department'] == i]\n",
    "    group = df.groupby(['Year']).TotalPayBenefits.sum().reset_index()\n",
    "    x = group['Year'].values.reshape((-1, 1))\n",
    "    y = group['TotalPayBenefits'].values\n",
    "    model = LinearRegression()\n",
    "    model.fit(x, y)\n",
    "    r_sq = model.score(x, y)\n",
    "    y_pred = model.predict(x)\n",
    "    plt.figure(figsize=(20,9))\n",
    "    plt.plot(y, \"blue\",linewidth=5, label='Реальные значения')\n",
    "    plt.plot(y_pred, \"red\",linewidth=5, label='Предсказание')\n",
    "    plt.legend(loc='best')\n",
    "    plt.title(\"Простая линейная регрессия\" + ' ' + i + ' ' \"department\")\n",
    "    plt.grid(True)\n",
    "    plt.show()\n",
    "    x2015 = np.array([2015]).reshape(1, -1)\n",
    "    y_pred = model.predict(x2015)\n",
    "    print('coefficient of determination:', r_sq.round(2))\n",
    "    print('Прогноз расходов' + ' ' + i + ' ' + 'department на 2015 г. на основании простой линейной регрессии:', y_pred[0].round(2))\n",
    "\n",
    "\n",
    "    "
   ]
  },
  {
   "cell_type": "markdown",
   "metadata": {},
   "source": [
    "## Итог\n",
    "\n",
    "На основании анализа данных по расходам трех департаментов SF (police, fire, medical) за 2011-2014 г формулируем следующие ответы на поставленные вопросы:  \n",
    "\n",
    "*1. Как со временем менялись зарплаты между департаментами? (максимальная, медианная, средняя):*\n",
    "\n",
    "Численные значения показателей в табличном выражении указаны в строке 28.\n",
    "\n",
    "За анализируемый период 2011-2014 г:   \n",
    "Police Department (PD):\n",
    "     - максимальная з/п увеличилась на 17,6%\n",
    "     - среднее значение з/п снизилось на 12%.\n",
    "     - медиана выросла на 1%\n",
    "Fire Department(FD):\n",
    "     - максимальная з/п увеличилась на 6%\n",
    "     - среднее значение з/п увеличилось на 2%.\n",
    "     - медиана выросла на 6%\n",
    "Medical Department(MD):\n",
    "     - максимальная з/п увеличилась на 6%\n",
    "     - среднее значение з/п увеличилось на 2%.\n",
    "     - медиана выросла на 6%\n",
    "     \n",
    "*2. Как распределяются базовая оплата, сверхурочная работа и льготы между разными группами? (Нужно построить диаграммы по распределению со временем для каждого департамента по базовым, сверхурочным и льготам)*\n",
    "\n",
    "Визуализация ответа указана в строке 18.  \n",
    "Бюджет PD на BasePay в 2014 г превышает бюджет FD на 9% и MD на 641%.   \n",
    "Бюджет PD на OvertimePay в 2014 г  ниже бюджета FD на 32%, но выше бюджета MD в 48 раз.  \n",
    "Бюджет PD на Benefits в 2014 г  выше бюджета FD на 1%. Бюджет MD в данном периоде отсутствует.  \n",
    "\n",
    "\n",
    "*3. Как распределяется бюджет на разные группы (department) с течением времени?*\n",
    "\n",
    "Визуализация ответа указана в строке 72.  \n",
    "Следует отметить, что общий бюджет трех департаментов за анализируемый период снизился на 15% с 558 млн долл., до 472 млн долл. При этом, если в 2011 доля PD в общем бюджете составляла 57%, FD – 38%, MD -5%, то в 2014 произошло перераспределение бюджета между PD и FD, а именно PD – 47%, FD – 48%, MD - 5%.\n",
    "\n",
    "\n",
    "*4. Какое количество людей в каждом департаменте?*\n",
    "\n",
    "PD – 8201 чел.  \n",
    "FD – 5879 чел.  \n",
    "MD – 1687 чел.  \n",
    "\n",
    "\n",
    "*5. Какое количество с разным уровнем дохода? (гистограмма с шагом в 5к)*  \n",
    "\n",
    "Визуализация гистограммы представлена в строке 36.\n",
    "\n",
    "Количество групп с разным уровнем дохода (шаг 5к)  - 108.\n",
    "\n",
    "\n",
    "*6. На базе линейной регрессии постройте прогноз по тому, какие будут закупке в следующий год по каждому департаменту.*\n",
    "\n",
    "Ввиду малого количества данных было принято решение о прогнозировании путем построения простой линейной регрессии.   \n",
    "По PD при коэффициенте детерминации 0,55 прогнозное значение бюджета на 2015 г составляет 266,741 млн долл.  \n",
    "По FD при коэффициенте детерминации 0,71 прогнозное значение бюджета на 2015 г составляет 325,274 млн долл.  \n",
    "По MD при коэффициенте детерминации 0,95 прогнозное значение бюджета на 2015 г составляет 39,563 млн долл.  \n"
   ]
  },
  {
   "cell_type": "code",
   "execution_count": null,
   "metadata": {},
   "outputs": [],
   "source": []
  }
 ],
 "metadata": {
  "kernelspec": {
   "display_name": "Python 3",
   "language": "python",
   "name": "python3"
  },
  "language_info": {
   "codemirror_mode": {
    "name": "ipython",
    "version": 3
   },
   "file_extension": ".py",
   "mimetype": "text/x-python",
   "name": "python",
   "nbconvert_exporter": "python",
   "pygments_lexer": "ipython3",
   "version": "3.7.1"
  }
 },
 "nbformat": 4,
 "nbformat_minor": 2
}

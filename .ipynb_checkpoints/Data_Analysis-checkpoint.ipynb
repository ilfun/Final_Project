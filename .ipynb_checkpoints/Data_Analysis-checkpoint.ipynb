{
 "cells": [
  {
   "cell_type": "markdown",
   "metadata": {},
   "source": [
    "1.Как со временем менялись зарплаты между разными группами (группировка по Department - fire, medicine, police)? (максимальная, медианная, средняя)\n",
    "2.Как распределяются базовая оплата, сверхурочная работа и льготы между разными группами? Нужно построить диаграммы по распределению со временем для каждого департамента по базовым, сверхурочным и льготам\n",
    "3.Как распределяется бюджет на разные группы (department) с течением времени?\n",
    "4.Какое количество людей в каждом департаменте?\n",
    "5.Какое количество с разным уровнем дохода? (гистограмма с шагом в 5к)\n",
    "6.На базе линейной регрессии постройте прогноз по тому, какие будут закупки в следующий год по каждому департаменту"
   ]
  },
  {
   "cell_type": "code",
   "execution_count": 1,
   "metadata": {},
   "outputs": [
    {
     "name": "stderr",
     "output_type": "stream",
     "text": [
      "C:\\Users\\ILYA\\Anaconda3\\lib\\site-packages\\sklearn\\linear_model\\least_angle.py:35: DeprecationWarning: `np.float` is a deprecated alias for the builtin `float`. To silence this warning, use `float` by itself. Doing this will not modify any behavior and is safe. If you specifically wanted the numpy scalar type, use `np.float64` here.\n",
      "Deprecated in NumPy 1.20; for more details and guidance: https://numpy.org/devdocs/release/1.20.0-notes.html#deprecations\n",
      "  eps=np.finfo(np.float).eps,\n",
      "C:\\Users\\ILYA\\Anaconda3\\lib\\site-packages\\sklearn\\linear_model\\least_angle.py:597: DeprecationWarning: `np.float` is a deprecated alias for the builtin `float`. To silence this warning, use `float` by itself. Doing this will not modify any behavior and is safe. If you specifically wanted the numpy scalar type, use `np.float64` here.\n",
      "Deprecated in NumPy 1.20; for more details and guidance: https://numpy.org/devdocs/release/1.20.0-notes.html#deprecations\n",
      "  eps=np.finfo(np.float).eps, copy_X=True, fit_path=True,\n",
      "C:\\Users\\ILYA\\Anaconda3\\lib\\site-packages\\sklearn\\linear_model\\least_angle.py:836: DeprecationWarning: `np.float` is a deprecated alias for the builtin `float`. To silence this warning, use `float` by itself. Doing this will not modify any behavior and is safe. If you specifically wanted the numpy scalar type, use `np.float64` here.\n",
      "Deprecated in NumPy 1.20; for more details and guidance: https://numpy.org/devdocs/release/1.20.0-notes.html#deprecations\n",
      "  eps=np.finfo(np.float).eps, copy_X=True, fit_path=True,\n",
      "C:\\Users\\ILYA\\Anaconda3\\lib\\site-packages\\sklearn\\linear_model\\least_angle.py:862: DeprecationWarning: `np.float` is a deprecated alias for the builtin `float`. To silence this warning, use `float` by itself. Doing this will not modify any behavior and is safe. If you specifically wanted the numpy scalar type, use `np.float64` here.\n",
      "Deprecated in NumPy 1.20; for more details and guidance: https://numpy.org/devdocs/release/1.20.0-notes.html#deprecations\n",
      "  eps=np.finfo(np.float).eps, positive=False):\n",
      "C:\\Users\\ILYA\\Anaconda3\\lib\\site-packages\\sklearn\\linear_model\\least_angle.py:1097: DeprecationWarning: `np.float` is a deprecated alias for the builtin `float`. To silence this warning, use `float` by itself. Doing this will not modify any behavior and is safe. If you specifically wanted the numpy scalar type, use `np.float64` here.\n",
      "Deprecated in NumPy 1.20; for more details and guidance: https://numpy.org/devdocs/release/1.20.0-notes.html#deprecations\n",
      "  max_n_alphas=1000, n_jobs=None, eps=np.finfo(np.float).eps,\n",
      "C:\\Users\\ILYA\\Anaconda3\\lib\\site-packages\\sklearn\\linear_model\\least_angle.py:1344: DeprecationWarning: `np.float` is a deprecated alias for the builtin `float`. To silence this warning, use `float` by itself. Doing this will not modify any behavior and is safe. If you specifically wanted the numpy scalar type, use `np.float64` here.\n",
      "Deprecated in NumPy 1.20; for more details and guidance: https://numpy.org/devdocs/release/1.20.0-notes.html#deprecations\n",
      "  max_n_alphas=1000, n_jobs=None, eps=np.finfo(np.float).eps,\n",
      "C:\\Users\\ILYA\\Anaconda3\\lib\\site-packages\\sklearn\\linear_model\\least_angle.py:1480: DeprecationWarning: `np.float` is a deprecated alias for the builtin `float`. To silence this warning, use `float` by itself. Doing this will not modify any behavior and is safe. If you specifically wanted the numpy scalar type, use `np.float64` here.\n",
      "Deprecated in NumPy 1.20; for more details and guidance: https://numpy.org/devdocs/release/1.20.0-notes.html#deprecations\n",
      "  eps=np.finfo(np.float).eps, copy_X=True, positive=False):\n",
      "C:\\Users\\ILYA\\Anaconda3\\lib\\site-packages\\sklearn\\linear_model\\randomized_l1.py:152: DeprecationWarning: `np.float` is a deprecated alias for the builtin `float`. To silence this warning, use `float` by itself. Doing this will not modify any behavior and is safe. If you specifically wanted the numpy scalar type, use `np.float64` here.\n",
      "Deprecated in NumPy 1.20; for more details and guidance: https://numpy.org/devdocs/release/1.20.0-notes.html#deprecations\n",
      "  precompute=False, eps=np.finfo(np.float).eps,\n",
      "C:\\Users\\ILYA\\Anaconda3\\lib\\site-packages\\sklearn\\linear_model\\randomized_l1.py:320: DeprecationWarning: `np.float` is a deprecated alias for the builtin `float`. To silence this warning, use `float` by itself. Doing this will not modify any behavior and is safe. If you specifically wanted the numpy scalar type, use `np.float64` here.\n",
      "Deprecated in NumPy 1.20; for more details and guidance: https://numpy.org/devdocs/release/1.20.0-notes.html#deprecations\n",
      "  eps=np.finfo(np.float).eps, random_state=None,\n",
      "C:\\Users\\ILYA\\Anaconda3\\lib\\site-packages\\sklearn\\linear_model\\randomized_l1.py:580: DeprecationWarning: `np.float` is a deprecated alias for the builtin `float`. To silence this warning, use `float` by itself. Doing this will not modify any behavior and is safe. If you specifically wanted the numpy scalar type, use `np.float64` here.\n",
      "Deprecated in NumPy 1.20; for more details and guidance: https://numpy.org/devdocs/release/1.20.0-notes.html#deprecations\n",
      "  eps=4 * np.finfo(np.float).eps, n_jobs=None,\n"
     ]
    }
   ],
   "source": [
    "import pandas as pd\n",
    "import numpy as np\n",
    "import matplotlib.pyplot as plt\n",
    "from sklearn.linear_model import LinearRegression"
   ]
  },
  {
   "cell_type": "code",
   "execution_count": 2,
   "metadata": {},
   "outputs": [],
   "source": [
    "#отображение формата сумм\n",
    "pd.options.display.float_format ='{:,.2f}'.format"
   ]
  },
  {
   "cell_type": "code",
   "execution_count": null,
   "metadata": {},
   "outputs": [],
   "source": []
  },
  {
   "cell_type": "code",
   "execution_count": 106,
   "metadata": {},
   "outputs": [],
   "source": [
    "df = pd.read_csv('C:/Users/ILYA/Desktop/Python/Final project/final_file.csv')"
   ]
  },
  {
   "cell_type": "code",
   "execution_count": 107,
   "metadata": {},
   "outputs": [
    {
     "data": {
      "text/html": [
       "<div>\n",
       "<style scoped>\n",
       "    .dataframe tbody tr th:only-of-type {\n",
       "        vertical-align: middle;\n",
       "    }\n",
       "\n",
       "    .dataframe tbody tr th {\n",
       "        vertical-align: top;\n",
       "    }\n",
       "\n",
       "    .dataframe thead th {\n",
       "        text-align: right;\n",
       "    }\n",
       "</style>\n",
       "<table border=\"1\" class=\"dataframe\">\n",
       "  <thead>\n",
       "    <tr style=\"text-align: right;\">\n",
       "      <th></th>\n",
       "      <th>Id</th>\n",
       "      <th>EmployeeName</th>\n",
       "      <th>JobTitle</th>\n",
       "      <th>BasePay</th>\n",
       "      <th>OvertimePay</th>\n",
       "      <th>OtherPay</th>\n",
       "      <th>Benefits</th>\n",
       "      <th>TotalPay</th>\n",
       "      <th>TotalPayBenefits</th>\n",
       "      <th>Year</th>\n",
       "      <th>department</th>\n",
       "    </tr>\n",
       "  </thead>\n",
       "  <tbody>\n",
       "    <tr>\n",
       "      <th>0</th>\n",
       "      <td>2</td>\n",
       "      <td>GARY JIMENEZ</td>\n",
       "      <td>captain iii (police department)</td>\n",
       "      <td>155,966.02</td>\n",
       "      <td>245,131.88</td>\n",
       "      <td>137,811.38</td>\n",
       "      <td>NaN</td>\n",
       "      <td>538,909.28</td>\n",
       "      <td>538,909.28</td>\n",
       "      <td>2011</td>\n",
       "      <td>police</td>\n",
       "    </tr>\n",
       "    <tr>\n",
       "      <th>1</th>\n",
       "      <td>3</td>\n",
       "      <td>ALBERT PARDINI</td>\n",
       "      <td>captain iii (police department)</td>\n",
       "      <td>212,739.13</td>\n",
       "      <td>106,088.18</td>\n",
       "      <td>16,452.60</td>\n",
       "      <td>NaN</td>\n",
       "      <td>335,279.91</td>\n",
       "      <td>335,279.91</td>\n",
       "      <td>2011</td>\n",
       "      <td>police</td>\n",
       "    </tr>\n",
       "    <tr>\n",
       "      <th>2</th>\n",
       "      <td>5</td>\n",
       "      <td>PATRICK GARDNER</td>\n",
       "      <td>deputy chief of department,(fire department)</td>\n",
       "      <td>134,401.60</td>\n",
       "      <td>9,737.00</td>\n",
       "      <td>182,234.59</td>\n",
       "      <td>NaN</td>\n",
       "      <td>326,373.19</td>\n",
       "      <td>326,373.19</td>\n",
       "      <td>2011</td>\n",
       "      <td>fire</td>\n",
       "    </tr>\n",
       "    <tr>\n",
       "      <th>3</th>\n",
       "      <td>7</td>\n",
       "      <td>ALSON LEE</td>\n",
       "      <td>battalion chief, (fire department)</td>\n",
       "      <td>92,492.01</td>\n",
       "      <td>89,062.90</td>\n",
       "      <td>134,426.14</td>\n",
       "      <td>NaN</td>\n",
       "      <td>315,981.05</td>\n",
       "      <td>315,981.05</td>\n",
       "      <td>2011</td>\n",
       "      <td>fire</td>\n",
       "    </tr>\n",
       "    <tr>\n",
       "      <th>4</th>\n",
       "      <td>9</td>\n",
       "      <td>MICHAEL MORRIS</td>\n",
       "      <td>battalion chief, (fire department)</td>\n",
       "      <td>176,932.64</td>\n",
       "      <td>86,362.68</td>\n",
       "      <td>40,132.23</td>\n",
       "      <td>NaN</td>\n",
       "      <td>303,427.55</td>\n",
       "      <td>303,427.55</td>\n",
       "      <td>2011</td>\n",
       "      <td>fire</td>\n",
       "    </tr>\n",
       "  </tbody>\n",
       "</table>\n",
       "</div>"
      ],
      "text/plain": [
       "   Id     EmployeeName                                      JobTitle  \\\n",
       "0   2     GARY JIMENEZ               captain iii (police department)   \n",
       "1   3   ALBERT PARDINI               captain iii (police department)   \n",
       "2   5  PATRICK GARDNER  deputy chief of department,(fire department)   \n",
       "3   7        ALSON LEE            battalion chief, (fire department)   \n",
       "4   9   MICHAEL MORRIS            battalion chief, (fire department)   \n",
       "\n",
       "     BasePay  OvertimePay   OtherPay  Benefits   TotalPay  TotalPayBenefits  \\\n",
       "0 155,966.02   245,131.88 137,811.38       NaN 538,909.28        538,909.28   \n",
       "1 212,739.13   106,088.18  16,452.60       NaN 335,279.91        335,279.91   \n",
       "2 134,401.60     9,737.00 182,234.59       NaN 326,373.19        326,373.19   \n",
       "3  92,492.01    89,062.90 134,426.14       NaN 315,981.05        315,981.05   \n",
       "4 176,932.64    86,362.68  40,132.23       NaN 303,427.55        303,427.55   \n",
       "\n",
       "   Year department  \n",
       "0  2011     police  \n",
       "1  2011     police  \n",
       "2  2011       fire  \n",
       "3  2011       fire  \n",
       "4  2011       fire  "
      ]
     },
     "execution_count": 107,
     "metadata": {},
     "output_type": "execute_result"
    }
   ],
   "source": [
    "df.head()\n"
   ]
  },
  {
   "cell_type": "code",
   "execution_count": 108,
   "metadata": {},
   "outputs": [
    {
     "name": "stdout",
     "output_type": "stream",
     "text": [
      "<class 'pandas.core.frame.DataFrame'>\n",
      "RangeIndex: 15767 entries, 0 to 15766\n",
      "Data columns (total 11 columns):\n",
      " #   Column            Non-Null Count  Dtype  \n",
      "---  ------            --------------  -----  \n",
      " 0   Id                15767 non-null  int64  \n",
      " 1   EmployeeName      15767 non-null  object \n",
      " 2   JobTitle          15767 non-null  object \n",
      " 3   BasePay           15722 non-null  float64\n",
      " 4   OvertimePay       15767 non-null  float64\n",
      " 5   OtherPay          15767 non-null  float64\n",
      " 6   Benefits          11365 non-null  float64\n",
      " 7   TotalPay          15767 non-null  float64\n",
      " 8   TotalPayBenefits  15767 non-null  float64\n",
      " 9   Year              15767 non-null  int64  \n",
      " 10  department        15767 non-null  object \n",
      "dtypes: float64(6), int64(2), object(3)\n",
      "memory usage: 1.3+ MB\n"
     ]
    }
   ],
   "source": [
    "df.info()"
   ]
  },
  {
   "cell_type": "code",
   "execution_count": 109,
   "metadata": {},
   "outputs": [],
   "source": [
    "#ответ на вопрос 1:\n",
    "# Как со временем менялись зарплаты между разными группами (группировка по Department - fire, medicine, police)? \n",
    "#(максимальная, медианная, средняя)"
   ]
  },
  {
   "cell_type": "code",
   "execution_count": 110,
   "metadata": {},
   "outputs": [
    {
     "data": {
      "text/html": [
       "<div>\n",
       "<style scoped>\n",
       "    .dataframe tbody tr th:only-of-type {\n",
       "        vertical-align: middle;\n",
       "    }\n",
       "\n",
       "    .dataframe tbody tr th {\n",
       "        vertical-align: top;\n",
       "    }\n",
       "\n",
       "    .dataframe thead th {\n",
       "        text-align: right;\n",
       "    }\n",
       "</style>\n",
       "<table border=\"1\" class=\"dataframe\">\n",
       "  <thead>\n",
       "    <tr style=\"text-align: right;\">\n",
       "      <th></th>\n",
       "      <th></th>\n",
       "      <th>max</th>\n",
       "      <th>mean</th>\n",
       "      <th>median</th>\n",
       "    </tr>\n",
       "    <tr>\n",
       "      <th>department</th>\n",
       "      <th>Year</th>\n",
       "      <th></th>\n",
       "      <th></th>\n",
       "      <th></th>\n",
       "    </tr>\n",
       "  </thead>\n",
       "  <tbody>\n",
       "    <tr>\n",
       "      <th rowspan=\"4\" valign=\"top\">fire</th>\n",
       "      <th>2011</th>\n",
       "      <td>285,262.00</td>\n",
       "      <td>106,549.27</td>\n",
       "      <td>105,934.67</td>\n",
       "    </tr>\n",
       "    <tr>\n",
       "      <th>2012</th>\n",
       "      <td>296,943.01</td>\n",
       "      <td>109,222.65</td>\n",
       "      <td>110,847.10</td>\n",
       "    </tr>\n",
       "    <tr>\n",
       "      <th>2013</th>\n",
       "      <td>313,686.01</td>\n",
       "      <td>116,159.28</td>\n",
       "      <td>116,956.71</td>\n",
       "    </tr>\n",
       "    <tr>\n",
       "      <th>2014</th>\n",
       "      <td>302,068.00</td>\n",
       "      <td>108,179.29</td>\n",
       "      <td>112,703.72</td>\n",
       "    </tr>\n",
       "    <tr>\n",
       "      <th rowspan=\"4\" valign=\"top\">medicine</th>\n",
       "      <th>2011</th>\n",
       "      <td>257,510.59</td>\n",
       "      <td>57,342.25</td>\n",
       "      <td>53,822.61</td>\n",
       "    </tr>\n",
       "    <tr>\n",
       "      <th>2012</th>\n",
       "      <td>254,878.82</td>\n",
       "      <td>53,843.10</td>\n",
       "      <td>56,968.71</td>\n",
       "    </tr>\n",
       "    <tr>\n",
       "      <th>2013</th>\n",
       "      <td>271,831.50</td>\n",
       "      <td>55,630.66</td>\n",
       "      <td>59,834.00</td>\n",
       "    </tr>\n",
       "    <tr>\n",
       "      <th>2014</th>\n",
       "      <td>268,946.02</td>\n",
       "      <td>56,816.50</td>\n",
       "      <td>60,364.97</td>\n",
       "    </tr>\n",
       "    <tr>\n",
       "      <th rowspan=\"4\" valign=\"top\">police</th>\n",
       "      <th>2011</th>\n",
       "      <td>261,717.60</td>\n",
       "      <td>105,981.21</td>\n",
       "      <td>111,976.14</td>\n",
       "    </tr>\n",
       "    <tr>\n",
       "      <th>2012</th>\n",
       "      <td>302,578.00</td>\n",
       "      <td>96,229.01</td>\n",
       "      <td>111,549.69</td>\n",
       "    </tr>\n",
       "    <tr>\n",
       "      <th>2013</th>\n",
       "      <td>319,275.01</td>\n",
       "      <td>102,405.84</td>\n",
       "      <td>118,618.94</td>\n",
       "    </tr>\n",
       "    <tr>\n",
       "      <th>2014</th>\n",
       "      <td>307,450.04</td>\n",
       "      <td>93,872.06</td>\n",
       "      <td>112,164.03</td>\n",
       "    </tr>\n",
       "  </tbody>\n",
       "</table>\n",
       "</div>"
      ],
      "text/plain": [
       "                       max       mean     median\n",
       "department Year                                 \n",
       "fire       2011 285,262.00 106,549.27 105,934.67\n",
       "           2012 296,943.01 109,222.65 110,847.10\n",
       "           2013 313,686.01 116,159.28 116,956.71\n",
       "           2014 302,068.00 108,179.29 112,703.72\n",
       "medicine   2011 257,510.59  57,342.25  53,822.61\n",
       "           2012 254,878.82  53,843.10  56,968.71\n",
       "           2013 271,831.50  55,630.66  59,834.00\n",
       "           2014 268,946.02  56,816.50  60,364.97\n",
       "police     2011 261,717.60 105,981.21 111,976.14\n",
       "           2012 302,578.00  96,229.01 111,549.69\n",
       "           2013 319,275.01 102,405.84 118,618.94\n",
       "           2014 307,450.04  93,872.06 112,164.03"
      ]
     },
     "execution_count": 110,
     "metadata": {},
     "output_type": "execute_result"
    }
   ],
   "source": [
    "df.groupby(['department', 'Year']).BasePay.agg(['max', 'mean', 'median'])"
   ]
  },
  {
   "cell_type": "code",
   "execution_count": null,
   "metadata": {},
   "outputs": [],
   "source": [
    "##Ответ на вопрос 2. Как распределяются базовая оплата, сверхурочная работа и льготы между разными группами?\n",
    "##Нужно построить диаграммы по распределению со временем для каждого департамента по базовым, сверхурочным и льготам\n"
   ]
  },
  {
   "cell_type": "code",
   "execution_count": 85,
   "metadata": {},
   "outputs": [],
   "source": [
    "## Вариант 1. Построить 3 диаграмммы в каждой будут все департаменты, но различный стобец BasePay, OvertimePay, Benefits"
   ]
  },
  {
   "cell_type": "code",
   "execution_count": 111,
   "metadata": {},
   "outputs": [],
   "source": [
    "a = df.groupby(['department', 'Year']).BasePay.sum().unstack()\n",
    "b = df.groupby(['department', 'Year']).OvertimePay.sum().unstack()\n",
    "c = df.groupby(['department', 'Year']).Benefits.sum().unstack()"
   ]
  },
  {
   "cell_type": "code",
   "execution_count": 112,
   "metadata": {},
   "outputs": [
    {
     "data": {
      "text/html": [
       "<div>\n",
       "<style scoped>\n",
       "    .dataframe tbody tr th:only-of-type {\n",
       "        vertical-align: middle;\n",
       "    }\n",
       "\n",
       "    .dataframe tbody tr th {\n",
       "        vertical-align: top;\n",
       "    }\n",
       "\n",
       "    .dataframe thead th {\n",
       "        text-align: right;\n",
       "    }\n",
       "</style>\n",
       "<table border=\"1\" class=\"dataframe\">\n",
       "  <thead>\n",
       "    <tr style=\"text-align: right;\">\n",
       "      <th>Year</th>\n",
       "      <th>2011</th>\n",
       "      <th>2012</th>\n",
       "      <th>2013</th>\n",
       "      <th>2014</th>\n",
       "    </tr>\n",
       "    <tr>\n",
       "      <th>department</th>\n",
       "      <th></th>\n",
       "      <th></th>\n",
       "      <th></th>\n",
       "      <th></th>\n",
       "    </tr>\n",
       "  </thead>\n",
       "  <tbody>\n",
       "    <tr>\n",
       "      <th>fire</th>\n",
       "      <td>155,455,383.78</td>\n",
       "      <td>158,263,615.25</td>\n",
       "      <td>167,153,208.63</td>\n",
       "      <td>163,458,903.42</td>\n",
       "    </tr>\n",
       "    <tr>\n",
       "      <th>medicine</th>\n",
       "      <td>24,714,507.64</td>\n",
       "      <td>21,160,338.69</td>\n",
       "      <td>23,643,032.57</td>\n",
       "      <td>24,885,626.79</td>\n",
       "    </tr>\n",
       "    <tr>\n",
       "      <th>police</th>\n",
       "      <td>266,224,811.51</td>\n",
       "      <td>184,663,462.87</td>\n",
       "      <td>188,938,768.37</td>\n",
       "      <td>178,450,786.62</td>\n",
       "    </tr>\n",
       "  </tbody>\n",
       "</table>\n",
       "</div>"
      ],
      "text/plain": [
       "Year                 2011           2012           2013           2014\n",
       "department                                                            \n",
       "fire       155,455,383.78 158,263,615.25 167,153,208.63 163,458,903.42\n",
       "medicine    24,714,507.64  21,160,338.69  23,643,032.57  24,885,626.79\n",
       "police     266,224,811.51 184,663,462.87 188,938,768.37 178,450,786.62"
      ]
     },
     "execution_count": 112,
     "metadata": {},
     "output_type": "execute_result"
    }
   ],
   "source": [
    "a"
   ]
  },
  {
   "cell_type": "code",
   "execution_count": 113,
   "metadata": {},
   "outputs": [
    {
     "data": {
      "image/png": "[encoded data removed]",
      "text/plain": [
       "<Figure size 432x288 with 1 Axes>"
      ]
     },
     "metadata": {
      "needs_background": "light"
     },
     "output_type": "display_data"
    },
    {
     "data": {
      "image/png": "[encoded data removed]",
      "text/plain": [
       "<Figure size 432x288 with 1 Axes>"
      ]
     },
     "metadata": {
      "needs_background": "light"
     },
     "output_type": "display_data"
    },
    {
     "data": {
      "image/png": "[encoded data removed]",
      "text/plain": [
       "<Figure size 432x288 with 1 Axes>"
      ]
     },
     "metadata": {
      "needs_background": "light"
     },
     "output_type": "display_data"
    }
   ],
   "source": [
    "a.plot(kind='bar')\n",
    "plt.xlabel('department')\n",
    "plt.ylabel('BasePay')\n",
    "plt.title('BasePay')\n",
    "\n",
    "\n",
    "b.plot(kind='bar')\n",
    "plt.xlabel('department')\n",
    "plt.ylabel('OvertimePay')\n",
    "plt.title('OvertimePay')\n",
    "\n",
    "\n",
    "c.plot(kind='bar')\n",
    "plt.xlabel('department')\n",
    "plt.ylabel('Benefits')\n",
    "plt.title('Benefits')\n",
    "plt.show()\n",
    "\n",
    "\n"
   ]
  },
  {
   "cell_type": "code",
   "execution_count": 10,
   "metadata": {},
   "outputs": [],
   "source": [
    "## Вариант 2. Объединить в один график весь запрос"
   ]
  },
  {
   "cell_type": "code",
   "execution_count": 114,
   "metadata": {},
   "outputs": [
    {
     "name": "stderr",
     "output_type": "stream",
     "text": [
      "C:\\Users\\ILYA\\Anaconda3\\lib\\site-packages\\ipykernel_launcher.py:1: FutureWarning: Indexing with multiple keys (implicitly converted to a tuple of keys) will be deprecated, use a list instead.\n",
      "  \"\"\"Entry point for launching an IPython kernel.\n"
     ]
    },
    {
     "data": {
      "text/html": [
       "<div>\n",
       "<style scoped>\n",
       "    .dataframe tbody tr th:only-of-type {\n",
       "        vertical-align: middle;\n",
       "    }\n",
       "\n",
       "    .dataframe tbody tr th {\n",
       "        vertical-align: top;\n",
       "    }\n",
       "\n",
       "    .dataframe thead th {\n",
       "        text-align: right;\n",
       "    }\n",
       "</style>\n",
       "<table border=\"1\" class=\"dataframe\">\n",
       "  <thead>\n",
       "    <tr style=\"text-align: right;\">\n",
       "      <th></th>\n",
       "      <th></th>\n",
       "      <th>BasePay</th>\n",
       "      <th>OvertimePay</th>\n",
       "      <th>Benefits</th>\n",
       "    </tr>\n",
       "    <tr>\n",
       "      <th>department</th>\n",
       "      <th>Year</th>\n",
       "      <th></th>\n",
       "      <th></th>\n",
       "      <th></th>\n",
       "    </tr>\n",
       "  </thead>\n",
       "  <tbody>\n",
       "    <tr>\n",
       "      <th rowspan=\"4\" valign=\"top\">fire</th>\n",
       "      <th>2011</th>\n",
       "      <td>155,455,383.78</td>\n",
       "      <td>31,898,485.78</td>\n",
       "      <td>0.00</td>\n",
       "    </tr>\n",
       "    <tr>\n",
       "      <th>2012</th>\n",
       "      <td>158,263,615.25</td>\n",
       "      <td>40,499,542.12</td>\n",
       "      <td>52,859,030.29</td>\n",
       "    </tr>\n",
       "    <tr>\n",
       "      <th>2013</th>\n",
       "      <td>167,153,208.63</td>\n",
       "      <td>43,978,891.99</td>\n",
       "      <td>56,620,946.76</td>\n",
       "    </tr>\n",
       "    <tr>\n",
       "      <th>2014</th>\n",
       "      <td>163,458,903.42</td>\n",
       "      <td>38,625,129.76</td>\n",
       "      <td>60,707,949.89</td>\n",
       "    </tr>\n",
       "    <tr>\n",
       "      <th rowspan=\"4\" valign=\"top\">medicine</th>\n",
       "      <th>2011</th>\n",
       "      <td>24,714,507.64</td>\n",
       "      <td>1,135,499.38</td>\n",
       "      <td>0.00</td>\n",
       "    </tr>\n",
       "    <tr>\n",
       "      <th>2012</th>\n",
       "      <td>21,160,338.69</td>\n",
       "      <td>516,335.45</td>\n",
       "      <td>9,703,275.84</td>\n",
       "    </tr>\n",
       "    <tr>\n",
       "      <th>2013</th>\n",
       "      <td>23,643,032.57</td>\n",
       "      <td>520,985.76</td>\n",
       "      <td>9,108,516.82</td>\n",
       "    </tr>\n",
       "    <tr>\n",
       "      <th>2014</th>\n",
       "      <td>24,885,626.79</td>\n",
       "      <td>544,616.97</td>\n",
       "      <td>10,195,686.16</td>\n",
       "    </tr>\n",
       "    <tr>\n",
       "      <th rowspan=\"4\" valign=\"top\">police</th>\n",
       "      <th>2011</th>\n",
       "      <td>266,224,811.51</td>\n",
       "      <td>22,225,776.17</td>\n",
       "      <td>0.00</td>\n",
       "    </tr>\n",
       "    <tr>\n",
       "      <th>2012</th>\n",
       "      <td>184,663,462.87</td>\n",
       "      <td>24,739,129.82</td>\n",
       "      <td>57,429,170.22</td>\n",
       "    </tr>\n",
       "    <tr>\n",
       "      <th>2013</th>\n",
       "      <td>188,938,768.37</td>\n",
       "      <td>24,573,767.45</td>\n",
       "      <td>59,201,909.16</td>\n",
       "    </tr>\n",
       "    <tr>\n",
       "      <th>2014</th>\n",
       "      <td>178,450,786.62</td>\n",
       "      <td>26,684,074.32</td>\n",
       "      <td>61,511,276.28</td>\n",
       "    </tr>\n",
       "  </tbody>\n",
       "</table>\n",
       "</div>"
      ],
      "text/plain": [
       "                       BasePay   OvertimePay      Benefits\n",
       "department Year                                           \n",
       "fire       2011 155,455,383.78 31,898,485.78          0.00\n",
       "           2012 158,263,615.25 40,499,542.12 52,859,030.29\n",
       "           2013 167,153,208.63 43,978,891.99 56,620,946.76\n",
       "           2014 163,458,903.42 38,625,129.76 60,707,949.89\n",
       "medicine   2011  24,714,507.64  1,135,499.38          0.00\n",
       "           2012  21,160,338.69    516,335.45  9,703,275.84\n",
       "           2013  23,643,032.57    520,985.76  9,108,516.82\n",
       "           2014  24,885,626.79    544,616.97 10,195,686.16\n",
       "police     2011 266,224,811.51 22,225,776.17          0.00\n",
       "           2012 184,663,462.87 24,739,129.82 57,429,170.22\n",
       "           2013 188,938,768.37 24,573,767.45 59,201,909.16\n",
       "           2014 178,450,786.62 26,684,074.32 61,511,276.28"
      ]
     },
     "execution_count": 114,
     "metadata": {},
     "output_type": "execute_result"
    }
   ],
   "source": [
    "b = df.groupby(['department', 'Year'])['BasePay', 'OvertimePay','Benefits'].sum()\n",
    "b"
   ]
  },
  {
   "cell_type": "code",
   "execution_count": 115,
   "metadata": {},
   "outputs": [
    {
     "data": {
      "image/png": "[encoded data removed]",
      "text/plain": [
       "<Figure size 720x360 with 1 Axes>"
      ]
     },
     "metadata": {
      "needs_background": "light"
     },
     "output_type": "display_data"
    }
   ],
   "source": [
    "b.plot(kind='bar', stacked=True, figsize=(10, 5))\n",
    "plt.show()"
   ]
  },
  {
   "cell_type": "code",
   "execution_count": 13,
   "metadata": {},
   "outputs": [],
   "source": [
    "#Вариант 3 посроение диаграмм по каждому департаменту отдельно"
   ]
  },
  {
   "cell_type": "code",
   "execution_count": 116,
   "metadata": {},
   "outputs": [
    {
     "name": "stderr",
     "output_type": "stream",
     "text": [
      "C:\\Users\\ILYA\\Anaconda3\\lib\\site-packages\\ipykernel_launcher.py:4: FutureWarning: Indexing with multiple keys (implicitly converted to a tuple of keys) will be deprecated, use a list instead.\n",
      "  after removing the cwd from sys.path.\n",
      "C:\\Users\\ILYA\\Anaconda3\\lib\\site-packages\\ipykernel_launcher.py:5: FutureWarning: Indexing with multiple keys (implicitly converted to a tuple of keys) will be deprecated, use a list instead.\n",
      "  \"\"\"\n",
      "C:\\Users\\ILYA\\Anaconda3\\lib\\site-packages\\ipykernel_launcher.py:6: FutureWarning: Indexing with multiple keys (implicitly converted to a tuple of keys) will be deprecated, use a list instead.\n",
      "  \n"
     ]
    }
   ],
   "source": [
    "df_p = df[df['department'] == 'police']\n",
    "df_m = df[df['department'] == 'medicine']\n",
    "df_f = df[df['department'] == 'fire']\n",
    "f_p = df_p.groupby('Year')['BasePay', 'OvertimePay','Benefits'].sum()\n",
    "f_m = df_m.groupby('Year')['BasePay', 'OvertimePay','Benefits'].sum()\n",
    "f_f = df_f.groupby('Year')['BasePay', 'OvertimePay','Benefits'].sum()"
   ]
  },
  {
   "cell_type": "code",
   "execution_count": 117,
   "metadata": {},
   "outputs": [
    {
     "data": {
      "image/png": "[encoded data removed]",
      "text/plain": [
       "<Figure size 720x360 with 1 Axes>"
      ]
     },
     "metadata": {
      "needs_background": "light"
     },
     "output_type": "display_data"
    },
    {
     "data": {
      "image/png": "[encoded data removed]",
      "text/plain": [
       "<Figure size 720x360 with 1 Axes>"
      ]
     },
     "metadata": {
      "needs_background": "light"
     },
     "output_type": "display_data"
    },
    {
     "data": {
      "image/png": "[encoded data removed]",
      "text/plain": [
       "<Figure size 720x360 with 1 Axes>"
      ]
     },
     "metadata": {
      "needs_background": "light"
     },
     "output_type": "display_data"
    }
   ],
   "source": [
    "f_p.plot(kind='bar', stacked=True, figsize=(10, 5))\n",
    "plt.title('Police')\n",
    "\n",
    "\n",
    "f_m.plot(kind='bar', stacked=True, figsize=(10, 5))\n",
    "plt.title('Medicine')\n",
    "\n",
    "\n",
    "f_f.plot(kind='bar', stacked=True, figsize=(10, 5))\n",
    "plt.title('Fire')\n",
    "plt.show()\n"
   ]
  },
  {
   "cell_type": "code",
   "execution_count": 118,
   "metadata": {},
   "outputs": [
    {
     "data": {
      "text/html": [
       "<div>\n",
       "<style scoped>\n",
       "    .dataframe tbody tr th:only-of-type {\n",
       "        vertical-align: middle;\n",
       "    }\n",
       "\n",
       "    .dataframe tbody tr th {\n",
       "        vertical-align: top;\n",
       "    }\n",
       "\n",
       "    .dataframe thead th {\n",
       "        text-align: right;\n",
       "    }\n",
       "</style>\n",
       "<table border=\"1\" class=\"dataframe\">\n",
       "  <thead>\n",
       "    <tr style=\"text-align: right;\">\n",
       "      <th>Year</th>\n",
       "      <th>2011</th>\n",
       "      <th>2012</th>\n",
       "      <th>2013</th>\n",
       "      <th>2014</th>\n",
       "    </tr>\n",
       "    <tr>\n",
       "      <th>department</th>\n",
       "      <th></th>\n",
       "      <th></th>\n",
       "      <th></th>\n",
       "      <th></th>\n",
       "    </tr>\n",
       "  </thead>\n",
       "  <tbody>\n",
       "    <tr>\n",
       "      <th>fire</th>\n",
       "      <td>211,563,265.94</td>\n",
       "      <td>220,951,340.92</td>\n",
       "      <td>234,417,416.73</td>\n",
       "      <td>224,828,867.39</td>\n",
       "    </tr>\n",
       "    <tr>\n",
       "      <th>medicine</th>\n",
       "      <td>26,921,486.59</td>\n",
       "      <td>22,129,406.34</td>\n",
       "      <td>24,673,510.08</td>\n",
       "      <td>25,937,858.19</td>\n",
       "    </tr>\n",
       "    <tr>\n",
       "      <th>police</th>\n",
       "      <td>319,268,095.21</td>\n",
       "      <td>223,101,452.92</td>\n",
       "      <td>229,526,362.43</td>\n",
       "      <td>220,500,252.80</td>\n",
       "    </tr>\n",
       "  </tbody>\n",
       "</table>\n",
       "</div>"
      ],
      "text/plain": [
       "Year                 2011           2012           2013           2014\n",
       "department                                                            \n",
       "fire       211,563,265.94 220,951,340.92 234,417,416.73 224,828,867.39\n",
       "medicine    26,921,486.59  22,129,406.34  24,673,510.08  25,937,858.19\n",
       "police     319,268,095.21 223,101,452.92 229,526,362.43 220,500,252.80"
      ]
     },
     "execution_count": 118,
     "metadata": {},
     "output_type": "execute_result"
    }
   ],
   "source": [
    "#Ответ на вопрос 3. Как распределяется бюджет на разные группы (department) с течением времени?\n",
    "df.groupby(['department', 'Year']).TotalPay.sum().unstack()"
   ]
  },
  {
   "cell_type": "code",
   "execution_count": 119,
   "metadata": {},
   "outputs": [
    {
     "data": {
      "text/plain": [
       "department\n",
       "fire        5879\n",
       "medicine    1687\n",
       "police      8201\n",
       "Name: EmployeeName, dtype: int64"
      ]
     },
     "execution_count": 119,
     "metadata": {},
     "output_type": "execute_result"
    }
   ],
   "source": [
    "##Ответ на вопрос 4.Какое количество людей в каждом департаменте?\n",
    "\n",
    "df.groupby(['department']).EmployeeName.count()"
   ]
  },
  {
   "cell_type": "code",
   "execution_count": null,
   "metadata": {},
   "outputs": [],
   "source": [
    "###Ответ на вопрос 5.Какое количество с разным уровнем дохода? (гистограмма с шагом в 5к)"
   ]
  },
  {
   "cell_type": "code",
   "execution_count": 120,
   "metadata": {},
   "outputs": [
    {
     "data": {
      "text/plain": [
       "107.781856"
      ]
     },
     "execution_count": 120,
     "metadata": {},
     "output_type": "execute_result"
    }
   ],
   "source": [
    "#Определим количество групп с шагом 5к\n",
    "df['TotalPay'].max() / 5000"
   ]
  },
  {
   "cell_type": "code",
   "execution_count": 122,
   "metadata": {},
   "outputs": [
    {
     "data": {
      "image/png": "[encoded data removed]",
      "text/plain": [
       "<Figure size 1080x720 with 1 Axes>"
      ]
     },
     "metadata": {
      "needs_background": "light"
     },
     "output_type": "display_data"
    }
   ],
   "source": [
    "#построим гистограмму\n",
    "from pylab import rcParams\n",
    "hist_info = plt.hist(df['TotalPay'], bins=108, edgecolor='black')\n",
    "rcParams['figure.figsize'] = 15,10\n",
    "\n",
    "plt.show()"
   ]
  },
  {
   "cell_type": "code",
   "execution_count": 123,
   "metadata": {},
   "outputs": [
    {
     "data": {
      "text/html": [
       "<div>\n",
       "<style scoped>\n",
       "    .dataframe tbody tr th:only-of-type {\n",
       "        vertical-align: middle;\n",
       "    }\n",
       "\n",
       "    .dataframe tbody tr th {\n",
       "        vertical-align: top;\n",
       "    }\n",
       "\n",
       "    .dataframe thead th {\n",
       "        text-align: right;\n",
       "    }\n",
       "</style>\n",
       "<table border=\"1\" class=\"dataframe\">\n",
       "  <thead>\n",
       "    <tr style=\"text-align: right;\">\n",
       "      <th></th>\n",
       "      <th>Id</th>\n",
       "      <th>EmployeeName</th>\n",
       "      <th>JobTitle</th>\n",
       "      <th>BasePay</th>\n",
       "      <th>OvertimePay</th>\n",
       "      <th>OtherPay</th>\n",
       "      <th>Benefits</th>\n",
       "      <th>TotalPay</th>\n",
       "      <th>TotalPayBenefits</th>\n",
       "      <th>Year</th>\n",
       "      <th>department</th>\n",
       "    </tr>\n",
       "  </thead>\n",
       "  <tbody>\n",
       "    <tr>\n",
       "      <th>0</th>\n",
       "      <td>2</td>\n",
       "      <td>GARY JIMENEZ</td>\n",
       "      <td>captain iii (police department)</td>\n",
       "      <td>155,966.02</td>\n",
       "      <td>245,131.88</td>\n",
       "      <td>137,811.38</td>\n",
       "      <td>NaN</td>\n",
       "      <td>538,909.28</td>\n",
       "      <td>538,909.28</td>\n",
       "      <td>2011</td>\n",
       "      <td>police</td>\n",
       "    </tr>\n",
       "    <tr>\n",
       "      <th>1</th>\n",
       "      <td>3</td>\n",
       "      <td>ALBERT PARDINI</td>\n",
       "      <td>captain iii (police department)</td>\n",
       "      <td>212,739.13</td>\n",
       "      <td>106,088.18</td>\n",
       "      <td>16,452.60</td>\n",
       "      <td>NaN</td>\n",
       "      <td>335,279.91</td>\n",
       "      <td>335,279.91</td>\n",
       "      <td>2011</td>\n",
       "      <td>police</td>\n",
       "    </tr>\n",
       "    <tr>\n",
       "      <th>2</th>\n",
       "      <td>5</td>\n",
       "      <td>PATRICK GARDNER</td>\n",
       "      <td>deputy chief of department,(fire department)</td>\n",
       "      <td>134,401.60</td>\n",
       "      <td>9,737.00</td>\n",
       "      <td>182,234.59</td>\n",
       "      <td>NaN</td>\n",
       "      <td>326,373.19</td>\n",
       "      <td>326,373.19</td>\n",
       "      <td>2011</td>\n",
       "      <td>fire</td>\n",
       "    </tr>\n",
       "    <tr>\n",
       "      <th>3</th>\n",
       "      <td>7</td>\n",
       "      <td>ALSON LEE</td>\n",
       "      <td>battalion chief, (fire department)</td>\n",
       "      <td>92,492.01</td>\n",
       "      <td>89,062.90</td>\n",
       "      <td>134,426.14</td>\n",
       "      <td>NaN</td>\n",
       "      <td>315,981.05</td>\n",
       "      <td>315,981.05</td>\n",
       "      <td>2011</td>\n",
       "      <td>fire</td>\n",
       "    </tr>\n",
       "    <tr>\n",
       "      <th>4</th>\n",
       "      <td>9</td>\n",
       "      <td>MICHAEL MORRIS</td>\n",
       "      <td>battalion chief, (fire department)</td>\n",
       "      <td>176,932.64</td>\n",
       "      <td>86,362.68</td>\n",
       "      <td>40,132.23</td>\n",
       "      <td>NaN</td>\n",
       "      <td>303,427.55</td>\n",
       "      <td>303,427.55</td>\n",
       "      <td>2011</td>\n",
       "      <td>fire</td>\n",
       "    </tr>\n",
       "  </tbody>\n",
       "</table>\n",
       "</div>"
      ],
      "text/plain": [
       "   Id     EmployeeName                                      JobTitle  \\\n",
       "0   2     GARY JIMENEZ               captain iii (police department)   \n",
       "1   3   ALBERT PARDINI               captain iii (police department)   \n",
       "2   5  PATRICK GARDNER  deputy chief of department,(fire department)   \n",
       "3   7        ALSON LEE            battalion chief, (fire department)   \n",
       "4   9   MICHAEL MORRIS            battalion chief, (fire department)   \n",
       "\n",
       "     BasePay  OvertimePay   OtherPay  Benefits   TotalPay  TotalPayBenefits  \\\n",
       "0 155,966.02   245,131.88 137,811.38       NaN 538,909.28        538,909.28   \n",
       "1 212,739.13   106,088.18  16,452.60       NaN 335,279.91        335,279.91   \n",
       "2 134,401.60     9,737.00 182,234.59       NaN 326,373.19        326,373.19   \n",
       "3  92,492.01    89,062.90 134,426.14       NaN 315,981.05        315,981.05   \n",
       "4 176,932.64    86,362.68  40,132.23       NaN 303,427.55        303,427.55   \n",
       "\n",
       "   Year department  \n",
       "0  2011     police  \n",
       "1  2011     police  \n",
       "2  2011       fire  \n",
       "3  2011       fire  \n",
       "4  2011       fire  "
      ]
     },
     "execution_count": 123,
     "metadata": {},
     "output_type": "execute_result"
    }
   ],
   "source": [
    "##6.На базе линейной регрессии постройте прогноз по тому, какие будут закупки в следующий год по каждому департаменту\n",
    "\n",
    "df.head()"
   ]
  },
  {
   "cell_type": "code",
   "execution_count": 124,
   "metadata": {},
   "outputs": [
    {
     "data": {
      "text/html": [
       "<div>\n",
       "<style scoped>\n",
       "    .dataframe tbody tr th:only-of-type {\n",
       "        vertical-align: middle;\n",
       "    }\n",
       "\n",
       "    .dataframe tbody tr th {\n",
       "        vertical-align: top;\n",
       "    }\n",
       "\n",
       "    .dataframe thead th {\n",
       "        text-align: right;\n",
       "    }\n",
       "</style>\n",
       "<table border=\"1\" class=\"dataframe\">\n",
       "  <thead>\n",
       "    <tr style=\"text-align: right;\">\n",
       "      <th></th>\n",
       "      <th>Year</th>\n",
       "      <th>BasePay</th>\n",
       "      <th>OvertimePay</th>\n",
       "      <th>OtherPay</th>\n",
       "      <th>Benefits</th>\n",
       "      <th>TotalPay</th>\n",
       "      <th>TotalPayBenefits</th>\n",
       "    </tr>\n",
       "  </thead>\n",
       "  <tbody>\n",
       "    <tr>\n",
       "      <th>0</th>\n",
       "      <td>2011</td>\n",
       "      <td>155,966.02</td>\n",
       "      <td>245,131.88</td>\n",
       "      <td>137,811.38</td>\n",
       "      <td>NaN</td>\n",
       "      <td>538,909.28</td>\n",
       "      <td>538,909.28</td>\n",
       "    </tr>\n",
       "    <tr>\n",
       "      <th>1</th>\n",
       "      <td>2011</td>\n",
       "      <td>212,739.13</td>\n",
       "      <td>106,088.18</td>\n",
       "      <td>16,452.60</td>\n",
       "      <td>NaN</td>\n",
       "      <td>335,279.91</td>\n",
       "      <td>335,279.91</td>\n",
       "    </tr>\n",
       "    <tr>\n",
       "      <th>7</th>\n",
       "      <td>2011</td>\n",
       "      <td>99,722.00</td>\n",
       "      <td>87,082.62</td>\n",
       "      <td>110,804.30</td>\n",
       "      <td>NaN</td>\n",
       "      <td>297,608.92</td>\n",
       "      <td>297,608.92</td>\n",
       "    </tr>\n",
       "    <tr>\n",
       "      <th>9</th>\n",
       "      <td>2011</td>\n",
       "      <td>198,778.01</td>\n",
       "      <td>73,478.20</td>\n",
       "      <td>13,957.65</td>\n",
       "      <td>NaN</td>\n",
       "      <td>286,213.86</td>\n",
       "      <td>286,213.86</td>\n",
       "    </tr>\n",
       "    <tr>\n",
       "      <th>18</th>\n",
       "      <td>2011</td>\n",
       "      <td>256,470.41</td>\n",
       "      <td>0.00</td>\n",
       "      <td>11,522.18</td>\n",
       "      <td>NaN</td>\n",
       "      <td>267,992.59</td>\n",
       "      <td>267,992.59</td>\n",
       "    </tr>\n",
       "  </tbody>\n",
       "</table>\n",
       "</div>"
      ],
      "text/plain": [
       "    Year    BasePay  OvertimePay   OtherPay  Benefits   TotalPay  \\\n",
       "0   2011 155,966.02   245,131.88 137,811.38       NaN 538,909.28   \n",
       "1   2011 212,739.13   106,088.18  16,452.60       NaN 335,279.91   \n",
       "7   2011  99,722.00    87,082.62 110,804.30       NaN 297,608.92   \n",
       "9   2011 198,778.01    73,478.20  13,957.65       NaN 286,213.86   \n",
       "18  2011 256,470.41         0.00  11,522.18       NaN 267,992.59   \n",
       "\n",
       "    TotalPayBenefits  \n",
       "0         538,909.28  \n",
       "1         335,279.91  \n",
       "7         297,608.92  \n",
       "9         286,213.86  \n",
       "18        267,992.59  "
      ]
     },
     "execution_count": 124,
     "metadata": {},
     "output_type": "execute_result"
    }
   ],
   "source": [
    "#прогнозируем по  police department\n",
    "police_df = df[df['department'] == 'police']\n",
    "police_df_copy =police_df[['Year' ,'BasePay', 'OvertimePay', 'OtherPay','Benefits','TotalPay', 'TotalPayBenefits']]\n",
    "police_df_copy.head()\n"
   ]
  },
  {
   "cell_type": "code",
   "execution_count": 125,
   "metadata": {},
   "outputs": [
    {
     "data": {
      "text/html": [
       "<div>\n",
       "<style scoped>\n",
       "    .dataframe tbody tr th:only-of-type {\n",
       "        vertical-align: middle;\n",
       "    }\n",
       "\n",
       "    .dataframe tbody tr th {\n",
       "        vertical-align: top;\n",
       "    }\n",
       "\n",
       "    .dataframe thead th {\n",
       "        text-align: right;\n",
       "    }\n",
       "</style>\n",
       "<table border=\"1\" class=\"dataframe\">\n",
       "  <thead>\n",
       "    <tr style=\"text-align: right;\">\n",
       "      <th></th>\n",
       "      <th>Year</th>\n",
       "      <th>TotalPayBenefits</th>\n",
       "    </tr>\n",
       "  </thead>\n",
       "  <tbody>\n",
       "    <tr>\n",
       "      <th>0</th>\n",
       "      <td>2011</td>\n",
       "      <td>319,268,095.21</td>\n",
       "    </tr>\n",
       "    <tr>\n",
       "      <th>1</th>\n",
       "      <td>2012</td>\n",
       "      <td>280,530,623.14</td>\n",
       "    </tr>\n",
       "    <tr>\n",
       "      <th>2</th>\n",
       "      <td>2013</td>\n",
       "      <td>288,728,271.59</td>\n",
       "    </tr>\n",
       "    <tr>\n",
       "      <th>3</th>\n",
       "      <td>2014</td>\n",
       "      <td>282,011,529.08</td>\n",
       "    </tr>\n",
       "  </tbody>\n",
       "</table>\n",
       "</div>"
      ],
      "text/plain": [
       "   Year  TotalPayBenefits\n",
       "0  2011    319,268,095.21\n",
       "1  2012    280,530,623.14\n",
       "2  2013    288,728,271.59\n",
       "3  2014    282,011,529.08"
      ]
     },
     "execution_count": 125,
     "metadata": {},
     "output_type": "execute_result"
    }
   ],
   "source": [
    "g_p = police_df_copy.groupby(['Year']).TotalPayBenefits.sum().reset_index()\n",
    "g_p"
   ]
  },
  {
   "cell_type": "code",
   "execution_count": 126,
   "metadata": {},
   "outputs": [
    {
     "data": {
      "text/plain": [
       "array([[2011],\n",
       "       [2012],\n",
       "       [2013],\n",
       "       [2014]], dtype=int64)"
      ]
     },
     "execution_count": 126,
     "metadata": {},
     "output_type": "execute_result"
    }
   ],
   "source": [
    "#Поскольку данных для тренировки и предсказания недостаточно, а именно всего 4 периода, принято решение о \n",
    "#построении простой линейной регресии. \n",
    "x_p = g_p['Year'].values.reshape((-1, 1))\n",
    "x_p"
   ]
  },
  {
   "cell_type": "code",
   "execution_count": 127,
   "metadata": {},
   "outputs": [
    {
     "data": {
      "text/plain": [
       "array([3.19268095e+08, 2.80530623e+08, 2.88728272e+08, 2.82011529e+08])"
      ]
     },
     "execution_count": 127,
     "metadata": {},
     "output_type": "execute_result"
    }
   ],
   "source": [
    "y_p = g_p['TotalPayBenefits'].values\n",
    "y_p"
   ]
  },
  {
   "cell_type": "code",
   "execution_count": 128,
   "metadata": {},
   "outputs": [],
   "source": [
    "model = LinearRegression()"
   ]
  },
  {
   "cell_type": "code",
   "execution_count": 129,
   "metadata": {},
   "outputs": [
    {
     "data": {
      "text/plain": [
       "LinearRegression(copy_X=True, fit_intercept=True, n_jobs=None,\n",
       "         normalize=False)"
      ]
     },
     "execution_count": 129,
     "metadata": {},
     "output_type": "execute_result"
    }
   ],
   "source": [
    "model.fit(x_p, y_p)"
   ]
  },
  {
   "cell_type": "code",
   "execution_count": 130,
   "metadata": {},
   "outputs": [
    {
     "name": "stdout",
     "output_type": "stream",
     "text": [
      "coefficient of determination: 0.55\n"
     ]
    }
   ],
   "source": [
    "r_sq = model.score(x_p, y_p)\n",
    "print('coefficient of determination:', r_sq.round(2))"
   ]
  },
  {
   "cell_type": "code",
   "execution_count": 131,
   "metadata": {},
   "outputs": [
    {
     "name": "stdout",
     "output_type": "stream",
     "text": [
      "predicted response: [3.08170437e+08 2.97813232e+08 2.87456027e+08 2.77098822e+08]\n"
     ]
    }
   ],
   "source": [
    "y_p_pred = model.predict(x_p)\n",
    "print('predicted response:', y_p_pred)"
   ]
  },
  {
   "cell_type": "code",
   "execution_count": 132,
   "metadata": {},
   "outputs": [
    {
     "data": {
      "image/png": "[encoded data removed]",
      "text/plain": [
       "<Figure size 1440x648 with 1 Axes>"
      ]
     },
     "metadata": {
      "needs_background": "light"
     },
     "output_type": "display_data"
    }
   ],
   "source": [
    "plt.figure(figsize=(20,9))\n",
    "plt.plot(y_p, \"blue\",linewidth=5, label='Реальные значения')\n",
    "plt.plot(y_p_pred, \"red\",linewidth=5, label='Предсказание')\n",
    "plt.legend(loc='best')\n",
    "plt.title(\"Простая линейная регрессия Police Department\")\n",
    "plt.grid(True)\n",
    "plt.show()"
   ]
  },
  {
   "cell_type": "code",
   "execution_count": 133,
   "metadata": {},
   "outputs": [
    {
     "name": "stdout",
     "output_type": "stream",
     "text": [
      "Прогноз расходов Police Department на 2015 г. на основании простой линейной регрессии: 266741617.27\n"
     ]
    }
   ],
   "source": [
    "x1_p = np.array([2015]).reshape(1, -1)\n",
    "y_p_pred = model.predict(x1_p)\n",
    "print('Прогноз расходов Police Department на 2015 г. на основании простой линейной регрессии:', y_p_pred[0].round(2))"
   ]
  },
  {
   "cell_type": "code",
   "execution_count": 134,
   "metadata": {},
   "outputs": [
    {
     "data": {
      "text/html": [
       "<div>\n",
       "<style scoped>\n",
       "    .dataframe tbody tr th:only-of-type {\n",
       "        vertical-align: middle;\n",
       "    }\n",
       "\n",
       "    .dataframe tbody tr th {\n",
       "        vertical-align: top;\n",
       "    }\n",
       "\n",
       "    .dataframe thead th {\n",
       "        text-align: right;\n",
       "    }\n",
       "</style>\n",
       "<table border=\"1\" class=\"dataframe\">\n",
       "  <thead>\n",
       "    <tr style=\"text-align: right;\">\n",
       "      <th></th>\n",
       "      <th>Year</th>\n",
       "      <th>BasePay</th>\n",
       "      <th>OvertimePay</th>\n",
       "      <th>OtherPay</th>\n",
       "      <th>Benefits</th>\n",
       "      <th>TotalPay</th>\n",
       "      <th>TotalPayBenefits</th>\n",
       "    </tr>\n",
       "  </thead>\n",
       "  <tbody>\n",
       "    <tr>\n",
       "      <th>2</th>\n",
       "      <td>2011</td>\n",
       "      <td>134,401.60</td>\n",
       "      <td>9,737.00</td>\n",
       "      <td>182,234.59</td>\n",
       "      <td>NaN</td>\n",
       "      <td>326,373.19</td>\n",
       "      <td>326,373.19</td>\n",
       "    </tr>\n",
       "    <tr>\n",
       "      <th>3</th>\n",
       "      <td>2011</td>\n",
       "      <td>92,492.01</td>\n",
       "      <td>89,062.90</td>\n",
       "      <td>134,426.14</td>\n",
       "      <td>NaN</td>\n",
       "      <td>315,981.05</td>\n",
       "      <td>315,981.05</td>\n",
       "    </tr>\n",
       "    <tr>\n",
       "      <th>4</th>\n",
       "      <td>2011</td>\n",
       "      <td>176,932.64</td>\n",
       "      <td>86,362.68</td>\n",
       "      <td>40,132.23</td>\n",
       "      <td>NaN</td>\n",
       "      <td>303,427.55</td>\n",
       "      <td>303,427.55</td>\n",
       "    </tr>\n",
       "    <tr>\n",
       "      <th>5</th>\n",
       "      <td>2011</td>\n",
       "      <td>285,262.00</td>\n",
       "      <td>0.00</td>\n",
       "      <td>17,115.73</td>\n",
       "      <td>NaN</td>\n",
       "      <td>302,377.73</td>\n",
       "      <td>302,377.73</td>\n",
       "    </tr>\n",
       "    <tr>\n",
       "      <th>6</th>\n",
       "      <td>2011</td>\n",
       "      <td>194,999.39</td>\n",
       "      <td>71,344.88</td>\n",
       "      <td>33,149.90</td>\n",
       "      <td>NaN</td>\n",
       "      <td>299,494.17</td>\n",
       "      <td>299,494.17</td>\n",
       "    </tr>\n",
       "  </tbody>\n",
       "</table>\n",
       "</div>"
      ],
      "text/plain": [
       "   Year    BasePay  OvertimePay   OtherPay  Benefits   TotalPay  \\\n",
       "2  2011 134,401.60     9,737.00 182,234.59       NaN 326,373.19   \n",
       "3  2011  92,492.01    89,062.90 134,426.14       NaN 315,981.05   \n",
       "4  2011 176,932.64    86,362.68  40,132.23       NaN 303,427.55   \n",
       "5  2011 285,262.00         0.00  17,115.73       NaN 302,377.73   \n",
       "6  2011 194,999.39    71,344.88  33,149.90       NaN 299,494.17   \n",
       "\n",
       "   TotalPayBenefits  \n",
       "2        326,373.19  \n",
       "3        315,981.05  \n",
       "4        303,427.55  \n",
       "5        302,377.73  \n",
       "6        299,494.17  "
      ]
     },
     "execution_count": 134,
     "metadata": {},
     "output_type": "execute_result"
    }
   ],
   "source": [
    "#аналогично прогнозируем по fire department\n",
    "fire_df = df[df['department'] == 'fire']\n",
    "fire_df_copy =fire_df[['Year' ,'BasePay', 'OvertimePay', 'OtherPay','Benefits','TotalPay', 'TotalPayBenefits']]\n",
    "fire_df_copy.head()"
   ]
  },
  {
   "cell_type": "code",
   "execution_count": 135,
   "metadata": {},
   "outputs": [
    {
     "data": {
      "text/html": [
       "<div>\n",
       "<style scoped>\n",
       "    .dataframe tbody tr th:only-of-type {\n",
       "        vertical-align: middle;\n",
       "    }\n",
       "\n",
       "    .dataframe tbody tr th {\n",
       "        vertical-align: top;\n",
       "    }\n",
       "\n",
       "    .dataframe thead th {\n",
       "        text-align: right;\n",
       "    }\n",
       "</style>\n",
       "<table border=\"1\" class=\"dataframe\">\n",
       "  <thead>\n",
       "    <tr style=\"text-align: right;\">\n",
       "      <th></th>\n",
       "      <th>Year</th>\n",
       "      <th>TotalPayBenefits</th>\n",
       "    </tr>\n",
       "  </thead>\n",
       "  <tbody>\n",
       "    <tr>\n",
       "      <th>0</th>\n",
       "      <td>2011</td>\n",
       "      <td>211,563,265.94</td>\n",
       "    </tr>\n",
       "    <tr>\n",
       "      <th>1</th>\n",
       "      <td>2012</td>\n",
       "      <td>273,810,371.21</td>\n",
       "    </tr>\n",
       "    <tr>\n",
       "      <th>2</th>\n",
       "      <td>2013</td>\n",
       "      <td>291,038,363.49</td>\n",
       "    </tr>\n",
       "    <tr>\n",
       "      <th>3</th>\n",
       "      <td>2014</td>\n",
       "      <td>285,536,817.28</td>\n",
       "    </tr>\n",
       "  </tbody>\n",
       "</table>\n",
       "</div>"
      ],
      "text/plain": [
       "   Year  TotalPayBenefits\n",
       "0  2011    211,563,265.94\n",
       "1  2012    273,810,371.21\n",
       "2  2013    291,038,363.49\n",
       "3  2014    285,536,817.28"
      ]
     },
     "execution_count": 135,
     "metadata": {},
     "output_type": "execute_result"
    }
   ],
   "source": [
    "g_f = fire_df_copy.groupby(['Year']).TotalPayBenefits.sum().reset_index()\n",
    "g_f"
   ]
  },
  {
   "cell_type": "code",
   "execution_count": 136,
   "metadata": {},
   "outputs": [],
   "source": [
    "x_f = g_f['Year'].values.reshape((-1, 1))\n",
    "y_f = g_f['TotalPayBenefits'].values"
   ]
  },
  {
   "cell_type": "code",
   "execution_count": 137,
   "metadata": {},
   "outputs": [
    {
     "data": {
      "text/plain": [
       "LinearRegression(copy_X=True, fit_intercept=True, n_jobs=None,\n",
       "         normalize=False)"
      ]
     },
     "execution_count": 137,
     "metadata": {},
     "output_type": "execute_result"
    }
   ],
   "source": [
    "model.fit(x_f, y_f)"
   ]
  },
  {
   "cell_type": "code",
   "execution_count": 138,
   "metadata": {},
   "outputs": [
    {
     "name": "stdout",
     "output_type": "stream",
     "text": [
      "coefficient of determination: 0.71\n"
     ]
    }
   ],
   "source": [
    "r_sq = model.score(x_f, y_f)\n",
    "print('coefficient of determination:', r_sq.round(2))"
   ]
  },
  {
   "cell_type": "code",
   "execution_count": 139,
   "metadata": {},
   "outputs": [
    {
     "name": "stdout",
     "output_type": "stream",
     "text": [
      "predicted response: [2.29614908e+08 2.53529772e+08 2.77444637e+08 3.01359501e+08]\n"
     ]
    }
   ],
   "source": [
    "y_f_pred = model.predict(x_f)\n",
    "print('predicted response:', y_f_pred)"
   ]
  },
  {
   "cell_type": "code",
   "execution_count": 140,
   "metadata": {},
   "outputs": [
    {
     "data": {
      "image/png": "[encoded data removed]",
      "text/plain": [
       "<Figure size 1440x648 with 1 Axes>"
      ]
     },
     "metadata": {
      "needs_background": "light"
     },
     "output_type": "display_data"
    }
   ],
   "source": [
    "plt.figure(figsize=(20,9))\n",
    "plt.plot(y_f, \"blue\",linewidth=5, label='Реальные значения')\n",
    "plt.plot(y_f_pred, \"red\",linewidth=5, label='Предсказание')\n",
    "plt.legend(loc='best')\n",
    "plt.title(\"Простая линейная регрессия Fire Department\")\n",
    "plt.grid(True)\n",
    "plt.show()"
   ]
  },
  {
   "cell_type": "code",
   "execution_count": 142,
   "metadata": {},
   "outputs": [
    {
     "name": "stdout",
     "output_type": "stream",
     "text": [
      "Прогноз расходов Fire Department на 2015 г. на основании простой линейной регрессии: 325274366.06\n"
     ]
    }
   ],
   "source": [
    "x1_f = np.array([2015]).reshape(1, -1)\n",
    "y_f_pred = model.predict(x1_f)\n",
    "print('Прогноз расходов Fire Department на 2015 г. на основании простой линейной регрессии:', y_f_pred[0].round(2))"
   ]
  },
  {
   "cell_type": "code",
   "execution_count": 143,
   "metadata": {},
   "outputs": [
    {
     "data": {
      "text/html": [
       "<div>\n",
       "<style scoped>\n",
       "    .dataframe tbody tr th:only-of-type {\n",
       "        vertical-align: middle;\n",
       "    }\n",
       "\n",
       "    .dataframe tbody tr th {\n",
       "        vertical-align: top;\n",
       "    }\n",
       "\n",
       "    .dataframe thead th {\n",
       "        text-align: right;\n",
       "    }\n",
       "</style>\n",
       "<table border=\"1\" class=\"dataframe\">\n",
       "  <thead>\n",
       "    <tr style=\"text-align: right;\">\n",
       "      <th></th>\n",
       "      <th>Year</th>\n",
       "      <th>BasePay</th>\n",
       "      <th>OvertimePay</th>\n",
       "      <th>OtherPay</th>\n",
       "      <th>Benefits</th>\n",
       "      <th>TotalPay</th>\n",
       "      <th>TotalPayBenefits</th>\n",
       "    </tr>\n",
       "  </thead>\n",
       "  <tbody>\n",
       "    <tr>\n",
       "      <th>10</th>\n",
       "      <td>2011</td>\n",
       "      <td>140,546.87</td>\n",
       "      <td>119,397.26</td>\n",
       "      <td>18,625.08</td>\n",
       "      <td>NaN</td>\n",
       "      <td>278,569.21</td>\n",
       "      <td>278,569.21</td>\n",
       "    </tr>\n",
       "    <tr>\n",
       "      <th>12</th>\n",
       "      <td>2011</td>\n",
       "      <td>257,510.59</td>\n",
       "      <td>880.16</td>\n",
       "      <td>16,159.50</td>\n",
       "      <td>NaN</td>\n",
       "      <td>274,550.25</td>\n",
       "      <td>274,550.25</td>\n",
       "    </tr>\n",
       "    <tr>\n",
       "      <th>13</th>\n",
       "      <td>2011</td>\n",
       "      <td>257,510.48</td>\n",
       "      <td>0.00</td>\n",
       "      <td>16,679.79</td>\n",
       "      <td>NaN</td>\n",
       "      <td>274,190.27</td>\n",
       "      <td>274,190.27</td>\n",
       "    </tr>\n",
       "    <tr>\n",
       "      <th>14</th>\n",
       "      <td>2011</td>\n",
       "      <td>257,510.44</td>\n",
       "      <td>377.21</td>\n",
       "      <td>15,883.56</td>\n",
       "      <td>NaN</td>\n",
       "      <td>273,771.21</td>\n",
       "      <td>273,771.21</td>\n",
       "    </tr>\n",
       "    <tr>\n",
       "      <th>26</th>\n",
       "      <td>2011</td>\n",
       "      <td>245,124.44</td>\n",
       "      <td>0.00</td>\n",
       "      <td>12,000.00</td>\n",
       "      <td>NaN</td>\n",
       "      <td>257,124.44</td>\n",
       "      <td>257,124.44</td>\n",
       "    </tr>\n",
       "  </tbody>\n",
       "</table>\n",
       "</div>"
      ],
      "text/plain": [
       "    Year    BasePay  OvertimePay  OtherPay  Benefits   TotalPay  \\\n",
       "10  2011 140,546.87   119,397.26 18,625.08       NaN 278,569.21   \n",
       "12  2011 257,510.59       880.16 16,159.50       NaN 274,550.25   \n",
       "13  2011 257,510.48         0.00 16,679.79       NaN 274,190.27   \n",
       "14  2011 257,510.44       377.21 15,883.56       NaN 273,771.21   \n",
       "26  2011 245,124.44         0.00 12,000.00       NaN 257,124.44   \n",
       "\n",
       "    TotalPayBenefits  \n",
       "10        278,569.21  \n",
       "12        274,550.25  \n",
       "13        274,190.27  \n",
       "14        273,771.21  \n",
       "26        257,124.44  "
      ]
     },
     "execution_count": 143,
     "metadata": {},
     "output_type": "execute_result"
    }
   ],
   "source": [
    "# прогнозируем по medical department\n",
    "medical_df = df[df['department'] == 'medicine']\n",
    "medical_df_copy =medical_df[['Year' ,'BasePay', 'OvertimePay', 'OtherPay','Benefits','TotalPay', 'TotalPayBenefits']]\n",
    "medical_df_copy.head()"
   ]
  },
  {
   "cell_type": "code",
   "execution_count": 144,
   "metadata": {},
   "outputs": [
    {
     "data": {
      "text/html": [
       "<div>\n",
       "<style scoped>\n",
       "    .dataframe tbody tr th:only-of-type {\n",
       "        vertical-align: middle;\n",
       "    }\n",
       "\n",
       "    .dataframe tbody tr th {\n",
       "        vertical-align: top;\n",
       "    }\n",
       "\n",
       "    .dataframe thead th {\n",
       "        text-align: right;\n",
       "    }\n",
       "</style>\n",
       "<table border=\"1\" class=\"dataframe\">\n",
       "  <thead>\n",
       "    <tr style=\"text-align: right;\">\n",
       "      <th></th>\n",
       "      <th>Year</th>\n",
       "      <th>TotalPayBenefits</th>\n",
       "    </tr>\n",
       "  </thead>\n",
       "  <tbody>\n",
       "    <tr>\n",
       "      <th>0</th>\n",
       "      <td>2011</td>\n",
       "      <td>26,921,486.59</td>\n",
       "    </tr>\n",
       "    <tr>\n",
       "      <th>1</th>\n",
       "      <td>2012</td>\n",
       "      <td>31,832,682.18</td>\n",
       "    </tr>\n",
       "    <tr>\n",
       "      <th>2</th>\n",
       "      <td>2013</td>\n",
       "      <td>33,782,026.90</td>\n",
       "    </tr>\n",
       "    <tr>\n",
       "      <th>3</th>\n",
       "      <td>2014</td>\n",
       "      <td>36,133,544.35</td>\n",
       "    </tr>\n",
       "  </tbody>\n",
       "</table>\n",
       "</div>"
      ],
      "text/plain": [
       "   Year  TotalPayBenefits\n",
       "0  2011     26,921,486.59\n",
       "1  2012     31,832,682.18\n",
       "2  2013     33,782,026.90\n",
       "3  2014     36,133,544.35"
      ]
     },
     "execution_count": 144,
     "metadata": {},
     "output_type": "execute_result"
    }
   ],
   "source": [
    "g_m = medical_df_copy.groupby(['Year']).TotalPayBenefits.sum().reset_index()\n",
    "g_m"
   ]
  },
  {
   "cell_type": "code",
   "execution_count": 145,
   "metadata": {},
   "outputs": [],
   "source": [
    "x_m = g_m['Year'].values.reshape((-1, 1))\n",
    "y_m = g_m['TotalPayBenefits'].values"
   ]
  },
  {
   "cell_type": "code",
   "execution_count": 147,
   "metadata": {},
   "outputs": [
    {
     "data": {
      "text/plain": [
       "LinearRegression(copy_X=True, fit_intercept=True, n_jobs=None,\n",
       "         normalize=False)"
      ]
     },
     "execution_count": 147,
     "metadata": {},
     "output_type": "execute_result"
    }
   ],
   "source": [
    "model.fit(x_m, y_m)"
   ]
  },
  {
   "cell_type": "code",
   "execution_count": 148,
   "metadata": {},
   "outputs": [
    {
     "name": "stdout",
     "output_type": "stream",
     "text": [
      "coefficient of determination: 0.95\n"
     ]
    }
   ],
   "source": [
    "r_sq = model.score(x_m, y_m)\n",
    "print('coefficient of determination:', r_sq.round(2))"
   ]
  },
  {
   "cell_type": "code",
   "execution_count": 149,
   "metadata": {},
   "outputs": [
    {
     "name": "stdout",
     "output_type": "stream",
     "text": [
      "predicted response: [27729607.3 30688159.1 33646710.9 36605262.7]\n"
     ]
    }
   ],
   "source": [
    "y_m_pred = model.predict(x_m)\n",
    "print('predicted response:', y_m_pred.round(2))"
   ]
  },
  {
   "cell_type": "code",
   "execution_count": 150,
   "metadata": {},
   "outputs": [
    {
     "data": {
      "image/png": "[encoded data removed]",
      "text/plain": [
       "<Figure size 1440x648 with 1 Axes>"
      ]
     },
     "metadata": {
      "needs_background": "light"
     },
     "output_type": "display_data"
    }
   ],
   "source": [
    "plt.figure(figsize=(20,9))\n",
    "plt.plot(y_m, \"blue\",linewidth=5, label='Реальные значения')\n",
    "plt.plot(y_m_pred, \"red\",linewidth=5, label='Предсказание')\n",
    "plt.legend(loc='best')\n",
    "plt.title(\"Простая линейная регрессия Medical Department\")\n",
    "plt.grid(True)\n",
    "plt.show()"
   ]
  },
  {
   "cell_type": "code",
   "execution_count": 151,
   "metadata": {},
   "outputs": [
    {
     "name": "stdout",
     "output_type": "stream",
     "text": [
      "Прогноз расходов Medical Department на 2015 г. на основании простой линейной регрессии: 39563814.51\n"
     ]
    }
   ],
   "source": [
    "x1_m = np.array([2015]).reshape(1, -1)\n",
    "y_m_pred = model.predict(x1_m)\n",
    "print('Прогноз расходов Medical Department на 2015 г. на основании простой линейной регрессии:', y_m_pred[0].round(2))"
   ]
  },
  {
   "cell_type": "code",
   "execution_count": null,
   "metadata": {},
   "outputs": [],
   "source": []
  }
 ],
 "metadata": {
  "kernelspec": {
   "display_name": "Python 3",
   "language": "python",
   "name": "python3"
  },
  "language_info": {
   "codemirror_mode": {
    "name": "ipython",
    "version": 3
   },
   "file_extension": ".py",
   "mimetype": "text/x-python",
   "name": "python",
   "nbconvert_exporter": "python",
   "pygments_lexer": "ipython3",
   "version": "3.7.1"
  }
 },
 "nbformat": 4,
 "nbformat_minor": 2
}
